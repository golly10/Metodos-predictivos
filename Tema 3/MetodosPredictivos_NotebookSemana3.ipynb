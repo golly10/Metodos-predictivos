{
  "cells": [
    {
      "cell_type": "markdown",
      "metadata": {
        "id": "vk9mtJJOegTX"
      },
      "source": [
        "# Clasificación en scikit-learn. Entrenamiento y evaluación de un clasificador bayesiano.\n",
        "En este notebook aprenderás a generar un primer clasificador en python usando *scikit-learn*. Veremos cómo entrenar un clasificador Naïve Bayes con conjuntos de datos tanto de atributos categóricos como de atributos reales. Además, entrenaremos y compararemos el resultado con otros métodos, como la Regresión Logística.\n",
        "\n",
        "Posteriormente, se evaluarán los modelos respecto a varias métricas de evaluación en clasificación, utilizando distintos métodos como *hold-out* y *k-fold cross-validation*.\n",
        "\n",
        "Es recomendable tener en todo momento disponible la [Guía de usuario](https://scikit-learn.org/stable/user_guide.html) o la documentación de la [API](https://scikit-learn.org/stable/modules/classes.html) de *scikit-learn*."
      ]
    },
    {
      "cell_type": "markdown",
      "metadata": {
        "id": "h3dHp9YUe8RD"
      },
      "source": [
        "## 1.   Naïve Bayes con atributos categóricos\n",
        "\n",
        "En primer lugar, vamos a entrenar un clasificador bayesiano (Naïve Bayes) utilizando un conjunto de datos donde los atributos son categóricos, es decir, cada uno puede tomar un valor de entre un conjunto de valores predefinidos. Este método es el visto en el material disponible para esta lección.\n",
        "\n",
        "Para ello, primero cargaremos el dataset [*vote*](https://www.openml.org/d/56) disponible en la base de datos *OpenML*. Posteriormente, asignaremos en la variable ``X`` los atributos de entrada, y la variable de salida en ``y``.\n"
      ]
    },
    {
      "cell_type": "code",
      "execution_count": 1,
      "metadata": {
        "id": "4Zb8ISLewbTH"
      },
      "outputs": [
        {
          "name": "stdout",
          "output_type": "stream",
          "text": [
            "    handicapped-infants water-project-cost-sharing  \\\n",
            "0                     0                          1   \n",
            "1                     0                          1   \n",
            "2                   NaN                          1   \n",
            "3                     0                          1   \n",
            "4                     1                          1   \n",
            "..                  ...                        ...   \n",
            "430                   0                          0   \n",
            "431                   0                          0   \n",
            "432                   0                        NaN   \n",
            "433                   0                          0   \n",
            "434                   0                          1   \n",
            "\n",
            "    adoption-of-the-budget-resolution physician-fee-freeze el-salvador-aid  \\\n",
            "0                                   0                    1               1   \n",
            "1                                   0                    1               1   \n",
            "2                                   1                  NaN               1   \n",
            "3                                   1                    0             NaN   \n",
            "4                                   1                    0               1   \n",
            "..                                ...                  ...             ...   \n",
            "430                                 1                    1               1   \n",
            "431                                 1                    0               0   \n",
            "432                                 0                    1               1   \n",
            "433                                 0                    1               1   \n",
            "434                                 0                    1               1   \n",
            "\n",
            "    religious-groups-in-schools anti-satellite-test-ban  \\\n",
            "0                             1                       0   \n",
            "1                             1                       0   \n",
            "2                             1                       0   \n",
            "3                             1                       0   \n",
            "4                             1                       0   \n",
            "..                          ...                     ...   \n",
            "430                           1                       0   \n",
            "431                           0                       1   \n",
            "432                           1                       0   \n",
            "433                           1                     NaN   \n",
            "434                           1                       0   \n",
            "\n",
            "    aid-to-nicaraguan-contras mx-missile immigration  \\\n",
            "0                           0          0           1   \n",
            "1                           0          0           0   \n",
            "2                           0          0           0   \n",
            "3                           0          0           0   \n",
            "4                           0          0           0   \n",
            "..                        ...        ...         ...   \n",
            "430                         0          1           1   \n",
            "431                         1          1           1   \n",
            "432                         0          0           0   \n",
            "433                       NaN        NaN         NaN   \n",
            "434                         0          0           1   \n",
            "\n",
            "    synfuels-corporation-cutback education-spending superfund-right-to-sue  \\\n",
            "0                            NaN                  1                      1   \n",
            "1                              0                  1                      1   \n",
            "2                              1                  0                      1   \n",
            "3                              1                  0                      1   \n",
            "4                              1                NaN                      1   \n",
            "..                           ...                ...                    ...   \n",
            "430                            0                  1                      1   \n",
            "431                            0                  0                      0   \n",
            "432                            1                  1                      1   \n",
            "433                            0                  1                      1   \n",
            "434                            0                  1                      1   \n",
            "\n",
            "    crime duty-free-exports export-administration-act-south-africa  \n",
            "0       1                 0                                      1  \n",
            "1       1                 0                                    NaN  \n",
            "2       1                 0                                      0  \n",
            "3       0                 0                                      1  \n",
            "4       1                 1                                      1  \n",
            "..    ...               ...                                    ...  \n",
            "430     1                 0                                      1  \n",
            "431     0                 0                                      1  \n",
            "432     1                 0                                      1  \n",
            "433     1                 0                                      1  \n",
            "434     1               NaN                                      0  \n",
            "\n",
            "[435 rows x 16 columns]\n"
          ]
        }
      ],
      "source": [
        "from sklearn.datasets import fetch_openml\n",
        "\n",
        "# Cargar datos y guardar en variables X e y\n",
        "vote = fetch_openml(name='vote')\n",
        "X_vote = vote.data\n",
        "y_vote = vote.target\n",
        "\n",
        "# ACTUALIZACION (03/02/2022)\n",
        "# Convertimos los valores categóricos a valores numéricos para que el método pueda tratar con ellos\n",
        "# Sin embargo, como se verá posteriormente, seguirá tratándolos como valores categóricos\n",
        "X_vote = X_vote.replace('n', 0)\n",
        "X_vote = X_vote.replace('y', 1)\n",
        "\n",
        "print(X_vote)"
      ]
    },
    {
      "cell_type": "markdown",
      "metadata": {
        "id": "TlPHHIEXyfXv"
      },
      "source": [
        "Dado que este conjunto de datos tiene valores perdidos, y que el método Naïve Bayes que utilizaremos no es capar de lidiar con dichos conjuntos de datos, en primer lugar vamos a rellenar dichos valores perdidos.\n",
        "\n",
        "No es el objetivo de este notebook o este curso introducir a los métodos de imputación de valores perdidos, y únicamente lo utilizaremos para poder utilizar los datos posterioremente cargados.\n",
        "\n",
        "Para más información acerca del método de imputación utilizado: https://scikit-learn.org/stable/modules/generated/sklearn.impute.SimpleImputer.html"
      ]
    },
    {
      "cell_type": "code",
      "execution_count": 2,
      "metadata": {
        "id": "j39vAhZGwnkG"
      },
      "outputs": [
        {
          "name": "stdout",
          "output_type": "stream",
          "text": [
            "    handicapped-infants water-project-cost-sharing  \\\n",
            "0                   0.0                        1.0   \n",
            "1                   0.0                        1.0   \n",
            "2                   0.0                        1.0   \n",
            "3                   0.0                        1.0   \n",
            "4                   1.0                        1.0   \n",
            "..                  ...                        ...   \n",
            "430                 0.0                        0.0   \n",
            "431                 0.0                        0.0   \n",
            "432                 0.0                        1.0   \n",
            "433                 0.0                        0.0   \n",
            "434                 0.0                        1.0   \n",
            "\n",
            "    adoption-of-the-budget-resolution physician-fee-freeze el-salvador-aid  \\\n",
            "0                                 0.0                  1.0             1.0   \n",
            "1                                 0.0                  1.0             1.0   \n",
            "2                                 1.0                  0.0             1.0   \n",
            "3                                 1.0                  0.0             1.0   \n",
            "4                                 1.0                  0.0             1.0   \n",
            "..                                ...                  ...             ...   \n",
            "430                               1.0                  1.0             1.0   \n",
            "431                               1.0                  0.0             0.0   \n",
            "432                               0.0                  1.0             1.0   \n",
            "433                               0.0                  1.0             1.0   \n",
            "434                               0.0                  1.0             1.0   \n",
            "\n",
            "    religious-groups-in-schools anti-satellite-test-ban  \\\n",
            "0                           1.0                     0.0   \n",
            "1                           1.0                     0.0   \n",
            "2                           1.0                     0.0   \n",
            "3                           1.0                     0.0   \n",
            "4                           1.0                     0.0   \n",
            "..                          ...                     ...   \n",
            "430                         1.0                     0.0   \n",
            "431                         0.0                     1.0   \n",
            "432                         1.0                     0.0   \n",
            "433                         1.0                     1.0   \n",
            "434                         1.0                     0.0   \n",
            "\n",
            "    aid-to-nicaraguan-contras mx-missile immigration  \\\n",
            "0                         0.0        0.0         1.0   \n",
            "1                         0.0        0.0         0.0   \n",
            "2                         0.0        0.0         0.0   \n",
            "3                         0.0        0.0         0.0   \n",
            "4                         0.0        0.0         0.0   \n",
            "..                        ...        ...         ...   \n",
            "430                       0.0        1.0         1.0   \n",
            "431                       1.0        1.0         1.0   \n",
            "432                       0.0        0.0         0.0   \n",
            "433                       1.0        1.0         1.0   \n",
            "434                       0.0        0.0         1.0   \n",
            "\n",
            "    synfuels-corporation-cutback education-spending superfund-right-to-sue  \\\n",
            "0                            0.0                1.0                    1.0   \n",
            "1                            0.0                1.0                    1.0   \n",
            "2                            1.0                0.0                    1.0   \n",
            "3                            1.0                0.0                    1.0   \n",
            "4                            1.0                0.0                    1.0   \n",
            "..                           ...                ...                    ...   \n",
            "430                          0.0                1.0                    1.0   \n",
            "431                          0.0                0.0                    0.0   \n",
            "432                          1.0                1.0                    1.0   \n",
            "433                          0.0                1.0                    1.0   \n",
            "434                          0.0                1.0                    1.0   \n",
            "\n",
            "    crime duty-free-exports export-administration-act-south-africa  \n",
            "0     1.0               0.0                                    1.0  \n",
            "1     1.0               0.0                                    1.0  \n",
            "2     1.0               0.0                                    0.0  \n",
            "3     0.0               0.0                                    1.0  \n",
            "4     1.0               1.0                                    1.0  \n",
            "..    ...               ...                                    ...  \n",
            "430   1.0               0.0                                    1.0  \n",
            "431   0.0               0.0                                    1.0  \n",
            "432   1.0               0.0                                    1.0  \n",
            "433   1.0               0.0                                    1.0  \n",
            "434   1.0               0.0                                    0.0  \n",
            "\n",
            "[435 rows x 16 columns]\n",
            "handicapped-infants                       category\n",
            "water-project-cost-sharing                category\n",
            "adoption-of-the-budget-resolution         category\n",
            "physician-fee-freeze                      category\n",
            "el-salvador-aid                           category\n",
            "religious-groups-in-schools               category\n",
            "anti-satellite-test-ban                   category\n",
            "aid-to-nicaraguan-contras                 category\n",
            "mx-missile                                category\n",
            "immigration                               category\n",
            "synfuels-corporation-cutback              category\n",
            "education-spending                        category\n",
            "superfund-right-to-sue                    category\n",
            "crime                                     category\n",
            "duty-free-exports                         category\n",
            "export-administration-act-south-africa    category\n",
            "dtype: object\n"
          ]
        }
      ],
      "source": [
        "from sklearn.impute import SimpleImputer\n",
        "import pandas as pd\n",
        "\n",
        "# Imputar valores perdidos para poder trabajar con el conjunto de datos\n",
        "# ACTUALIZACION (03/02/2022)\n",
        "# Se utiliza SimpleImputer en lugar de KNNImputer, por simplicidad; imputa el valor más frecuente en cada columna\n",
        "#   (Cabe destacar que no es el método más apropiado, pero solo queremos en este caso poder ejecutar)\n",
        "imputer = SimpleImputer(strategy='most_frequent')\n",
        "\n",
        "imputer.fit(X_vote)\n",
        "cols = X_vote.columns\n",
        "X_vote = pd.DataFrame(imputer.transform(X_vote), columns = cols, dtype='category')\n",
        "\n",
        "print(X_vote)\n",
        "print(X_vote.dtypes)"
      ]
    },
    {
      "cell_type": "markdown",
      "metadata": {
        "id": "L9uogdzH0xzC"
      },
      "source": [
        "Una vez que tenemos nuestros preparados para poder utilizarlos, en primer lugar vamos a hacer una partición en hold-out de los datos. Así, tendremos una partición de datos de entrenamiento, con la que estimaremos los parámetros del modelo, y otra partición de test, con la que lo evaluaremos.\n",
        "\n",
        "Para ello, utilizamos la función ``train_test_split``, que recibe: los datos a particionar (podría ser un único conjunto, o varios, como en este caso las variables ``X`` y ``y``; el ratio de instancias (entre 0 y 1) que se utilizarán en el conjunto de test; y el valor para la semilla aleatoria, de modo que siempre que lo ejecutemos obtengamos el mismo resultado.\n",
        "\n",
        "En este caso, estamos dividiendo los datos en 70% para entrenamiento y 30% para test."
      ]
    },
    {
      "cell_type": "code",
      "execution_count": 3,
      "metadata": {
        "id": "VYJRwCsi1gM2"
      },
      "outputs": [
        {
          "name": "stdout",
          "output_type": "stream",
          "text": [
            "Tamaño de los conjuntos de entrenamiento y test\n",
            "  Entrenamiento: (304, 16)\n",
            "  Test: (131, 16)\n"
          ]
        }
      ],
      "source": [
        "from sklearn.model_selection import train_test_split\n",
        "\n",
        "X_vote_train, X_vote_test, y_vote_train, y_vote_test = train_test_split(X_vote, y_vote, \n",
        "                                                                        test_size=0.3, \n",
        "                                                                        random_state=0)\n",
        "\n",
        "print('Tamaño de los conjuntos de entrenamiento y test')\n",
        "print('  Entrenamiento: ' + str(X_vote_train.shape))\n",
        "print('  Test: ' + str(X_vote_test.shape))"
      ]
    },
    {
      "cell_type": "markdown",
      "metadata": {
        "id": "IAf6pB392MO5"
      },
      "source": [
        "Una vez disponemos de los datos para entrenar nuestro modelo, vamos a entrenar un clasificador [Naïve Bayes Categórico](https://scikit-learn.org/stable/modules/generated/sklearn.naive_bayes.CategoricalNB.html), que es el estudiado en hasta el momento, para clasificación con variables discretas o categóricas."
      ]
    },
    {
      "cell_type": "code",
      "execution_count": 4,
      "metadata": {
        "id": "cmQti0TS2Fw0"
      },
      "outputs": [],
      "source": [
        "# ACTUALIZACION (03/02/2022)\n",
        "# Se utiliza CategoricalNB, para tratar las variables como categóricas\n",
        "#   (es decir, aunque ahora tengamos valores 0,1, los tomará como categóricos y no numéricos)\n",
        "from sklearn.naive_bayes import CategoricalNB\n",
        "\n",
        "# Creamos y entrenamos el modelo con los datos de entrenamiento\n",
        "cnb = CategoricalNB()\n",
        "cnb = cnb.fit(X_vote_train, y_vote_train)"
      ]
    },
    {
      "cell_type": "markdown",
      "metadata": {
        "id": "7yl4l8Jp2oUZ"
      },
      "source": [
        "Tras entrenar el modelo, podemos evaluarlo en base a diversas métricas sobre el conjunto de datos de test. En el ejemplo, calculamos el *accuracy*, *precision*, *recall*, *F1-score* (también llamado *FMeasure*), y Área bajo la curva ROC (*AUC*).\n",
        "\n",
        "Nótese que para calcular *precision*, *recall*, y *F1-score*, hay que indicarle cuál se considera la clase positiva. En este caso hemos escogido aleatoriamente la clase *democrat* como positiva, ya que ninguna de las dos clases tiene connotaciones positivas o negativas.\n",
        "\n",
        "Por otro lado, mientras que al resto de métricas se le pasa la predicción discreta para su cálculo, dado que el AUC solo está disponible para clasificadores probabilísticos, se le pasa la probabilidad predicha de pertenencia a la clase positiva para su cálculo.\n"
      ]
    },
    {
      "cell_type": "code",
      "execution_count": 5,
      "metadata": {
        "id": "ht0GBjsuamTR"
      },
      "outputs": [
        {
          "name": "stdout",
          "output_type": "stream",
          "text": [
            "Patrones predichos erróneamente: 15 de 131.\n",
            "Accuracy: 0.8854961832061069\n",
            "Precision: 0.9571428571428572\n",
            "Recall: 0.8481012658227848\n",
            "F1: 0.8993288590604026\n",
            "AUC: 0.9614167478091529\n"
          ]
        }
      ],
      "source": [
        "from sklearn.metrics import *\n",
        "\n",
        "# Predecir sobre datos de test. Obtenemos tanto clase predicha como probabilidades\n",
        "y_vote_pred = cnb.predict(X_vote_test)\n",
        "y_vote_proba = cnb.predict_proba(X_vote_test)[:, 1]\n",
        "print(\"Patrones predichos erróneamente: %d de %d.\" % ((y_vote_test != y_vote_pred).sum(), \n",
        "                                                    X_vote_test.shape[0]))\n",
        "\n",
        "# Calcular e imprimir distintas métricasde evaluación\n",
        "print('Accuracy: ' + str(accuracy_score(y_vote_test, y_vote_pred)))\n",
        "print('Precision: ' + str(precision_score(y_vote_test, y_vote_pred, pos_label='democrat')))\n",
        "print('Recall: ' + str(recall_score(y_vote_test, y_vote_pred, pos_label='democrat')))\n",
        "print('F1: ' + str(f1_score(y_vote_test, y_vote_pred, pos_label='democrat')))\n",
        "print('AUC: ' + str(roc_auc_score(y_vote_test, y_vote_proba)))"
      ]
    },
    {
      "cell_type": "markdown",
      "metadata": {
        "id": "BFJ1sYfFCCtc"
      },
      "source": [
        "## 2.   Naïve Bayes con atributos reales y comparación con otros métodos\n",
        "\n",
        "Los modelos probabilísticos, como Naïve Bayes, nos permiten no solo asignar un clasificador a una clase dada, sino que ofrecen con qué probabilidad dicho patrón o instancia se asocia acada una de las clases.\n",
        "\n",
        "Para hacer eso en *scikit-learn*, utilizamos la función ``predict_proba``. Como se observa, obtenemos las 3 primeras filas del dataframe con ``head`` y se la pasamos al método correspondiente, que devolverá las probabilidades para cada una de las clases."
      ]
    },
    {
      "cell_type": "code",
      "execution_count": 6,
      "metadata": {
        "id": "SukGaN9t6BCy"
      },
      "outputs": [
        {
          "name": "stdout",
          "output_type": "stream",
          "text": [
            "[[9.99987236e-01 1.27639448e-05]\n",
            " [1.00000000e+00 7.56940809e-11]\n",
            " [9.99899117e-01 1.00883326e-04]]\n"
          ]
        }
      ],
      "source": [
        "# ACTUALIZACION (03/02/2022)\n",
        "# Seleccionamos algunas instancias (las 3 primeras por ejemplo) del conjunto de datos\n",
        "examples = X_vote_test.head(3)\n",
        "\n",
        "# Imprimimos la probabilidad de pertenencia a cada clase según el modelo\n",
        "print(cnb.predict_proba(examples))"
      ]
    },
    {
      "cell_type": "markdown",
      "metadata": {
        "id": "FLEVen3hBtQJ"
      },
      "source": [
        "En la siguiente celda, vamos a seguir el mismo proceso para generar un clasificador Naïve Bayes, pero sobre el dataset [*breast_cancer*](https://scikit-learn.org/stable/modules/generated/sklearn.datasets.load_breast_cancer.html), cuyos atributos son de tipo numérico (valores reales) y no categóricos.\n",
        "\n",
        "Dado que el método Naïve Bayes estudiado hasta el momento solo podía tratar con variables de tipo categórico, utilizamos el [Gaussian Naïve Bayes](https://scikit-learn.org/stable/modules/naive_bayes.html#gaussian-naive-bayes). Para ello, este método asume que las distribuciones de verosimilitud siguen una distribución gaussiana, y estima los parámetros de dicha distribución."
      ]
    },
    {
      "cell_type": "code",
      "execution_count": 7,
      "metadata": {
        "id": "8bp1c7_SJI6J"
      },
      "outputs": [
        {
          "name": "stdout",
          "output_type": "stream",
          "text": [
            "Patrones predichos erróneamente: 13 de 171.\n",
            "Matriz de confusión\n",
            "[[ 57   6]\n",
            " [  7 101]]\n",
            "\n",
            "Accuracy: 0.9239766081871345\n",
            "Precision: 0.9439252336448598\n",
            "Recall: 0.9351851851851852\n",
            "F1: 0.9395348837209302\n",
            "AUC: 0.9854497354497355\n"
          ]
        }
      ],
      "source": [
        "from sklearn.datasets import load_breast_cancer\n",
        "from sklearn.naive_bayes import GaussianNB\n",
        "\n",
        "# Cargar datos y almacenar en variables X_cancer e y_cancer\n",
        "X_cancer, y_cancer = load_breast_cancer(return_X_y=True)\n",
        "\n",
        "# Partición en entrenamiento y test\n",
        "X_cancer_train, X_cancer_test, y_cancer_train, y_cancer_test = train_test_split(X_cancer, y_cancer, \n",
        "                                                                                test_size=0.3, \n",
        "                                                                                random_state=0)\n",
        "\n",
        "# Generar y entrenar Gaussian Naïve Bayes\n",
        "gnb = GaussianNB().fit(X_cancer_train, y_cancer_train)\n",
        "\n",
        "# Predecir sobre test\n",
        "y_cancer_pred = gnb.predict(X_cancer_test)\n",
        "y_cancer_proba = gnb.predict_proba(X_cancer_test)[:, 1]\n",
        "print(\"Patrones predichos erróneamente: %d de %d.\" % ((y_cancer_test != y_cancer_pred).sum(), \n",
        "                                                    X_cancer_test.shape[0]))\n",
        "\n",
        "# Imprimimos matriz de confusion\n",
        "print('Matriz de confusión')\n",
        "print(confusion_matrix(y_cancer_test, y_cancer_pred))\n",
        "print()\n",
        "\n",
        "# Calcular e imprimir distintas métricasde evaluación\n",
        "print('Accuracy: ' + str(accuracy_score(y_cancer_test, y_cancer_pred)))\n",
        "print('Precision: ' + str(precision_score(y_cancer_test, y_cancer_pred)))\n",
        "print('Recall: ' + str(recall_score(y_cancer_test, y_cancer_pred)))\n",
        "print('F1: ' + str(f1_score(y_cancer_test, y_cancer_pred)))\n",
        "print('AUC: ' + str(roc_auc_score(y_cancer_test, y_cancer_proba)))\n",
        "\n"
      ]
    },
    {
      "cell_type": "markdown",
      "metadata": {
        "id": "h3hrKvA5fk2e"
      },
      "source": [
        "Una vez implementado un método Naïve Bayes, y aprovechando que hemos estudiado otros métodos estudiados en esta misma lección, vamos a construir un modelo de [Regresión Logística](https://scikit-learn.org/stable/modules/linear_model.html#logistic-regression) utilizando el mismo conjunto de datos de cáncer.\n",
        "\n",
        "En la siguiente celda, utilizaremos los mismos conjuntos de entrenamiento y test generados antes, para que la comparación sea lo más justa posible.\n",
        "\n",
        "Además, limitaremos el número de iteraciones del optimizador para la regresión logística a 100, aunque podríamos modificarlo para que el entrenamiento fuese más rápido (menos iteraciones) o para buscar un modelo mejor ajustado (más iteraciones).\n",
        "\n",
        "**PREGUNTA:** Los resultados obtenidos con el modelo de regresión logística, ¿son peores o mejores que los de Gaussian Naïve Bayes?"
      ]
    },
    {
      "cell_type": "code",
      "execution_count": 8,
      "metadata": {
        "id": "H8DQl2KEi_ej"
      },
      "outputs": [
        {
          "name": "stdout",
          "output_type": "stream",
          "text": [
            "Patrones predichos erróneamente: 8 de 171.\n",
            "Accuracy: 0.9532163742690059\n",
            "Precision: 0.9807692307692307\n",
            "Recall: 0.9444444444444444\n",
            "F1: 0.9622641509433962\n",
            "AUC: 0.9945620223398002\n"
          ]
        }
      ],
      "source": [
        "from sklearn.linear_model import LogisticRegression\n",
        "\n",
        "# Ignorar los warnings que dará la regresión logística por el límite de iteraciones\n",
        "from warnings import simplefilter\n",
        "simplefilter(action='ignore')\n",
        "\n",
        "# Crear y entrenar regresión logística con datos de entrenamiento\n",
        "lr = LogisticRegression(random_state=0, max_iter=100).fit(X_cancer_train, y_cancer_train)\n",
        "\n",
        "# Predecir sobre test (Regresión logística también ofrece probabilidades como salida)\n",
        "y_cancer_pred_lr = lr.predict(X_cancer_test)\n",
        "y_cancer_proba_lr = lr.predict_proba(X_cancer_test)[:, 1]\n",
        "print(\"Patrones predichos erróneamente: %d de %d.\" % ((y_cancer_test != y_cancer_pred_lr).sum(), \n",
        "                                                    X_cancer_test.shape[0]))\n",
        "\n",
        "# Calcular e imprimir distintas métricasde evaluación\n",
        "print('Accuracy: ' + str(accuracy_score(y_cancer_test, y_cancer_pred_lr)))\n",
        "print('Precision: ' + str(precision_score(y_cancer_test, y_cancer_pred_lr)))\n",
        "print('Recall: ' + str(recall_score(y_cancer_test, y_cancer_pred_lr)))\n",
        "print('F1: ' + str(f1_score(y_cancer_test, y_cancer_pred_lr)))\n",
        "print('AUC: ' + str(roc_auc_score(y_cancer_test, y_cancer_proba_lr)))"
      ]
    },
    {
      "cell_type": "markdown",
      "metadata": {
        "id": "mNkOrpgaeWjS"
      },
      "source": [
        "Por último, como prueba, vamos a entrenar un modelo de clasificación lineal. En este caso, utilizamos un estimador de parámetros basado en el método de gradiente descendente, [``SGDClassifier``](https://scikit-learn.org/stable/modules/generated/sklearn.linear_model.SGDClassifier.html).\n",
        "\n",
        "Además de entrenarlo con todas las características del problema, y de cara a poder visualizar la frontera de decisión de forma sencilla, también vamos a utilizar unicamente las dos primeras variables para clasificar. "
      ]
    },
    {
      "cell_type": "code",
      "execution_count": 9,
      "metadata": {
        "id": "0fH8PJTocL9F"
      },
      "outputs": [
        {
          "name": "stdout",
          "output_type": "stream",
          "text": [
            "Clasificación lineal\n",
            "Patrones predichos erróneamente: 64 de 171.\n",
            "Accuracy: 0.6257309941520468\n",
            "Precision: 1.0\n",
            "Recall: 0.4074074074074074\n",
            "F1: 0.5789473684210525\n",
            "\n",
            "Clasificación lineal con 2 atributos\n",
            "Patrones predichos erróneamente: 41 de 171.\n",
            "Accuracy: 0.7602339181286549\n",
            "Precision: 0.7248322147651006\n",
            "Recall: 1.0\n",
            "F1: 0.8404669260700389\n"
          ]
        }
      ],
      "source": [
        "from sklearn.linear_model import SGDClassifier\n",
        "\n",
        "# Crear y entrenar un clasificador lineal con datos de entrenamiento\n",
        "lc = SGDClassifier(random_state=0)\n",
        "lc = lc.fit(X_cancer_train, y_cancer_train)\n",
        "\n",
        "# Predecir sobre test (en este caso, no podemos predecir probabilidades con el clasificador lineal)\n",
        "y_cancer_pred_lc = lc.predict(X_cancer_test)\n",
        "print(\"Clasificación lineal\")\n",
        "print(\"Patrones predichos erróneamente: %d de %d.\" % ((y_cancer_test != y_cancer_pred_lc).sum(), \n",
        "                                                    X_cancer_test.shape[0]))\n",
        "\n",
        "# Calcular e imprimir distintas métricas de evaluación\n",
        "print('Accuracy: ' + str(accuracy_score(y_cancer_test, y_cancer_pred_lc)))\n",
        "print('Precision: ' + str(precision_score(y_cancer_test, y_cancer_pred_lc)))\n",
        "print('Recall: ' + str(recall_score(y_cancer_test, y_cancer_pred_lc)))\n",
        "print('F1: ' + str(f1_score(y_cancer_test, y_cancer_pred_lc)))\n",
        "\n",
        "# Entrenar clasificador lineal utilizando únicamente los dos primeros atributos\n",
        "lc2 = SGDClassifier(random_state=0)\n",
        "lc2 = lc2.fit(X_cancer_train[:,0:2], y_cancer_train)\n",
        "\n",
        "# Predecir sobre test\n",
        "y_cancer_pred_lc2 = lc2.predict(X_cancer_test[:,0:2])\n",
        "print()\n",
        "print(\"Clasificación lineal con 2 atributos\")\n",
        "print(\"Patrones predichos erróneamente: %d de %d.\" % ((y_cancer_test != y_cancer_pred_lc2).sum(), \n",
        "                                                    X_cancer_test.shape[0]))\n",
        "\n",
        "# Calcular e imprimir distintas métricasde evaluación\n",
        "print('Accuracy: ' + str(accuracy_score(y_cancer_test, y_cancer_pred_lc2)))\n",
        "print('Precision: ' + str(precision_score(y_cancer_test, y_cancer_pred_lc2)))\n",
        "print('Recall: ' + str(recall_score(y_cancer_test, y_cancer_pred_lc2)))\n",
        "print('F1: ' + str(f1_score(y_cancer_test, y_cancer_pred_lc2)))"
      ]
    },
    {
      "cell_type": "code",
      "execution_count": 10,
      "metadata": {
        "id": "nQ--D802fZrx"
      },
      "outputs": [
        {
          "name": "stderr",
          "output_type": "stream",
          "text": [
            "No handles with labels found to put in legend.\n"
          ]
        },
        {
          "data": {
            "image/png": "[encoded data removed]",
            "text/plain": [
              "<Figure size 432x288 with 1 Axes>"
            ]
          },
          "metadata": {},
          "output_type": "display_data"
        }
      ],
      "source": [
        "import matplotlib.pyplot as plt\n",
        "import numpy as np\n",
        "\n",
        "def make_meshgrid(x, y, h=.02):\n",
        "    x_min, x_max = x.min() - 1, x.max() + 1\n",
        "    y_min, y_max = y.min() - 1, y.max() + 1\n",
        "    xx, yy = np.meshgrid(np.arange(x_min, x_max, h), np.arange(y_min, y_max, h))\n",
        "    return xx, yy\n",
        "\n",
        "def plot_contours(ax, clf, xx, yy, **params):\n",
        "    Z = clf.predict(np.c_[xx.ravel(), yy.ravel()])\n",
        "    Z = Z.reshape(xx.shape)\n",
        "    out = ax.contourf(xx, yy, Z, **params)\n",
        "    return out\n",
        "\n",
        "fig, ax = plt.subplots()\n",
        "# title for the plots\n",
        "title = ('Frontera de decisión de clasificador lineal')\n",
        "# Set-up grid for plotting.\n",
        "X0, X1 = X_cancer_test[:, 0], X_cancer_test[:, 1]\n",
        "xx, yy = make_meshgrid(X0, X1)\n",
        "y = y_cancer_test\n",
        "\n",
        "plot_contours(ax, lc2, xx, yy, cmap=plt.cm.coolwarm, alpha=0.8)\n",
        "ax.scatter(X0, X1, c=y, cmap=plt.cm.coolwarm, s=20, edgecolors='k')\n",
        "ax.set_ylabel('Atributo 2')\n",
        "ax.set_xlabel('Atributo 1')\n",
        "ax.set_xticks(())\n",
        "ax.set_yticks(())\n",
        "ax.set_title(title)\n",
        "ax.legend()\n",
        "plt.show()"
      ]
    },
    {
      "cell_type": "markdown",
      "metadata": {
        "id": "jKjF4X3y8FjY"
      },
      "source": [
        "## 3.   Evaluación con validación cruzada (*cross-validation*)\n",
        "\n",
        "Hasta el momento, hemos utilizado una partición aleatoria en *hold-out*, utilizando 70% de los datos para entrenar los modelos, y un 30% para evaluarlos. Aunque es una práctica extendida, puede llevar a comparaciones no del todo justas, más aun en casos donde los datos puedan estar muy desbalanceados, o donde el conjunto de datos sea pequeño, ya que los resultados estarán muy sesgados por los datos escogidos en para test.\n",
        "\n",
        "Si queremos hacer una comparación aun más justa, lo ideal es utilizar un proceso de *k-folds cross-validation*, de modo que todos los patrones se utilicen una vez en el proceso de evaluación, evitando sesgar los resultados por el rendimiento en ciertos patrones concretos.\n",
        "\n",
        "Para ello, una vez creemos los modelos, en lugar de utilizar la función ``fit``, utilizaremos ``cross_validate``, que se encargará de realizar el proceso de validación cruzada automáticamente. En el ejemplo, se generan 10 particiones (parámetro ``cv``), por lo que los resultados finales estarán promediados entre dichas 10 particiones. \n",
        "\n",
        "El método ``cross-validate`` también recibe una lista de métricas a calcular, en el parámetro ``scoring``. Así, la función devolverá un diccionario con los valores de cada una de esas métricas en cada una de las particiones de test. Además, devuelve otros valores: ``fit_time``, con el tiempo necesario para entrenar cada modelo; y ``score_time``, el tiempo necesario para evaluar cada modelo.\n",
        "\n",
        "Para hacer el proceso aun más justo si cabe, debería repetirse varias veces con semillas aleatorias distintas, de modo que los resultados tampoco estén tan influenciados por las particiones generadas.\n",
        "\n",
        "**PREGUNTA:** ¿Podrías modificar el código para que repita el proceso de 10-folds cv *n* veces, de modo que los resultados finales de las métricas sean el promedio entre todas las ejecuciones? \n",
        "\n",
        "**PREGUNTA:** ¿Qué modelo considerarías que es mejor, en este problema?"
      ]
    },
    {
      "cell_type": "code",
      "execution_count": 11,
      "metadata": {
        "id": "QsiRwoRV9mhz"
      },
      "outputs": [
        {
          "name": "stdout",
          "output_type": "stream",
          "text": [
            "Gaussian Naive Bayes\n",
            "  fit_time: 0.0005226373672485351\n",
            "  score_time: 0.0020673274993896484\n",
            "  test_accuracy: 0.9367794486215537\n",
            "  test_precision: 0.9359493493936218\n",
            "  test_recall: 0.9662698412698413\n",
            "  test_f1: 0.9504942719185197\n",
            "  test_roc_auc: 0.9884412148697864\n",
            "\n",
            "Logistic regression\n",
            "  fit_time: 0.02673492431640625\n",
            "  score_time: 0.0022507190704345705\n",
            "  test_accuracy: 0.9420426065162907\n",
            "  test_precision: 0.948280319750908\n",
            "  test_recall: 0.9609523809523809\n",
            "  test_f1: 0.9541341913838538\n",
            "  test_roc_auc: 0.9914320071462928\n",
            "\n",
            "SGD Linear Classification\n",
            "  fit_time: 0.0017953157424926759\n",
            "  score_time: 0.0014432907104492188\n",
            "  test_accuracy: 0.875344611528822\n",
            "  test_precision: 0.9390342243061941\n",
            "  test_recall: 0.8663492063492063\n",
            "  test_f1: 0.8941616620229496\n"
          ]
        }
      ],
      "source": [
        "from sklearn.model_selection import cross_validate\n",
        "\n",
        "# Ignorar los warnings que dará la regresión logística por el límite de iteraciones\n",
        "from warnings import simplefilter\n",
        "simplefilter(action='ignore')\n",
        "\n",
        "# Cargar datos y almacenar en variables X_cancer e y_cancer\n",
        "X_cancer, y_cancer = load_breast_cancer(return_X_y=True)\n",
        "\n",
        "# Crear modelos (pero no entrenar)\n",
        "gnb = GaussianNB()\n",
        "lr = LogisticRegression(random_state=0, max_iter=100)\n",
        "lc = SGDClassifier(random_state=0)\n",
        "\n",
        "# Validación cruzada de Naive Bayes e imprimir resultados medios entre las 10 ejecuciones\n",
        "print('Gaussian Naive Bayes')\n",
        "cv_gnb = cross_validate(gnb, X_cancer, y_cancer, cv=10, scoring=['accuracy', 'precision', 'recall', 'f1', 'roc_auc'])\n",
        "# Para cada valor del diccionario devuelvo, imprimir su nombre de columna o clave, y la media entre las ejecuciones\n",
        "for column in cv_gnb.keys():\n",
        "  print('  ' + column + ': ' + str(cv_gnb[column].mean()))\n",
        "\n",
        "# Validación cruzada de Regresión Logística e imprimir resultados medios entre las 10 ejecuciones\n",
        "print()\n",
        "print('Logistic regression')\n",
        "cv_lr = cross_validate(lr, X_cancer, y_cancer, cv=10, scoring=['accuracy', 'precision', 'recall', 'f1', 'roc_auc'])\n",
        "for column in cv_lr.keys():\n",
        "  print('  ' + column + ': ' + str(cv_lr[column].mean()))\n",
        "\n",
        "# Validación cruzada de Clasificación lineal e imprimir resultados medios entre las 10 ejecuciones\n",
        "print()\n",
        "print('SGD Linear Classification')\n",
        "cv_lc = cross_validate(lc, X_cancer, y_cancer, cv=10, scoring=['accuracy', 'precision', 'recall', 'f1'])\n",
        "for column in cv_lc.keys():\n",
        "  print('  ' + column + ': ' + str(cv_lc[column].mean()))"
      ]
    }
  ],
  "metadata": {
    "colab": {
      "collapsed_sections": [],
      "name": "MetodosPredictivos-NotebookSemana3.ipynb",
      "provenance": []
    },
    "kernelspec": {
      "display_name": "Python 3",
      "name": "python3"
    },
    "language_info": {
      "codemirror_mode": {
        "name": "ipython",
        "version": 3
      },
      "file_extension": ".py",
      "mimetype": "text/x-python",
      "name": "python",
      "nbconvert_exporter": "python",
      "pygments_lexer": "ipython3",
      "version": "3.9.5"
    }
  },
  "nbformat": 4,
  "nbformat_minor": 0
}
