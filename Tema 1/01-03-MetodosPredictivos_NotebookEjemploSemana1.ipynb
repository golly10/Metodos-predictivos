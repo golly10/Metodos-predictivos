{
  "cells": [
    {
      "cell_type": "markdown",
      "metadata": {
        "id": "NwRpSkEWrlnQ"
      },
      "source": [
        "# Practicando con el método de los mínimos cuadrados en Python\n",
        "En este notebook aprenderás a ejecutar el método de los mínimos cuadrados, disponible en las librerías *statsmodels* y *scikit-learn*. Veremos cómo cargar un conjunto de datos y seleccionar las variables con las construir el modelo de regresión lineal más conocido.\n",
        "## Método de los mínimos cuadrados en ***statsmodels***\n",
        "En la primera parte del *notebook* utilizaremos la librería *statsmodels*. Es importante familiarse con su [API](https://www.statsmodels.org/stable/api.html) para conocer los métodos disponibles y sus estructuras de datos. Lo primero que debemos hacer es importar los paquetes que vamos a necesitar:"
      ]
    },
    {
      "cell_type": "code",
      "execution_count": 1,
      "metadata": {
        "id": "2fhR1bgYrjqb"
      },
      "outputs": [],
      "source": [
        "import numpy as np\n",
        "import statsmodels.api as sm"
      ]
    },
    {
      "cell_type": "markdown",
      "metadata": {
        "id": "xU-iY4tLtE-Z"
      },
      "source": [
        "### Ejemplo sobre una muestra de datos aleatoria\n",
        "En primer lugar, vamos a generar una muestra de observaciones (*x*,*y*). Los valores de *x* van a variar entre 0 y un tamaño de muestra dado. Los valores de *y* queremos que sean dependientes de *x*, así que los generamos a partir de *x* añadiendo cierto ruido. "
      ]
    },
    {
      "cell_type": "code",
      "execution_count": 2,
      "metadata": {
        "id": "a86vFoXhvcEQ"
      },
      "outputs": [
        {
          "name": "stdout",
          "output_type": "stream",
          "text": [
            "[  1.61964986   5.26944421   7.59556427   6.78527242  10.91419013\n",
            "  12.30382667  16.36289948  16.13243057  18.3076106   20.34590626\n",
            "  23.69923599  26.8251084   28.15906321  29.05713008  31.62515406\n",
            "  32.23228054  34.6396282   38.30772843  39.83940959  41.61280664\n",
            "  42.79823959  45.04424978  46.55430776  48.66059686  51.02033464\n",
            "  54.57313624  54.39727081  58.11335177  57.34724364  60.41823025\n",
            "  62.40925055  63.97055989  66.24035985  68.92807263  72.514028\n",
            "  74.40802475  72.87255868  76.52895483  80.10399199  81.31049164\n",
            "  83.45930531  87.47090272  86.90376828  88.98708868  90.61014641\n",
            "  95.02781652  95.78483876  96.87353198  99.13938222 100.44685287]\n"
          ]
        }
      ],
      "source": [
        "tam_muestra = 50\n",
        "x = np.arange(0, tam_muestra, step=1)\n",
        "y = x*2 + 3 + np.random.normal(0,1,tam_muestra)\n",
        "print(y)"
      ]
    },
    {
      "cell_type": "markdown",
      "metadata": {
        "id": "rofNzsr7zveK"
      },
      "source": [
        "A partir de esta muestra de datos ya tenemos lo necesario para realizar un ajuste por medio del método de los mínimos cuadrados. En *statsmodels*, este método se denomina [OLS](https://www.statsmodels.org/stable/examples/notebooks/generated/ols.html#) (*Ordinary Least Squares*). Primero tenemos que crear un objeto de la clase. Para realizar el ajuste, invocamos a la función *fit*, que nos devuelve el método entrenado:"
      ]
    },
    {
      "cell_type": "code",
      "execution_count": 3,
      "metadata": {
        "id": "FFLyBi3Qyjix"
      },
      "outputs": [],
      "source": [
        "algoritmo = sm.OLS(endog=y,exog=x)\n",
        "modelo = algoritmo.fit()"
      ]
    },
    {
      "cell_type": "markdown",
      "metadata": {
        "id": "YlMxu50J5SOm"
      },
      "source": [
        "La expresión con la que generamos los valores *y* se asemeja a la curva de regresión lineal con pendiente igual 2 e intercepto igual a 3. Para ver los coeficientes estimados por OLS, accedemos a la propiedad *.params*"
      ]
    },
    {
      "cell_type": "code",
      "execution_count": 4,
      "metadata": {
        "id": "upBM7cno4AuV"
      },
      "outputs": [
        {
          "data": {
            "text/plain": [
              "array([2.09629178])"
            ]
          },
          "execution_count": 4,
          "metadata": {},
          "output_type": "execute_result"
        }
      ],
      "source": [
        "modelo.params"
      ]
    },
    {
      "cell_type": "markdown",
      "metadata": {
        "id": "cusEl0Xc5Y4C"
      },
      "source": [
        "Vemos que solo se ha estimado un coeficiente, cercano al valor real de la pendiente. Por defecto, OLS no estima el intercepto salvo que se lo indiquemos expresamente con la función *add_constant*:"
      ]
    },
    {
      "cell_type": "code",
      "execution_count": 5,
      "metadata": {
        "id": "2PTlF-EG58gB"
      },
      "outputs": [
        {
          "name": "stdout",
          "output_type": "stream",
          "text": [
            "2.841400313043476\n",
            "2.0101887443792674\n"
          ]
        }
      ],
      "source": [
        "x = sm.add_constant(x)\n",
        "algoritmo = sm.OLS(y,x)\n",
        "modelo_con_intercepto = algoritmo.fit()\n",
        "intercepto = modelo_con_intercepto.params[0]\n",
        "print(intercepto)\n",
        "pendiente = modelo_con_intercepto.params[1]\n",
        "print(pendiente)"
      ]
    },
    {
      "cell_type": "markdown",
      "metadata": {
        "id": "3ImLrHfMy6vp"
      },
      "source": [
        "### Ejemplo sobre un conjunto de datos\n",
        "En este apartado vamos a realizar el mismo procedimiento pero utilizando variables tomadas de un conjunto de datos. La librería *statsmodels* nos permite cargar *datasets* directamente, aunque también podríamos utilizar un fichero CSV e importarlo con *Pandas*. Vamos a utilizar un *dataset* de la categoría *HistData* que contiene datos sobre las estaturas de padres e hijos."
      ]
    },
    {
      "cell_type": "code",
      "execution_count": 6,
      "metadata": {
        "id": "9h-M14Z_-Ujq"
      },
      "outputs": [
        {
          "name": "stdout",
          "output_type": "stream",
          "text": [
            "  family  father  mother  midparentHeight  children  childNum  gender  \\\n",
            "0    001    78.5    67.0            75.43         4         1    male   \n",
            "1    001    78.5    67.0            75.43         4         2  female   \n",
            "2    001    78.5    67.0            75.43         4         3  female   \n",
            "3    001    78.5    67.0            75.43         4         4  female   \n",
            "4    002    75.5    66.5            73.66         4         1    male   \n",
            "5    002    75.5    66.5            73.66         4         2    male   \n",
            "6    002    75.5    66.5            73.66         4         3  female   \n",
            "7    002    75.5    66.5            73.66         4         4  female   \n",
            "8    003    75.0    64.0            72.06         2         1    male   \n",
            "9    003    75.0    64.0            72.06         2         2  female   \n",
            "\n",
            "   childHeight  \n",
            "0         73.2  \n",
            "1         69.2  \n",
            "2         69.0  \n",
            "3         69.0  \n",
            "4         73.5  \n",
            "5         72.5  \n",
            "6         65.5  \n",
            "7         65.5  \n",
            "8         71.0  \n",
            "9         68.0  \n"
          ]
        }
      ],
      "source": [
        "# Importar el conjunto de datos\n",
        "dataset = sm.datasets.get_rdataset(\"GaltonFamilies\", \"HistData\")\n",
        "# Ver la información del conjunto de datos (10 primeras filas)\n",
        "print(dataset.data.head(10))\n",
        "# Obtener los valores de las variables de interés\n",
        "altura_padres = dataset.data.get('midparentHeight')\n",
        "altura_hijos = dataset.data.get('childHeight')"
      ]
    },
    {
      "cell_type": "markdown",
      "metadata": {
        "id": "eHxxDjnGKc6M"
      },
      "source": [
        "Vamos a construir un modelo de regresión que establezca la relación entre la altura de los padres y los hijos. Utilizaremos solo una parte de los datos, para estudiar con el resto cómo de buena es la predicción respecto al valor real."
      ]
    },
    {
      "cell_type": "code",
      "execution_count": 7,
      "metadata": {
        "id": "uoxtTZp8Kq-s"
      },
      "outputs": [
        {
          "name": "stdout",
          "output_type": "stream",
          "text": [
            "const              22.636241\n",
            "midparentHeight     0.637361\n",
            "dtype: float64\n"
          ]
        }
      ],
      "source": [
        "altura_padres = sm.add_constant(altura_padres)\n",
        "algoritmo = sm.OLS(altura_hijos,altura_padres)\n",
        "modelo_altura = algoritmo.fit()\n",
        "print(modelo_altura.params)"
      ]
    },
    {
      "cell_type": "markdown",
      "metadata": {
        "id": "F2oi_oDUQCu_"
      },
      "source": [
        "El modelo de regresión nos permite extraer los valores estimados de *y*, por lo que podemos calcular nosotros mismos los residuos:"
      ]
    },
    {
      "cell_type": "code",
      "execution_count": 8,
      "metadata": {
        "id": "zBWB6HMVQPsE"
      },
      "outputs": [
        {
          "name": "stdout",
          "output_type": "stream",
          "text": [
            "[ 2.48762699e+00 -1.51237301e+00 -1.71237301e+00 -1.71237301e+00\n",
            "  3.91575578e+00  2.91575578e+00 -4.08424422e+00 -4.08424422e+00\n",
            "  2.43553321e+00 -5.64466785e-01  1.93553321e+00 -6.44667852e-02\n",
            " -1.56446679e+00 -4.06446679e+00 -5.56446679e+00  5.32849508e+00\n",
            "  2.32849508e+00  1.32849508e+00 -1.71504921e-01 -4.17150492e+00\n",
            " -4.17150492e+00 -1.22485874e-01  6.87751413e+00  4.37751413e+00\n",
            "  3.37751413e+00  3.37751413e+00  8.77514126e-01 -5.62248587e+00\n",
            "  1.39377645e+00 -1.10622355e+00 -3.10622355e+00 -3.09347633e+00\n",
            " -3.26204866e+00  6.44256343e+00  2.44256343e+00  4.42563432e-01\n",
            " -5.57436568e-01 -5.57436568e-01 -1.55743657e+00 -4.05743657e+00\n",
            " -4.55743657e+00 -2.21326168e+00  2.04036946e+00 -6.95963054e+00\n",
            " -9.59630541e-01 -1.95963054e+00  2.21245690e+00  1.71245690e+00\n",
            " -2.08754310e+00  3.72871923e+00  2.22871923e+00  1.92871923e+00\n",
            "  1.92871923e+00  9.28719227e-01  4.28719227e-01 -1.77128077e+00\n",
            " -3.77128077e+00 -4.77128077e+00  5.90080667e+00  4.90080667e+00\n",
            "  3.40080667e+00 -5.59919333e+00 -1.59919333e+00 -5.79919333e+00\n",
            " -1.92710589e+00 -3.42710589e+00 -3.92710589e+00 -4.94666709e+00\n",
            "  3.64762382e+00  3.44762382e+00  3.14762382e+00  4.47623824e-01\n",
            " -5.52376176e-01 -1.05237618e+00 -1.55237618e+00 -3.55237618e+00\n",
            "  4.01487502e+00 -4.85124977e-01 -9.85124977e-01  4.35904991e+00\n",
            "  2.35904991e+00 -1.64095009e+00  6.24739968e+00  2.54739968e+00\n",
            "  1.54739968e+00 -1.95260032e+00 -2.45260032e+00 -2.95260032e+00\n",
            " -2.95260032e+00 -2.62468777e+00 -1.60842544e+00 -4.60842544e+00\n",
            "  3.23574944e+00  3.23574944e+00  1.73574944e+00 -2.26425056e+00\n",
            " -4.26425056e+00  1.73574944e+00 -2.64250555e-01 -4.26425056e+00\n",
            "  5.73574944e+00 -2.64250555e-01  3.23574944e+00  2.73574944e+00\n",
            " -7.64250555e-01 -4.26425056e+00 -9.56782218e-02 -3.95678222e-01\n",
            " -8.95678222e-01 -2.92007567e+00  3.92058410e+00  2.92058410e+00\n",
            "  2.92058410e+00 -1.07941590e+00 -2.07941590e+00 -2.07941590e+00\n",
            "  7.07992433e+00  5.07992433e+00  2.07992433e+00  5.79924329e-01\n",
            " -3.42007567e+00  5.07992433e+00  4.57992433e+00  4.57992433e+00\n",
            "  3.07992433e+00  1.07992433e+00 -8.75900787e-01  8.98938059e+00\n",
            "  4.98938059e+00  3.98938059e+00  2.98938059e+00 -2.01061941e+00\n",
            "  4.87773036e+00  4.67773036e+00  6.77730356e-01 -1.32226964e+00\n",
            "  2.02190524e+00 -9.78094760e-01 -9.78094760e-01 -1.47809476e+00\n",
            "  2.02190524e+00  1.02190524e+00  5.21905240e-01 -1.97809476e+00\n",
            " -3.47809476e+00 -4.97809476e+00  3.02190524e+00 -9.78094760e-01\n",
            "  8.02190524e+00  4.02190524e+00  3.02190524e+00 -1.97809476e+00\n",
            " -1.97809476e+00  2.47091637e+00  4.19399268e+00  4.19399268e+00\n",
            "  3.19399268e+00  1.19399268e+00 -1.80600732e+00 -2.80600732e+00\n",
            "  5.03465246e+00 -2.76534754e+00  7.06739900e-01 -9.32600999e-02\n",
            "  3.66080124e-01  3.66080124e-01 -5.63391988e+00  7.10255009e-01\n",
            "  7.10255009e-01  2.10255009e-01 -7.89744991e-01 -7.89744991e-01\n",
            " -1.28974499e+00 -1.78974499e+00 -2.28974499e+00  4.31509125e+00\n",
            "  3.31509125e+00  2.81509125e+00 -6.84908747e-01  7.10255009e-01\n",
            "  7.10255009e-01  7.10255009e-01  4.37882734e+00  3.37882734e+00\n",
            "  2.37882734e+00 -1.62117266e+00 -3.12117266e+00 -3.12117266e+00\n",
            " -5.62117266e+00  5.53816757e+00 -5.46183243e+00  4.90693803e-01\n",
            " -2.50930620e+00  3.88234245e+00 -1.17657549e-01 -1.11765755e+00\n",
            " -2.11765755e+00 -3.61765755e+00  4.05442989e+00  3.05442989e+00\n",
            "  3.05442989e+00 -2.94557011e+00 -1.94557011e+00 -1.94557011e+00\n",
            " -2.94557011e+00 -3.94557011e+00 -3.94557011e+00  4.05442989e+00\n",
            "  4.05442989e+00  3.05442989e+00 -3.44557011e+00  4.39860478e+00\n",
            "  3.39860478e+00 -2.10139522e+00 -4.10139522e+00 -5.10139522e+00\n",
            "  5.39860478e+00  3.89860478e+00  3.89860478e+00 -2.10139522e+00\n",
            " -6.60139522e+00  3.22651734e+00 -2.77348266e+00 -2.77348266e+00\n",
            " -2.77348266e+00 -4.27348266e+00  3.89860478e+00  3.39860478e+00\n",
            "  2.39860478e+00  2.39860478e+00 -6.01395223e-01 -2.10139522e+00\n",
            " -2.60139522e+00 -4.25722034e+00  6.27530431e+00  3.77530431e+00\n",
            "  2.30806104e+00  1.30806104e+00  3.08061035e-01  3.08061035e-01\n",
            "  1.30806104e+00  8.06103540e-03 -6.91938965e-01 -2.69193896e+00\n",
            " -4.69193896e+00 -6.69193896e+00  6.65223592e+00  1.99641080e+00\n",
            "  9.96410804e-01 -2.00358920e+00 -4.00358920e+00 -8.00358920e+00\n",
            " -5.03589196e-01  5.16849825e+00  4.16849825e+00  4.16849825e+00\n",
            " -1.33150175e+00  1.36849825e+00 -6.31501754e-01 -1.33150175e+00\n",
            " -1.83150175e+00 -1.83150175e+00 -3.63150175e+00 -4.13150175e+00\n",
            "  4.52542035e+00  2.72542035e+00  1.52542035e+00  1.02542035e+00\n",
            "  5.25420349e-01 -2.47457965e+00 -5.97457965e+00 -6.47457965e+00\n",
            " -6.47457965e+00  5.68476057e+00  4.68476057e+00  3.18476057e+00\n",
            " -2.31523943e+00 -2.31523943e+00 -2.81523943e+00 -4.31523943e+00\n",
            " -5.31523943e+00 -3.15239427e-01 -2.31523943e+00 -2.81523943e+00\n",
            " -4.81523943e+00 -4.81523943e+00  2.68476057e+00  2.68476057e+00\n",
            " -3.15239427e-01 -2.31523943e+00 -2.31523943e+00 -4.31523943e+00\n",
            "  1.16847606e+01  7.68476057e+00  3.68476057e+00  1.68476057e+00\n",
            " -3.15239427e-01 -1.61523943e+00 -5.31523943e+00  5.68476057e+00\n",
            "  5.18476057e+00 -2.31523943e+00  1.68476057e+00  1.68476057e+00\n",
            "  4.78801304e+00  2.78801304e+00  1.48801304e+00 -7.11986962e-01\n",
            " -1.71198696e+00 -2.51198696e+00 -2.71198696e+00  3.72893546e+00\n",
            "  3.02893546e+00  1.02893546e+00  2.89354572e-02 -9.71064543e-01\n",
            " -1.97106454e+00  2.89354572e-02  3.02893546e+00  1.02893546e+00\n",
            " -2.71064543e-01 -1.47106454e+00  4.96010048e+00  2.96010048e+00\n",
            " -4.53989952e+00 -5.83989952e+00 -6.93989952e+00  6.86959523e+00\n",
            "  2.36959523e+00  1.86959523e+00  8.69595233e-01  8.69595233e-01\n",
            "  8.69595233e-01 -1.63040477e+00 -2.13040477e+00 -7.30249221e+00\n",
            "  1.02893546e+00 -1.97106454e+00 -2.97106454e+00 -4.97106454e+00\n",
            "  4.02893546e+00  3.02893546e+00  3.02893546e+00  3.02893546e+00\n",
            "  2.52893546e+00  1.52893546e+00  2.02893546e+00 -1.97106454e+00\n",
            " -2.97106454e+00  3.13218792e+00  1.32187923e-01 -1.36781208e+00\n",
            " -3.16781208e+00 -3.66781208e+00 -4.36781208e+00 -4.66781208e+00\n",
            " -5.86781208e+00  3.21377012e+00  1.71377012e+00 -1.28622988e+00\n",
            " -3.28622988e+00  5.71377012e+00  2.21377012e+00  2.13770117e-01\n",
            " -2.28622988e+00 -2.78622988e+00  4.20102290e+00  7.01022899e-01\n",
            "  7.01022899e-01 -3.29897710e+00  1.37311034e+00  3.73110342e-01\n",
            " -2.92688966e+00 -4.62688966e+00  3.37311034e+00 -1.26889658e-01\n",
            " -4.62688966e+00 -5.62688966e+00  5.55794500e+00  3.55794500e+00\n",
            "  3.05794500e+00  3.05794500e+00  1.55794500e+00 -1.44205500e+00\n",
            " -2.44205500e+00 -3.44205500e+00  4.08075867e+00  3.08075867e+00\n",
            "  2.58075867e+00 -1.41924133e+00 -2.61924133e+00 -3.11924133e+00\n",
            " -3.41924133e+00  5.55794500e+00  5.55794500e+00 -6.44205500e+00\n",
            "  5.26146011e+00  1.06146011e+00  1.40563499e+00 -1.09436501e+00\n",
            " -5.94365005e-01 -2.59436501e+00 -5.94365005e-01 -5.94365005e-01\n",
            "  6.42189732e+00 -5.78102679e-01 -2.07810268e+00  7.09398476e+00\n",
            "  1.09398476e+00  1.09398476e+00  9.39847634e-02 -1.90601524e+00\n",
            "  6.79882893e+00  2.79882893e+00  1.79882893e+00 -2.20117107e+00\n",
            " -2.20117107e+00 -2.70117107e+00 -3.20117107e+00 -3.20117107e+00\n",
            " -4.20117107e+00 -4.20117107e+00 -3.68490875e+00  5.65926614e+00\n",
            "  4.65926614e+00  4.35926614e+00  4.15926614e+00 -1.84073386e+00\n",
            " -2.34073386e+00 -4.64073386e+00 -4.84073386e+00  3.85926614e+00\n",
            "  3.65926614e+00  2.65926614e+00  7.41834372e+00  6.41834372e+00\n",
            "  4.41834372e+00  9.18343718e-01  2.65926614e+00  1.15926614e+00\n",
            "  6.59266137e-01 -2.34073386e+00 -4.34073386e+00 -4.84073386e+00\n",
            "  5.48717869e+00  3.48717869e+00  2.98717869e+00  2.98717869e+00\n",
            " -5.12821305e-01 -1.51282131e+00 -6.51282131e+00  2.82783847e+00\n",
            " -1.72161529e-01 -3.17216153e+00 -3.67216153e+00  3.48717869e+00\n",
            "  9.87178695e-01 -1.28213052e-02 -1.51282131e+00 -4.51282131e+00\n",
            " -4.51282131e+00  3.49992591e+00  3.49992591e+00  2.99992591e+00\n",
            "  2.99992591e+00 -1.00007409e+00 -2.00007409e+00 -3.00007409e+00\n",
            "  5.65926614e+00  4.65926614e+00  1.65926614e+00  1.65926614e+00\n",
            " -8.40733863e-01 -1.84073386e+00 -1.84073386e+00 -2.34073386e+00\n",
            " -3.34073386e+00  3.00344102e+00  1.50344102e+00  3.44102133e-03\n",
            " -1.99655898e+00 -2.99655898e+00 -3.49655898e+00 -5.99655898e+00\n",
            "  2.71618824e+00  1.01618824e+00 -6.98381176e+00 -1.78381176e+00\n",
            " -2.48381176e+00 -3.28381176e+00 -6.98381176e+00  4.98387982e+00\n",
            " -2.16120184e-01 -1.71612018e+00 -3.21612018e+00 -9.80296652e-01\n",
            "  2.69179079e+00  1.19179079e+00 -2.80820921e+00  5.69179079e+00\n",
            "  6.69179079e+00  3.69179079e+00  3.69179079e+00 -2.30820921e+00\n",
            " -3.08209210e-01 -4.30820921e+00  4.01970335e+00  5.19703348e-01\n",
            " -4.80296652e-01 -1.48029665e+00 -3.48029665e+00 -4.48029665e+00\n",
            " -5.48029665e+00  4.01970335e+00 -2.78029665e+00 -3.48029665e+00\n",
            " -3.68711064e+00  6.87662545e+00  5.87662545e+00  2.87662545e+00\n",
            "  7.03596567e+00  5.03596567e+00  5.03596567e+00  3.03596567e+00\n",
            " -2.96403433e+00  5.87662545e+00  3.87662545e+00  1.67662545e+00\n",
            " -9.23374550e-01 -1.42337455e+00 -1.62337455e+00 -2.62337455e+00\n",
            " -2.62337455e+00 -3.62337455e+00 -4.12337455e+00 -4.62337455e+00\n",
            "  4.86387823e+00  3.86387823e+00  3.86387823e+00  2.86387823e+00\n",
            " -2.63612177e+00 -3.63612177e+00 -3.63612177e+00 -4.13612177e+00\n",
            "  6.03596567e+00  2.03596567e+00  3.59656744e-02  3.59656744e-02\n",
            "  4.22080033e+00  3.72080033e+00  3.22080033e+00 -2.77919967e+00\n",
            " -3.77919967e+00  2.38014056e+00  2.38014056e+00  1.88014056e+00\n",
            " -1.61985944e+00 -2.61985944e+00 -2.61985944e+00 -2.11985944e+00\n",
            " -3.61985944e+00 -3.61985944e+00  5.22431544e+00  2.72431544e+00\n",
            " -2.77568456e+00  3.72431544e+00  7.24315443e-01 -3.57568456e+00\n",
            " -4.77568456e+00  4.05222800e+00  2.20608329e+00 -7.09391671e+00\n",
            "  5.47443148e+00  3.47443148e+00 -5.25568523e-01  2.64651892e+00\n",
            "  1.64651892e+00  1.64651892e+00  1.34651892e+00  1.14651892e+00\n",
            "  1.14651892e+00  6.46518919e-01  6.46518919e-01  6.46518919e-01\n",
            " -1.15348108e+00 -4.15348108e+00  8.22121470e-01 -6.77878530e-01\n",
            " -8.49965972e-01 -2.84996597e+00  4.85003403e+00  4.65003403e+00\n",
            "  3.85003403e+00 -1.34996597e+00 -3.49965972e-01 -1.64996597e+00\n",
            " -5.34996597e+00  5.32212147e+00  5.32212147e+00  1.32212147e+00\n",
            " -6.77878530e-01  2.36278125e+00  1.16278125e+00 -8.37218754e-01\n",
            " -8.37218754e-01 -4.83721875e+00 -5.33721875e+00 -5.83721875e+00\n",
            " -6.83721875e+00  5.16278125e+00  3.66278125e+00  1.86278125e+00\n",
            "  1.66278125e+00  8.62781246e-01 -2.83721875e+00 -3.33721875e+00\n",
            " -3.83721875e+00  4.66629635e+00  1.66629635e+00  1.66629635e+00\n",
            "  6.66296354e-01 -1.33370365e+00 -2.33370365e+00 -3.33370365e+00\n",
            " -3.33370365e+00 -4.33370365e+00 -5.33370365e+00 -3.33703646e-01\n",
            " -3.33370365e+00 -8.33703646e-01 -4.33370365e+00  4.86629635e+00\n",
            "  4.86629635e+00  2.66629635e+00  2.16629635e+00 -3.83370365e+00\n",
            " -4.50579109e+00  2.66629635e+00  6.66296354e-01 -3.33703646e-01\n",
            " -3.33703646e-01 -3.33703646e-01 -1.33370365e+00 -1.33370365e+00\n",
            " -1.33370365e+00 -2.33370365e+00 -3.33370365e+00  4.51047124e+00\n",
            "  4.01047124e+00  2.01047124e+00  1.04712385e-02  1.04712385e-02\n",
            "  1.04712385e-02 -3.98952876e+00 -4.48952876e+00  7.17904357e+00\n",
            "  3.67904357e+00  3.17904357e+00 -8.20956428e-01  1.01047124e+00\n",
            "  4.01047124e+00  2.01047124e+00 -1.48952876e+00 -1.98952876e+00\n",
            "  5.01047124e+00  2.01047124e+00  1.04712385e-02 -4.89528761e-01\n",
            " -9.89528761e-01 -2.98952876e+00 -3.98952876e+00 -3.98952876e+00\n",
            "  1.01047124e+00  1.01047124e+00  1.04712385e-02 -1.98952876e+00\n",
            " -2.48952876e+00 -4.98952876e+00  1.87904357e+00  4.01047124e+00\n",
            "  3.77464771e+00  2.77464771e+00  7.74647707e-01 -7.25352293e-01\n",
            " -1.72535229e+00  2.68255868e+00  1.83156981e+00 -4.16843019e+00\n",
            "  6.82558681e-01  3.19882101e+00  2.69882101e+00 -1.30117899e+00\n",
            " -1.80117899e+00 -2.30117899e+00  1.67416091e+00 -9.57004108e-01\n",
            " -3.95700411e+00 -3.95700411e+00 -4.95700411e+00 -4.95700411e+00\n",
            " -4.95700411e+00 -8.95700411e+00  2.54299589e+00  2.04299589e+00\n",
            "  1.54299589e+00 -4.95700411e+00  4.22783055e+00  3.38717078e+00\n",
            "  3.87170776e-01  8.71707760e-02 -6.12829224e-01 -6.12829224e-01\n",
            " -1.61282922e+00  3.87170776e-01  3.87170776e-01 -2.61282922e+00\n",
            " -3.61282922e+00  5.92779206e+00  5.92779206e+00  4.72779206e+00\n",
            " -1.27220794e+00 -3.27220794e+00  4.12453959e+00  6.29662703e+00\n",
            "  4.29662703e+00  3.99662703e+00  3.29662703e+00  2.29662703e+00\n",
            "  1.29662703e+00 -1.20337297e+00 -4.70337297e+00  3.34080192e+00\n",
            "  1.14080192e+00 -8.59198082e-01 -1.35919808e+00 -1.85919808e+00\n",
            " -2.85919808e+00  3.46871448e+00  2.46871448e+00 -1.03128552e+00\n",
            " -1.03128552e+00 -3.53128552e+00  3.46871448e+00  1.16871448e+00\n",
            " -3.53128552e+00 -6.53128552e+00 -1.35919808e+00 -4.35919808e+00\n",
            " -4.35919808e+00  4.48146169e+00  2.48146169e+00 -2.51853831e+00\n",
            " -2.51853831e+00 -3.51853831e+00 -3.51853831e+00 -3.51853831e+00\n",
            " -3.51853831e+00 -3.51853831e+00 -4.01853831e+00 -4.51853831e+00\n",
            "  5.48497680e+00  3.98497680e+00  9.84976803e-01  9.84976803e-01\n",
            "  5.15706424e+00  4.35706424e+00  3.35706424e+00  2.65706424e+00\n",
            "  2.15706424e+00  1.15706424e+00 -3.42935755e-01 -2.34293576e+00\n",
            "  3.32915169e+00  2.32915169e+00 -2.67084831e+00  4.51398635e+00\n",
            "  4.01398635e+00  3.51398635e+00  3.01398635e+00  5.13986347e-01\n",
            "  2.01750146e+00  3.77113260e+00  3.77113260e+00  2.71132598e-01\n",
            " -7.28867402e-01 -7.28867402e-01 -4.72886740e+00 -4.72886740e+00\n",
            " -5.22886740e+00  5.27113260e+00 -1.72886740e+00 -1.72886740e+00\n",
            "  2.71132598e-01 -2.72886740e+00 -2.72886740e+00 -4.72886740e+00\n",
            " -6.72886740e+00 -6.72886740e+00 -3.84692518e-01 -1.38469252e+00\n",
            "  6.15307482e-01  1.15307482e-01 -8.84692518e-01  5.61530748e+00\n",
            "  1.61530748e+00 -3.84692518e-01 -1.38469252e+00 -4.38469252e+00\n",
            " -5.38469252e+00  2.50014214e+00  2.30014214e+00  3.00142143e-01\n",
            " -1.69985786e+00 -3.69985786e+00 -5.69985786e+00 -5.69985786e+00\n",
            " -8.69985786e+00  5.78739492e+00  4.78739492e+00  7.87394925e-01\n",
            " -2.12605075e-01 -1.21260508e+00  4.64783214e+00 -1.02425531e+00\n",
            " -3.52425531e+00  1.68849191e+00  1.48849191e+00 -5.11508089e-01\n",
            " -5.11508089e-01 -5.11508089e-01 -2.51150809e+00  4.66057935e+00\n",
            "  2.66057935e+00 -1.83942065e+00 -2.83942065e+00 -2.83942065e+00\n",
            " -2.83942065e+00 -2.83942065e+00  5.16409446e+00  3.68035679e+00\n",
            "  2.68035679e+00  6.80356789e-01 -4.31964321e+00  6.80356789e-01\n",
            "  4.02453167e+00  3.02453167e+00  2.52453167e+00  2.02453167e+00\n",
            "  1.72453167e+00  1.52453167e+00  1.02453167e+00  1.02453167e+00\n",
            "  2.45316730e-02 -9.75468327e-01 -1.97546833e+00 -2.97546833e+00\n",
            " -3.97546833e+00 -5.97546833e+00 -6.97546833e+00  8.98130465e-02\n",
            " -4.10186953e-01 -4.10186953e-01 -1.41018695e+00 -3.41018695e+00\n",
            " -3.06601207e+00 -3.06601207e+00 -3.06601207e+00 -6.06601207e+00\n",
            "  9.33987931e-01 -6.60120691e-02 -1.06601207e+00 -1.06601207e+00\n",
            " -5.06601207e+00  3.27816282e+00  2.27816282e+00  2.27816282e+00\n",
            " -7.21837185e-01 -7.21837185e-01 -3.72183718e+00 -3.72183718e+00\n",
            " -4.72183718e+00 -6.72183718e+00  4.80607537e+00 -3.93924627e-01\n",
            "  3.47816282e+00  3.27816282e+00  2.27816282e+00  1.97816282e+00\n",
            " -1.22183718e+00 -5.22183718e+00  1.62233770e+00  1.62233770e+00\n",
            " -1.37766230e+00 -1.37766230e+00 -2.87766230e+00 -4.87766230e+00\n",
            "  4.96651258e+00 -2.03348742e+00  9.66512584e-01  9.66512584e-01\n",
            " -2.03348742e+00  5.80717236e+00  5.80717236e+00  3.80717236e+00\n",
            " -1.69282764e+00  3.83969701e+00  3.83969701e+00  2.83969701e+00\n",
            "  2.83969701e+00 -2.16030299e+00  6.44101815e+00  2.94101815e+00\n",
            "  4.41018148e-01 -1.05898185e+00 -3.05898185e+00 -3.05898185e+00\n",
            " -4.05898185e+00  5.44101815e+00  2.94101815e+00  1.94101815e+00\n",
            " -5.89818519e-02 -1.05898185e+00 -1.05898185e+00 -5.05898185e+00\n",
            " -2.14806968e-01  2.31771769e+00 -3.68228231e+00  3.93178604e+00\n",
            " -1.06821396e+00 -1.10997072e+00 -3.10997072e+00 -4.10997072e+00\n",
            "  2.26321371e+00 -7.23678629e+00]\n"
          ]
        }
      ],
      "source": [
        "altura_hijos_pred = modelo_altura.fittedvalues\n",
        "residuos = np.asarray(altura_hijos - altura_hijos_pred)\n",
        "print(residuos)"
      ]
    },
    {
      "cell_type": "markdown",
      "metadata": {
        "id": "plganWApTE65"
      },
      "source": [
        "## Método de los mínimos cuadrados en ***scikit-learn***\n",
        "En la segunda parte del *notebook* utilizaremos la librería *scikit-learn*. Al igual que con *statsmodels*, es importante saber consultar su [API](https://scikit-learn.org/stable/modules/classes.html) para familiarizarse con sus clases y comprender los parámetros que requiere cada método. En concreto, en este *notebook* vamos a utilizar el paquete de regresión, donde está implementado el método de los mínimos cuadrados (denominado simplemente *Linear Regression*). También importamos el paquete con conjuntos de datos precargados."
      ]
    },
    {
      "cell_type": "code",
      "execution_count": 9,
      "metadata": {
        "id": "Ibz5RsBbUHI2"
      },
      "outputs": [],
      "source": [
        "from sklearn.linear_model import LinearRegression\n",
        "import sklearn.datasets as skldata "
      ]
    },
    {
      "cell_type": "markdown",
      "metadata": {
        "id": "9lKXXwoAUoAC"
      },
      "source": [
        "En primer lugar, vamos a importar el conjunto de datos *Boston*, cuya variable independiente representa el precio de viviendas. El objeto devuelto es un diccionario que contiene, además de los datos, el nombre de las variables, una descripción, etc."
      ]
    },
    {
      "cell_type": "code",
      "execution_count": 10,
      "metadata": {
        "id": "_Zo_82cDVL9v"
      },
      "outputs": [
        {
          "name": "stdout",
          "output_type": "stream",
          "text": [
            "['CRIM' 'ZN' 'INDUS' 'CHAS' 'NOX' 'RM' 'AGE' 'DIS' 'RAD' 'TAX' 'PTRATIO'\n",
            " 'B' 'LSTAT']\n",
            ".. _boston_dataset:\n",
            "\n",
            "Boston house prices dataset\n",
            "---------------------------\n",
            "\n",
            "**Data Set Characteristics:**  \n",
            "\n",
            "    :Number of Instances: 506 \n",
            "\n",
            "    :Number of Attributes: 13 numeric/categorical predictive. Median Value (attribute 14) is usually the target.\n",
            "\n",
            "    :Attribute Information (in order):\n",
            "        - CRIM     per capita crime rate by town\n",
            "        - ZN       proportion of residential land zoned for lots over 25,000 sq.ft.\n",
            "        - INDUS    proportion of non-retail business acres per town\n",
            "        - CHAS     Charles River dummy variable (= 1 if tract bounds river; 0 otherwise)\n",
            "        - NOX      nitric oxides concentration (parts per 10 million)\n",
            "        - RM       average number of rooms per dwelling\n",
            "        - AGE      proportion of owner-occupied units built prior to 1940\n",
            "        - DIS      weighted distances to five Boston employment centres\n",
            "        - RAD      index of accessibility to radial highways\n",
            "        - TAX      full-value property-tax rate per $10,000\n",
            "        - PTRATIO  pupil-teacher ratio by town\n",
            "        - B        1000(Bk - 0.63)^2 where Bk is the proportion of black people by town\n",
            "        - LSTAT    % lower status of the population\n",
            "        - MEDV     Median value of owner-occupied homes in $1000's\n",
            "\n",
            "    :Missing Attribute Values: None\n",
            "\n",
            "    :Creator: Harrison, D. and Rubinfeld, D.L.\n",
            "\n",
            "This is a copy of UCI ML housing dataset.\n",
            "https://archive.ics.uci.edu/ml/machine-learning-databases/housing/\n",
            "\n",
            "\n",
            "This dataset was taken from the StatLib library which is maintained at Carnegie Mellon University.\n",
            "\n",
            "The Boston house-price data of Harrison, D. and Rubinfeld, D.L. 'Hedonic\n",
            "prices and the demand for clean air', J. Environ. Economics & Management,\n",
            "vol.5, 81-102, 1978.   Used in Belsley, Kuh & Welsch, 'Regression diagnostics\n",
            "...', Wiley, 1980.   N.B. Various transformations are used in the table on\n",
            "pages 244-261 of the latter.\n",
            "\n",
            "The Boston house-price data has been used in many machine learning papers that address regression\n",
            "problems.   \n",
            "     \n",
            ".. topic:: References\n",
            "\n",
            "   - Belsley, Kuh & Welsch, 'Regression diagnostics: Identifying Influential Data and Sources of Collinearity', Wiley, 1980. 244-261.\n",
            "   - Quinlan,R. (1993). Combining Instance-Based and Model-Based Learning. In Proceedings on the Tenth International Conference of Machine Learning, 236-243, University of Massachusetts, Amherst. Morgan Kaufmann.\n",
            "\n"
          ]
        }
      ],
      "source": [
        "datos_viviendas = skldata.load_boston()\n",
        "print(datos_viviendas['feature_names'])\n",
        "print(datos_viviendas['DESCR'])\n"
      ]
    },
    {
      "cell_type": "markdown",
      "metadata": {
        "id": "SSvVspwNWoyc"
      },
      "source": [
        "Otra forma de cargar los datos es indicar, mediante el parámetro *return_X_y*, que nos devuelva únicamente los valores separando las variables dependientes (*X*) de la variable independiente (*y*). Para ajustar un modelo de regresión simple con una variable, nos quedaremos con una única variable dependiente (DIST, distancia a centros de empleo)."
      ]
    },
    {
      "cell_type": "code",
      "execution_count": 11,
      "metadata": {
        "id": "adZ1UeVeW5h7"
      },
      "outputs": [],
      "source": [
        "X, y = skldata.load_boston(return_X_y=True)\n",
        "x = X[:, np.newaxis, 7]"
      ]
    },
    {
      "cell_type": "markdown",
      "metadata": {
        "id": "gHf0jQonXU7K"
      },
      "source": [
        "En este caso, las variables no representan el mismo concepto como ocurría con el ejemplo de las alturas de padres e hijos. Si tenemos variables con distintas unidades de medida, es conveniente escalar los valores para que el modelo no se vea afectado por los rangos de las variables. La librería *scikit-learn* nos ofrece clases para realizar este tipo de preprocesado."
      ]
    },
    {
      "cell_type": "code",
      "execution_count": 12,
      "metadata": {
        "id": "K8B4HZj1bmjd"
      },
      "outputs": [
        {
          "name": "stdout",
          "output_type": "stream",
          "text": [
            "[[0.1402136 ]\n",
            " [0.55715988]\n",
            " [0.55715988]\n",
            " [1.07773662]\n",
            " [1.07773662]\n",
            " [1.07773662]\n",
            " [0.83924392]\n",
            " [1.02463789]\n",
            " [1.08719646]\n",
            " [1.32963473]]\n",
            "[[ 0.15968566]\n",
            " [-0.10152429]\n",
            " [ 1.32424667]\n",
            " [ 1.18275795]\n",
            " [ 1.48750288]\n",
            " [ 0.6712218 ]\n",
            " [ 0.03996443]\n",
            " [ 0.49708184]\n",
            " [-0.65659542]\n",
            " [-0.39538548]]\n"
          ]
        }
      ],
      "source": [
        "from sklearn.preprocessing import StandardScaler\n",
        "# Escalar con media = 0 y desviación estándar = 1\n",
        "alg_escalado = StandardScaler(with_mean=True, with_std=True)\n",
        "x_escalado = alg_escalado.fit_transform(x)\n",
        "# Para la variable y, los valores tienen que ser convertidos antes a un array de 2 dimensiones\n",
        "y_escalado = alg_escalado.fit_transform(y.reshape(-1,1))\n",
        "print(x_escalado[0:10])\n",
        "print(y_escalado[0:10])"
      ]
    },
    {
      "cell_type": "markdown",
      "metadata": {
        "id": "eLiQkHwXeN0A"
      },
      "source": [
        "Vamos a separar los valores en dos muestras, una para entrenamiento (*train*) y otra para test, de forma que podamos utilizar el modelo para predicir sobre datos no vistos. Para ello, utilizamos la función *train_test_split*, indicándole que queremos reservar un 33% de los datos para test."
      ]
    },
    {
      "cell_type": "code",
      "execution_count": 13,
      "metadata": {
        "id": "JNhJBjgmefxR"
      },
      "outputs": [],
      "source": [
        "from sklearn.model_selection import train_test_split\n",
        "x_train, x_test, y_train, y_test = train_test_split(x, y, test_size=0.33)"
      ]
    },
    {
      "cell_type": "markdown",
      "metadata": {
        "id": "BzWdkP2Udi0n"
      },
      "source": [
        "Ahora podemos invocar al método de los mínimos cuadrados para ajustar un modelo lineal entre el precio de la vivienda y la distancia a los centros de empleo:"
      ]
    },
    {
      "cell_type": "code",
      "execution_count": 14,
      "metadata": {
        "id": "H5cKL3Gmdzgo"
      },
      "outputs": [
        {
          "name": "stdout",
          "output_type": "stream",
          "text": [
            "LinearRegression()\n"
          ]
        }
      ],
      "source": [
        "alg_regresion = LinearRegression()\n",
        "modelo_precio = alg_regresion.fit(x_train, y_train)\n",
        "print(modelo_precio)"
      ]
    },
    {
      "cell_type": "markdown",
      "metadata": {
        "id": "24ZT9SZ_fXC8"
      },
      "source": [
        "Podemos extraer los valores de los coeficientes estimados accediendo a las propiedades del modelo:"
      ]
    },
    {
      "cell_type": "code",
      "execution_count": 15,
      "metadata": {
        "id": "G1ti9yQrffP-"
      },
      "outputs": [
        {
          "name": "stdout",
          "output_type": "stream",
          "text": [
            "17.42376590641694\n",
            "1.2608570184853074\n"
          ]
        }
      ],
      "source": [
        "intercepto = modelo_precio.intercept_\n",
        "print(intercepto)\n",
        "pendiente = modelo_precio.coef_[0]\n",
        "print(pendiente)"
      ]
    },
    {
      "cell_type": "markdown",
      "metadata": {
        "id": "pFRq9T0IgCLa"
      },
      "source": [
        "Con la función *predict*, calculamos los valores estimados de *y* para la partición de test. A continuación, podemos calcular los residuos puesto que tenemos guardados los valores reales para esa partición."
      ]
    },
    {
      "cell_type": "code",
      "execution_count": 16,
      "metadata": {
        "id": "k5Kk1WkagOaz"
      },
      "outputs": [
        {
          "name": "stdout",
          "output_type": "stream",
          "text": [
            "[-6.90295220e-01 -3.76300748e-01  1.20685860e+01 -4.02459183e+00\n",
            "  1.59518703e-02 -1.47539170e-01 -3.63041959e+00  9.46158887e-01\n",
            " -1.23277310e+00  2.02354509e+00  1.05869522e+01 -4.87639798e+00\n",
            "  1.48532786e+00 -7.23806818e+00 -5.69948518e+00 -4.63722640e+00\n",
            "  1.13634173e+01 -6.68739629e+00 -8.82543076e+00 -1.59703470e+00\n",
            "  1.56417276e+00 -3.85464104e+00 -8.08722757e+00 -4.79350248e+00\n",
            " -2.29955667e+00 -3.02532027e+00  2.89268095e+01 -5.02953569e+00\n",
            "  6.56928664e+00 -5.56045607e+00  2.40292319e+00  3.11021662e+01\n",
            " -1.53476136e+00 -8.86428075e+00  2.85425003e+01 -5.95668753e+00\n",
            "  3.00191158e-01  2.01261775e+00  4.07325093e+00  1.11753509e+00\n",
            "  1.89202250e+01  1.25058377e+01  7.82639099e+00  1.62360202e+00\n",
            "  1.96299718e+00  1.61874144e+01 -3.93934386e+00 -2.94969667e+00\n",
            " -8.97143982e+00 -4.49126205e+00  3.27595515e+00 -7.99728583e+00\n",
            " -2.54582908e+00 -6.56402676e+00 -2.04431683e+00 -2.48653969e+00\n",
            " -8.18784396e+00 -4.79126205e+00 -7.03890188e-02 -8.66433612e+00\n",
            " -2.05793461e+00  7.96063015e+00 -1.68784448e+00  1.94365605e+01\n",
            " -5.58736847e+00 -3.33276406e-01  3.03054306e+01 -1.37145334e+00\n",
            "  2.07543677e+00 -1.90934690e+00  3.64968668e+00 -6.82792283e+00\n",
            "  3.66063015e+00  6.57382547e+00  1.46347214e+00 -1.03277697e+01\n",
            "  5.56277360e+00  1.08061328e+01 -1.38176403e+00  6.45590778e+00\n",
            " -2.50374558e+00  1.14865742e+01  9.83496352e+00 -8.95375740e+00\n",
            " -1.25370603e+01 -6.04365859e+00  9.16049879e-01 -2.79463881e+00\n",
            "  8.33266668e+00 -6.57296663e+00  8.75198561e+00 -1.39018395e+00\n",
            " -1.00209195e+01 -8.07244825e+00 -2.34994702e+00  7.01106495e+00\n",
            " -2.30958685e+00 -6.17532014e+00 -9.14037958e+00 -7.56182929e-01\n",
            " -6.39496143e+00  1.29401348e+00 -2.79186336e+00  6.66063015e+00\n",
            " -3.28059962e+00  5.82639099e+00  8.85578065e+00 -6.97073920e+00\n",
            "  2.14759964e+00 -6.91499528e+00  1.83424886e+00  3.08656294e+01\n",
            "  3.67985159e+00  2.60164881e+00  2.29782522e+01  3.31752105e+00\n",
            " -4.84958384e+00  5.83420778e+00 -6.03285707e+00  1.34248070e+01\n",
            " -5.29236901e+00  1.41932889e+00 -5.67099111e+00  2.54544093e+01\n",
            " -8.21681481e+00 -3.77363891e+00 -2.76062375e+00 -2.71626992e+00\n",
            " -9.74245389e+00 -2.01060958e+00 -1.09504675e+01  3.08961421e+01\n",
            "  1.70711636e+01  5.70164881e+00 -4.33408829e+00  5.66803956e+00\n",
            " -1.09186336e+00 -6.00347807e+00  3.70827748e-01  3.00912110e+01\n",
            "  3.58092890e+00 -1.20218741e+01 -8.61237478e+00 -2.95925032e+00\n",
            "  1.85107389e+00  1.75290954e+00 -6.90521649e+00 -1.46958961e+00\n",
            "  5.66723594e-01  8.84619918e+00 -8.11642434e+00 -1.48301163e+00\n",
            " -1.33557507e+00  8.04100133e+00 -2.80090072e+00  2.03616744e+00\n",
            "  1.95232097e+00 -1.25708200e+01  1.37325093e+00 -5.41304810e+00\n",
            "  2.00028943e+00 -4.51824543e+00  3.04294825e+00  1.51604988e+00\n",
            " -2.57537629e+00 -4.51966045e+00 -1.70090072e+00]\n"
          ]
        }
      ],
      "source": [
        "y_pred = modelo_precio.predict(x_test)\n",
        "residuos = y_test - y_pred\n",
        "print(residuos)"
      ]
    }
  ],
  "metadata": {
    "colab": {
      "collapsed_sections": [],
      "name": "MetodosPredictivos-NotebookEjemploSemana1.ipynb",
      "provenance": []
    },
    "kernelspec": {
      "display_name": "Python 3",
      "name": "python3"
    },
    "language_info": {
      "codemirror_mode": {
        "name": "ipython",
        "version": 3
      },
      "file_extension": ".py",
      "mimetype": "text/x-python",
      "name": "python",
      "nbconvert_exporter": "python",
      "pygments_lexer": "ipython3",
      "version": "3.9.5"
    }
  },
  "nbformat": 4,
  "nbformat_minor": 0
}
