{
  "cells": [
    {
      "cell_type": "markdown",
      "metadata": {
        "id": "vk9mtJJOegTX"
      },
      "source": [
        "# Entrenamiento de clasificadores basados en árboles de decisión y reglas en *scikit-learn*\n",
        "En este notebook aprenderás a crear árboles de decisión de distinto tipo y utlizando varios parámetros de los mismos en Python gracias a la librería *scikit-learn*. Además, también se verán distintas formas de visualizar estos clasificadores, de manera que podamos interpretar facilmente las salidas que producen para un patrón dado.\n",
        "\n",
        "Es recomendable tener en todo momento disponible la [Guía de usuario](https://scikit-learn.org/stable/user_guide.html), concretamente el apartado de [árboles de decisión](https://scikit-learn.org/stable/modules/tree.html); o la documentación de la [API](https://scikit-learn.org/stable/modules/classes.html) de *scikit-learn*."
      ]
    },
    {
      "cell_type": "markdown",
      "metadata": {
        "id": "h3dHp9YUe8RD"
      },
      "source": [
        "## 1.   Carga de datos\n",
        "\n",
        "En primer lugar, como de costumbre, vamos a cargar los datos que utilizaremos en el resto del notebook. Para seguir este notebook, vamos a utilizar el conjunto de datos de [*Breast Cancer*](https://scikit-learn.org/stable/modules/generated/sklearn.datasets.load_breast_cancer.html).\n",
        "\n",
        "Pese a utilizar por defecto este conjunto de datos, se espera que el alumno ejecute y entienda primero las distintas celdas de este notebook utilizando este dataset; y posteriormente, seleccione otro conjunto de datos de clasificación y vuelva a ejecutarlas sobre el nuevo conjunto. Así, se espera que pueda analizar y comprender el funcionamiento de los métodos con distintas elecciones de parámetros en otros escenarios, que no tienen por qué comportarse igual que con el conjunto utilizado por defecto.\n"
      ]
    },
    {
      "cell_type": "code",
      "execution_count": 1,
      "metadata": {
        "id": "4Zb8ISLewbTH"
      },
      "outputs": [],
      "source": [
        "from sklearn.datasets import load_breast_cancer\n",
        "import pandas as pd\n",
        "import numpy as np\n",
        "\n",
        "# Cargamos el conjunto de datos Cancer\n",
        "data = load_breast_cancer()\n",
        "X, y = data.data, data.target\n",
        "\n",
        "# Para estos primeros ejemplos, utilizaremos un 80% de las instancias para entrenamiento y el 20% restante para test\n",
        "from sklearn.model_selection import train_test_split\n",
        "X_train, X_test, y_train, y_test = train_test_split(X, y, test_size=0.2, random_state=0)\n"
      ]
    },
    {
      "cell_type": "markdown",
      "metadata": {
        "id": "hYz_AZNBRO2-"
      },
      "source": [
        "## 2. Construcción de árboles de decisión\n",
        "\n",
        "Una vez tenemos los datos cargados, procederemos a construir métodos de árboles de decisión.\n",
        "\n",
        "Cabe destacar, que de momento, *scikit-learn* solo permite la construcción de árboles binarios, por lo que la implementación no respeta 100% la de los algoritmos originales como C4.5 (que sí permite más de 2 ramificaciones por nodo). Sin embargo, estos árboles son igualmente válidos para resolver problemas de clasificación.\n"
      ]
    },
    {
      "cell_type": "code",
      "execution_count": 2,
      "metadata": {
        "id": "GwpWiohSaHDa"
      },
      "outputs": [
        {
          "name": "stdout",
          "output_type": "stream",
          "text": [
            "  acc: 0.9122807017543859\n",
            "  f1: 0.923076923076923\n",
            "  acc entropy: 0.8947368421052632\n",
            "  f1 entropy: 0.9062499999999999\n"
          ]
        }
      ],
      "source": [
        "from sklearn import tree\n",
        "from sklearn.metrics import *\n",
        "\n",
        "# Entrenamos el clasificador con los parámetros por defecto sobre los datos de entrenamiento\n",
        "clf = tree.DecisionTreeClassifier()\n",
        "clf = clf.fit(X_train, y_train)\n",
        "\n",
        "# Visualizamos la predicción sobre datos de test\n",
        "y_pred = clf.predict(X_test)\n",
        "\n",
        "# Y algunas métricas\n",
        "accuracy = accuracy_score(y_test, y_pred)\n",
        "print('  acc: ' + str(accuracy))\n",
        "f1 = f1_score(y_test, y_pred)\n",
        "print('  f1: ' + str(f1))\n",
        "\n",
        "\n",
        "# Por defecto, DecisionTreeClassifier, utiliza el criterio gini para generar los árboles (como CART)\n",
        "# También se le puede indicar que utilice un criterio basado en la entropía (ganancia de información), \n",
        "#   como C4.5. Como se comentaba antes, no será fielmente un árbol C4.5 porque las particiones\n",
        "#   serán binarias, pero el criterio para el particionado si será el mismo\n",
        "clf_entropy = tree.DecisionTreeClassifier(criterion='entropy')\n",
        "clf_entropy = clf.fit(X_train, y_train)\n",
        "y_pred_entropy = clf_entropy.predict(X_test)\n",
        "\n",
        "accuracy = accuracy_score(y_test, y_pred_entropy)\n",
        "print('  acc entropy: ' + str(accuracy))\n",
        "f1 = f1_score(y_test, y_pred_entropy)\n",
        "print('  f1 entropy: ' + str(f1))"
      ]
    },
    {
      "cell_type": "code",
      "execution_count": 3,
      "metadata": {
        "id": "0jSu1Cigd01C"
      },
      "outputs": [
        {
          "name": "stdout",
          "output_type": "stream",
          "text": [
            "Profundidad: 9\n",
            "Número de nodos: 43\n",
            "Número de nodos hoja: 22\n"
          ]
        }
      ],
      "source": [
        "# Imprimimos cierta información de la complejidad del árbol generado\n",
        "print(\"Profundidad: \" + str(clf.get_depth()))\n",
        "print(\"Número de nodos: \" + str(clf.tree_.node_count))\n",
        "print(\"Número de nodos hoja: \" +  str(clf.tree_.n_leaves))"
      ]
    },
    {
      "cell_type": "code",
      "execution_count": 4,
      "metadata": {
        "id": "bQxzwSx9kfAc"
      },
      "outputs": [
        {
          "data": {
            "text/plain": [
              "[Text(213.94008620689655, 206.56799999999998, 'X[27] <= 0.142\\ngini = 0.462\\nsamples = 455\\nvalue = [165, 290]'),\n",
              " Text(162.34913793103448, 184.824, 'X[23] <= 957.45\\ngini = 0.146\\nsamples = 303\\nvalue = [24, 279]'),\n",
              " Text(128.4362068965517, 163.07999999999998, 'X[22] <= 107.75\\ngini = 0.073\\nsamples = 288\\nvalue = [11, 277]'),\n",
              " Text(95.2448275862069, 141.336, 'X[28] <= 0.157\\ngini = 0.036\\nsamples = 269\\nvalue = [5, 264]'),\n",
              " Text(83.7, 119.592, 'gini = 0.0\\nsamples = 1\\nvalue = [1, 0]'),\n",
              " Text(106.78965517241379, 119.592, 'X[13] <= 48.975\\ngini = 0.029\\nsamples = 268\\nvalue = [4, 264]'),\n",
              " Text(75.04137931034482, 97.848, 'X[6] <= 0.139\\ngini = 0.022\\nsamples = 265\\nvalue = [3, 262]'),\n",
              " Text(46.179310344827584, 76.10399999999998, 'X[14] <= 0.003\\ngini = 0.015\\nsamples = 262\\nvalue = [2, 260]'),\n",
              " Text(23.089655172413792, 54.360000000000014, 'X[23] <= 756.9\\ngini = 0.278\\nsamples = 6\\nvalue = [1, 5]'),\n",
              " Text(11.544827586206896, 32.615999999999985, 'gini = 0.0\\nsamples = 5\\nvalue = [0, 5]'),\n",
              " Text(34.63448275862069, 32.615999999999985, 'gini = 0.0\\nsamples = 1\\nvalue = [1, 0]'),\n",
              " Text(69.26896551724138, 54.360000000000014, 'X[21] <= 32.83\\ngini = 0.008\\nsamples = 256\\nvalue = [1, 255]'),\n",
              " Text(57.72413793103448, 32.615999999999985, 'gini = 0.0\\nsamples = 239\\nvalue = [0, 239]'),\n",
              " Text(80.81379310344828, 32.615999999999985, 'X[21] <= 33.805\\ngini = 0.111\\nsamples = 17\\nvalue = [1, 16]'),\n",
              " Text(69.26896551724138, 10.872000000000014, 'gini = 0.0\\nsamples = 1\\nvalue = [1, 0]'),\n",
              " Text(92.35862068965517, 10.872000000000014, 'gini = 0.0\\nsamples = 16\\nvalue = [0, 16]'),\n",
              " Text(103.90344827586206, 76.10399999999998, 'X[11] <= 1.746\\ngini = 0.444\\nsamples = 3\\nvalue = [1, 2]'),\n",
              " Text(92.35862068965517, 54.360000000000014, 'gini = 0.0\\nsamples = 2\\nvalue = [0, 2]'),\n",
              " Text(115.44827586206895, 54.360000000000014, 'gini = 0.0\\nsamples = 1\\nvalue = [1, 0]'),\n",
              " Text(138.53793103448277, 97.848, 'X[25] <= 0.085\\ngini = 0.444\\nsamples = 3\\nvalue = [1, 2]'),\n",
              " Text(126.99310344827586, 76.10399999999998, 'gini = 0.0\\nsamples = 1\\nvalue = [1, 0]'),\n",
              " Text(150.08275862068965, 76.10399999999998, 'gini = 0.0\\nsamples = 2\\nvalue = [0, 2]'),\n",
              " Text(161.62758620689655, 141.336, 'X[2] <= 91.92\\ngini = 0.432\\nsamples = 19\\nvalue = [6, 13]'),\n",
              " Text(150.08275862068965, 119.592, 'gini = 0.0\\nsamples = 4\\nvalue = [4, 0]'),\n",
              " Text(173.17241379310343, 119.592, 'X[17] <= 0.016\\ngini = 0.231\\nsamples = 15\\nvalue = [2, 13]'),\n",
              " Text(161.62758620689655, 97.848, 'gini = 0.0\\nsamples = 13\\nvalue = [0, 13]'),\n",
              " Text(184.71724137931034, 97.848, 'gini = 0.0\\nsamples = 2\\nvalue = [2, 0]'),\n",
              " Text(196.26206896551724, 163.07999999999998, 'X[8] <= 0.152\\ngini = 0.231\\nsamples = 15\\nvalue = [13, 2]'),\n",
              " Text(184.71724137931034, 141.336, 'gini = 0.0\\nsamples = 2\\nvalue = [0, 2]'),\n",
              " Text(207.80689655172412, 141.336, 'gini = 0.0\\nsamples = 13\\nvalue = [13, 0]'),\n",
              " Text(265.5310344827586, 184.824, 'X[23] <= 729.55\\ngini = 0.134\\nsamples = 152\\nvalue = [141, 11]'),\n",
              " Text(242.44137931034481, 163.07999999999998, 'X[4] <= 0.108\\ngini = 0.49\\nsamples = 14\\nvalue = [6, 8]'),\n",
              " Text(230.8965517241379, 141.336, 'gini = 0.0\\nsamples = 8\\nvalue = [0, 8]'),\n",
              " Text(253.98620689655172, 141.336, 'gini = 0.0\\nsamples = 6\\nvalue = [6, 0]'),\n",
              " Text(288.6206896551724, 163.07999999999998, 'X[10] <= 0.178\\ngini = 0.043\\nsamples = 138\\nvalue = [135, 3]'),\n",
              " Text(277.07586206896553, 141.336, 'gini = 0.0\\nsamples = 1\\nvalue = [0, 1]'),\n",
              " Text(300.1655172413793, 141.336, 'X[26] <= 0.203\\ngini = 0.029\\nsamples = 137\\nvalue = [135, 2]'),\n",
              " Text(288.6206896551724, 119.592, 'gini = 0.0\\nsamples = 1\\nvalue = [0, 1]'),\n",
              " Text(311.7103448275862, 119.592, 'X[1] <= 15.37\\ngini = 0.015\\nsamples = 136\\nvalue = [135, 1]'),\n",
              " Text(300.1655172413793, 97.848, 'X[22] <= 116.85\\ngini = 0.32\\nsamples = 5\\nvalue = [4, 1]'),\n",
              " Text(288.6206896551724, 76.10399999999998, 'gini = 0.0\\nsamples = 1\\nvalue = [0, 1]'),\n",
              " Text(311.7103448275862, 76.10399999999998, 'gini = 0.0\\nsamples = 4\\nvalue = [4, 0]'),\n",
              " Text(323.2551724137931, 97.848, 'gini = 0.0\\nsamples = 131\\nvalue = [131, 0]')]"
            ]
          },
          "execution_count": 4,
          "metadata": {},
          "output_type": "execute_result"
        },
        {
          "data": {
            "image/png": "[encoded data removed]",
            "text/plain": [
              "<Figure size 432x288 with 1 Axes>"
            ]
          },
          "metadata": {
            "needs_background": "light"
          },
          "output_type": "display_data"
        }
      ],
      "source": [
        "# Podemos imprimir el árbol de forma sencilla con la función plot\n",
        "tree.plot_tree(clf)"
      ]
    },
    {
      "cell_type": "code",
      "execution_count": 5,
      "metadata": {
        "id": "tchdGo3tjrTu"
      },
      "outputs": [
        {
          "name": "stdout",
          "output_type": "stream",
          "text": [
            "Collecting graphviz\n",
            "  Downloading graphviz-0.19.1-py3-none-any.whl (46 kB)\n",
            "\u001b[K     |████████████████████████████████| 46 kB 1.5 MB/s eta 0:00:01\n",
            "\u001b[?25hInstalling collected packages: graphviz\n",
            "Successfully installed graphviz-0.19.1\n",
            "\u001b[33mWARNING: You are using pip version 21.2.4; however, version 22.0.3 is available.\n",
            "You should consider upgrading via the '/Users/juanjomendeztorrero/Library/Caches/pypoetry/virtualenvs/master-pvd-lswVkwae-py3.9/bin/python -m pip install --upgrade pip' command.\u001b[0m\n"
          ]
        },
        {
          "ename": "ExecutableNotFound",
          "evalue": "failed to execute PosixPath('dot'), make sure the Graphviz executables are on your systems' PATH",
          "output_type": "error",
          "traceback": [
            "\u001b[0;31m---------------------------------------------------------------------------\u001b[0m",
            "\u001b[0;31mFileNotFoundError\u001b[0m                         Traceback (most recent call last)",
            "\u001b[0;32m~/Library/Caches/pypoetry/virtualenvs/master-pvd-lswVkwae-py3.9/lib/python3.9/site-packages/graphviz/backend/execute.py\u001b[0m in \u001b[0;36mrun_check\u001b[0;34m(cmd, input_lines, encoding, capture_output, quiet, **kwargs)\u001b[0m\n\u001b[1;32m     82\u001b[0m             \u001b[0;32massert\u001b[0m \u001b[0miter\u001b[0m\u001b[0;34m(\u001b[0m\u001b[0minput_lines\u001b[0m\u001b[0;34m)\u001b[0m \u001b[0;32mis\u001b[0m \u001b[0minput_lines\u001b[0m\u001b[0;34m\u001b[0m\u001b[0;34m\u001b[0m\u001b[0m\n\u001b[0;32m---> 83\u001b[0;31m             \u001b[0mproc\u001b[0m \u001b[0;34m=\u001b[0m \u001b[0m_run_input_lines\u001b[0m\u001b[0;34m(\u001b[0m\u001b[0mcmd\u001b[0m\u001b[0;34m,\u001b[0m \u001b[0minput_lines\u001b[0m\u001b[0;34m,\u001b[0m \u001b[0mkwargs\u001b[0m\u001b[0;34m=\u001b[0m\u001b[0mkwargs\u001b[0m\u001b[0;34m)\u001b[0m\u001b[0;34m\u001b[0m\u001b[0;34m\u001b[0m\u001b[0m\n\u001b[0m\u001b[1;32m     84\u001b[0m         \u001b[0;32melse\u001b[0m\u001b[0;34m:\u001b[0m\u001b[0;34m\u001b[0m\u001b[0;34m\u001b[0m\u001b[0m\n",
            "\u001b[0;32m~/Library/Caches/pypoetry/virtualenvs/master-pvd-lswVkwae-py3.9/lib/python3.9/site-packages/graphviz/backend/execute.py\u001b[0m in \u001b[0;36m_run_input_lines\u001b[0;34m(cmd, input_lines, kwargs)\u001b[0m\n\u001b[1;32m    102\u001b[0m \u001b[0;32mdef\u001b[0m \u001b[0m_run_input_lines\u001b[0m\u001b[0;34m(\u001b[0m\u001b[0mcmd\u001b[0m\u001b[0;34m,\u001b[0m \u001b[0minput_lines\u001b[0m\u001b[0;34m,\u001b[0m \u001b[0;34m*\u001b[0m\u001b[0;34m,\u001b[0m \u001b[0mkwargs\u001b[0m\u001b[0;34m)\u001b[0m\u001b[0;34m:\u001b[0m\u001b[0;34m\u001b[0m\u001b[0;34m\u001b[0m\u001b[0m\n\u001b[0;32m--> 103\u001b[0;31m     \u001b[0mpopen\u001b[0m \u001b[0;34m=\u001b[0m \u001b[0msubprocess\u001b[0m\u001b[0;34m.\u001b[0m\u001b[0mPopen\u001b[0m\u001b[0;34m(\u001b[0m\u001b[0mcmd\u001b[0m\u001b[0;34m,\u001b[0m \u001b[0mstdin\u001b[0m\u001b[0;34m=\u001b[0m\u001b[0msubprocess\u001b[0m\u001b[0;34m.\u001b[0m\u001b[0mPIPE\u001b[0m\u001b[0;34m,\u001b[0m \u001b[0;34m**\u001b[0m\u001b[0mkwargs\u001b[0m\u001b[0;34m)\u001b[0m\u001b[0;34m\u001b[0m\u001b[0;34m\u001b[0m\u001b[0m\n\u001b[0m\u001b[1;32m    104\u001b[0m \u001b[0;34m\u001b[0m\u001b[0m\n",
            "\u001b[0;32m~/miniconda3/lib/python3.9/subprocess.py\u001b[0m in \u001b[0;36m__init__\u001b[0;34m(self, args, bufsize, executable, stdin, stdout, stderr, preexec_fn, close_fds, shell, cwd, env, universal_newlines, startupinfo, creationflags, restore_signals, start_new_session, pass_fds, user, group, extra_groups, encoding, errors, text, umask)\u001b[0m\n\u001b[1;32m    950\u001b[0m \u001b[0;34m\u001b[0m\u001b[0m\n\u001b[0;32m--> 951\u001b[0;31m             self._execute_child(args, executable, preexec_fn, close_fds,\n\u001b[0m\u001b[1;32m    952\u001b[0m                                 \u001b[0mpass_fds\u001b[0m\u001b[0;34m,\u001b[0m \u001b[0mcwd\u001b[0m\u001b[0;34m,\u001b[0m \u001b[0menv\u001b[0m\u001b[0;34m,\u001b[0m\u001b[0;34m\u001b[0m\u001b[0;34m\u001b[0m\u001b[0m\n",
            "\u001b[0;32m~/miniconda3/lib/python3.9/subprocess.py\u001b[0m in \u001b[0;36m_execute_child\u001b[0;34m(self, args, executable, preexec_fn, close_fds, pass_fds, cwd, env, startupinfo, creationflags, shell, p2cread, p2cwrite, c2pread, c2pwrite, errread, errwrite, restore_signals, gid, gids, uid, umask, start_new_session)\u001b[0m\n\u001b[1;32m   1820\u001b[0m                         \u001b[0merr_msg\u001b[0m \u001b[0;34m=\u001b[0m \u001b[0mos\u001b[0m\u001b[0;34m.\u001b[0m\u001b[0mstrerror\u001b[0m\u001b[0;34m(\u001b[0m\u001b[0merrno_num\u001b[0m\u001b[0;34m)\u001b[0m\u001b[0;34m\u001b[0m\u001b[0;34m\u001b[0m\u001b[0m\n\u001b[0;32m-> 1821\u001b[0;31m                     \u001b[0;32mraise\u001b[0m \u001b[0mchild_exception_type\u001b[0m\u001b[0;34m(\u001b[0m\u001b[0merrno_num\u001b[0m\u001b[0;34m,\u001b[0m \u001b[0merr_msg\u001b[0m\u001b[0;34m,\u001b[0m \u001b[0merr_filename\u001b[0m\u001b[0;34m)\u001b[0m\u001b[0;34m\u001b[0m\u001b[0;34m\u001b[0m\u001b[0m\n\u001b[0m\u001b[1;32m   1822\u001b[0m                 \u001b[0;32mraise\u001b[0m \u001b[0mchild_exception_type\u001b[0m\u001b[0;34m(\u001b[0m\u001b[0merr_msg\u001b[0m\u001b[0;34m)\u001b[0m\u001b[0;34m\u001b[0m\u001b[0;34m\u001b[0m\u001b[0m\n",
            "\u001b[0;31mFileNotFoundError\u001b[0m: [Errno 2] No such file or directory: PosixPath('dot')",
            "\nThe above exception was the direct cause of the following exception:\n",
            "\u001b[0;31mExecutableNotFound\u001b[0m                        Traceback (most recent call last)",
            "\u001b[0;32m~/Library/Caches/pypoetry/virtualenvs/master-pvd-lswVkwae-py3.9/lib/python3.9/site-packages/IPython/core/formatters.py\u001b[0m in \u001b[0;36m__call__\u001b[0;34m(self, obj, include, exclude)\u001b[0m\n\u001b[1;32m    968\u001b[0m \u001b[0;34m\u001b[0m\u001b[0m\n\u001b[1;32m    969\u001b[0m             \u001b[0;32mif\u001b[0m \u001b[0mmethod\u001b[0m \u001b[0;32mis\u001b[0m \u001b[0;32mnot\u001b[0m \u001b[0;32mNone\u001b[0m\u001b[0;34m:\u001b[0m\u001b[0;34m\u001b[0m\u001b[0;34m\u001b[0m\u001b[0m\n\u001b[0;32m--> 970\u001b[0;31m                 \u001b[0;32mreturn\u001b[0m \u001b[0mmethod\u001b[0m\u001b[0;34m(\u001b[0m\u001b[0minclude\u001b[0m\u001b[0;34m=\u001b[0m\u001b[0minclude\u001b[0m\u001b[0;34m,\u001b[0m \u001b[0mexclude\u001b[0m\u001b[0;34m=\u001b[0m\u001b[0mexclude\u001b[0m\u001b[0;34m)\u001b[0m\u001b[0;34m\u001b[0m\u001b[0;34m\u001b[0m\u001b[0m\n\u001b[0m\u001b[1;32m    971\u001b[0m             \u001b[0;32mreturn\u001b[0m \u001b[0;32mNone\u001b[0m\u001b[0;34m\u001b[0m\u001b[0;34m\u001b[0m\u001b[0m\n\u001b[1;32m    972\u001b[0m         \u001b[0;32melse\u001b[0m\u001b[0;34m:\u001b[0m\u001b[0;34m\u001b[0m\u001b[0;34m\u001b[0m\u001b[0m\n",
            "\u001b[0;32m~/Library/Caches/pypoetry/virtualenvs/master-pvd-lswVkwae-py3.9/lib/python3.9/site-packages/graphviz/jupyter_integration.py\u001b[0m in \u001b[0;36m_repr_mimebundle_\u001b[0;34m(self, include, exclude, **_)\u001b[0m\n\u001b[1;32m     96\u001b[0m         \u001b[0minclude\u001b[0m \u001b[0;34m=\u001b[0m \u001b[0mset\u001b[0m\u001b[0;34m(\u001b[0m\u001b[0minclude\u001b[0m\u001b[0;34m)\u001b[0m \u001b[0;32mif\u001b[0m \u001b[0minclude\u001b[0m \u001b[0;32mis\u001b[0m \u001b[0;32mnot\u001b[0m \u001b[0;32mNone\u001b[0m \u001b[0;32melse\u001b[0m \u001b[0;34m{\u001b[0m\u001b[0mself\u001b[0m\u001b[0;34m.\u001b[0m\u001b[0m_jupyter_mimetype\u001b[0m\u001b[0;34m}\u001b[0m\u001b[0;34m\u001b[0m\u001b[0;34m\u001b[0m\u001b[0m\n\u001b[1;32m     97\u001b[0m         \u001b[0minclude\u001b[0m \u001b[0;34m-=\u001b[0m \u001b[0mset\u001b[0m\u001b[0;34m(\u001b[0m\u001b[0mexclude\u001b[0m \u001b[0;32mor\u001b[0m \u001b[0;34m[\u001b[0m\u001b[0;34m]\u001b[0m\u001b[0;34m)\u001b[0m\u001b[0;34m\u001b[0m\u001b[0;34m\u001b[0m\u001b[0m\n\u001b[0;32m---> 98\u001b[0;31m         return {mimetype: getattr(self, method_name)()\n\u001b[0m\u001b[1;32m     99\u001b[0m                 \u001b[0;32mfor\u001b[0m \u001b[0mmimetype\u001b[0m\u001b[0;34m,\u001b[0m \u001b[0mmethod_name\u001b[0m \u001b[0;32min\u001b[0m \u001b[0mMIME_TYPES\u001b[0m\u001b[0;34m.\u001b[0m\u001b[0mitems\u001b[0m\u001b[0;34m(\u001b[0m\u001b[0;34m)\u001b[0m\u001b[0;34m\u001b[0m\u001b[0;34m\u001b[0m\u001b[0m\n\u001b[1;32m    100\u001b[0m                 if mimetype in include}\n",
            "\u001b[0;32m~/Library/Caches/pypoetry/virtualenvs/master-pvd-lswVkwae-py3.9/lib/python3.9/site-packages/graphviz/jupyter_integration.py\u001b[0m in \u001b[0;36m<dictcomp>\u001b[0;34m(.0)\u001b[0m\n\u001b[1;32m     96\u001b[0m         \u001b[0minclude\u001b[0m \u001b[0;34m=\u001b[0m \u001b[0mset\u001b[0m\u001b[0;34m(\u001b[0m\u001b[0minclude\u001b[0m\u001b[0;34m)\u001b[0m \u001b[0;32mif\u001b[0m \u001b[0minclude\u001b[0m \u001b[0;32mis\u001b[0m \u001b[0;32mnot\u001b[0m \u001b[0;32mNone\u001b[0m \u001b[0;32melse\u001b[0m \u001b[0;34m{\u001b[0m\u001b[0mself\u001b[0m\u001b[0;34m.\u001b[0m\u001b[0m_jupyter_mimetype\u001b[0m\u001b[0;34m}\u001b[0m\u001b[0;34m\u001b[0m\u001b[0;34m\u001b[0m\u001b[0m\n\u001b[1;32m     97\u001b[0m         \u001b[0minclude\u001b[0m \u001b[0;34m-=\u001b[0m \u001b[0mset\u001b[0m\u001b[0;34m(\u001b[0m\u001b[0mexclude\u001b[0m \u001b[0;32mor\u001b[0m \u001b[0;34m[\u001b[0m\u001b[0;34m]\u001b[0m\u001b[0;34m)\u001b[0m\u001b[0;34m\u001b[0m\u001b[0;34m\u001b[0m\u001b[0m\n\u001b[0;32m---> 98\u001b[0;31m         return {mimetype: getattr(self, method_name)()\n\u001b[0m\u001b[1;32m     99\u001b[0m                 \u001b[0;32mfor\u001b[0m \u001b[0mmimetype\u001b[0m\u001b[0;34m,\u001b[0m \u001b[0mmethod_name\u001b[0m \u001b[0;32min\u001b[0m \u001b[0mMIME_TYPES\u001b[0m\u001b[0;34m.\u001b[0m\u001b[0mitems\u001b[0m\u001b[0;34m(\u001b[0m\u001b[0;34m)\u001b[0m\u001b[0;34m\u001b[0m\u001b[0;34m\u001b[0m\u001b[0m\n\u001b[1;32m    100\u001b[0m                 if mimetype in include}\n",
            "\u001b[0;32m~/Library/Caches/pypoetry/virtualenvs/master-pvd-lswVkwae-py3.9/lib/python3.9/site-packages/graphviz/jupyter_integration.py\u001b[0m in \u001b[0;36m_repr_image_svg_xml\u001b[0;34m(self)\u001b[0m\n\u001b[1;32m    110\u001b[0m     \u001b[0;32mdef\u001b[0m \u001b[0m_repr_image_svg_xml\u001b[0m\u001b[0;34m(\u001b[0m\u001b[0mself\u001b[0m\u001b[0;34m)\u001b[0m \u001b[0;34m->\u001b[0m \u001b[0mstr\u001b[0m\u001b[0;34m:\u001b[0m\u001b[0;34m\u001b[0m\u001b[0;34m\u001b[0m\u001b[0m\n\u001b[1;32m    111\u001b[0m         \u001b[0;34m\"\"\"Return the rendered graph as SVG string.\"\"\"\u001b[0m\u001b[0;34m\u001b[0m\u001b[0;34m\u001b[0m\u001b[0m\n\u001b[0;32m--> 112\u001b[0;31m         \u001b[0;32mreturn\u001b[0m \u001b[0mself\u001b[0m\u001b[0;34m.\u001b[0m\u001b[0mpipe\u001b[0m\u001b[0;34m(\u001b[0m\u001b[0mformat\u001b[0m\u001b[0;34m=\u001b[0m\u001b[0;34m'svg'\u001b[0m\u001b[0;34m,\u001b[0m \u001b[0mencoding\u001b[0m\u001b[0;34m=\u001b[0m\u001b[0mSVG_ENCODING\u001b[0m\u001b[0;34m)\u001b[0m\u001b[0;34m\u001b[0m\u001b[0;34m\u001b[0m\u001b[0m\n\u001b[0m",
            "\u001b[0;32m~/Library/Caches/pypoetry/virtualenvs/master-pvd-lswVkwae-py3.9/lib/python3.9/site-packages/graphviz/piping.py\u001b[0m in \u001b[0;36mpipe\u001b[0;34m(self, format, renderer, formatter, quiet, engine, encoding)\u001b[0m\n\u001b[1;32m     97\u001b[0m             \u001b[0;34m'<?xml version='\u001b[0m\u001b[0;34m\u001b[0m\u001b[0;34m\u001b[0m\u001b[0m\n\u001b[1;32m     98\u001b[0m         \"\"\"\n\u001b[0;32m---> 99\u001b[0;31m         return self._pipe_legacy(format,\n\u001b[0m\u001b[1;32m    100\u001b[0m                                  \u001b[0mrenderer\u001b[0m\u001b[0;34m=\u001b[0m\u001b[0mrenderer\u001b[0m\u001b[0;34m,\u001b[0m\u001b[0;34m\u001b[0m\u001b[0;34m\u001b[0m\u001b[0m\n\u001b[1;32m    101\u001b[0m                                  \u001b[0mformatter\u001b[0m\u001b[0;34m=\u001b[0m\u001b[0mformatter\u001b[0m\u001b[0;34m,\u001b[0m\u001b[0;34m\u001b[0m\u001b[0;34m\u001b[0m\u001b[0m\n",
            "\u001b[0;32m~/Library/Caches/pypoetry/virtualenvs/master-pvd-lswVkwae-py3.9/lib/python3.9/site-packages/graphviz/_tools.py\u001b[0m in \u001b[0;36mwrapper\u001b[0;34m(*args, **kwargs)\u001b[0m\n\u001b[1;32m    170\u001b[0m                               category=category)\n\u001b[1;32m    171\u001b[0m \u001b[0;34m\u001b[0m\u001b[0m\n\u001b[0;32m--> 172\u001b[0;31m             \u001b[0;32mreturn\u001b[0m \u001b[0mfunc\u001b[0m\u001b[0;34m(\u001b[0m\u001b[0;34m*\u001b[0m\u001b[0margs\u001b[0m\u001b[0;34m,\u001b[0m \u001b[0;34m**\u001b[0m\u001b[0mkwargs\u001b[0m\u001b[0;34m)\u001b[0m\u001b[0;34m\u001b[0m\u001b[0;34m\u001b[0m\u001b[0m\n\u001b[0m\u001b[1;32m    173\u001b[0m \u001b[0;34m\u001b[0m\u001b[0m\n\u001b[1;32m    174\u001b[0m         \u001b[0;32mreturn\u001b[0m \u001b[0mwrapper\u001b[0m\u001b[0;34m\u001b[0m\u001b[0;34m\u001b[0m\u001b[0m\n",
            "\u001b[0;32m~/Library/Caches/pypoetry/virtualenvs/master-pvd-lswVkwae-py3.9/lib/python3.9/site-packages/graphviz/piping.py\u001b[0m in \u001b[0;36m_pipe_legacy\u001b[0;34m(self, format, renderer, formatter, quiet, engine, encoding)\u001b[0m\n\u001b[1;32m    112\u001b[0m                      \u001b[0mengine\u001b[0m\u001b[0;34m:\u001b[0m \u001b[0mtyping\u001b[0m\u001b[0;34m.\u001b[0m\u001b[0mOptional\u001b[0m\u001b[0;34m[\u001b[0m\u001b[0mstr\u001b[0m\u001b[0;34m]\u001b[0m \u001b[0;34m=\u001b[0m \u001b[0;32mNone\u001b[0m\u001b[0;34m,\u001b[0m\u001b[0;34m\u001b[0m\u001b[0;34m\u001b[0m\u001b[0m\n\u001b[1;32m    113\u001b[0m                      encoding: typing.Optional[str] = None) -> typing.Union[bytes, str]:\n\u001b[0;32m--> 114\u001b[0;31m         return self._pipe_future(format,\n\u001b[0m\u001b[1;32m    115\u001b[0m                                  \u001b[0mrenderer\u001b[0m\u001b[0;34m=\u001b[0m\u001b[0mrenderer\u001b[0m\u001b[0;34m,\u001b[0m\u001b[0;34m\u001b[0m\u001b[0;34m\u001b[0m\u001b[0m\n\u001b[1;32m    116\u001b[0m                                  \u001b[0mformatter\u001b[0m\u001b[0;34m=\u001b[0m\u001b[0mformatter\u001b[0m\u001b[0;34m,\u001b[0m\u001b[0;34m\u001b[0m\u001b[0;34m\u001b[0m\u001b[0m\n",
            "\u001b[0;32m~/Library/Caches/pypoetry/virtualenvs/master-pvd-lswVkwae-py3.9/lib/python3.9/site-packages/graphviz/piping.py\u001b[0m in \u001b[0;36m_pipe_future\u001b[0;34m(self, format, renderer, formatter, quiet, engine, encoding)\u001b[0m\n\u001b[1;32m    137\u001b[0m             \u001b[0;32mif\u001b[0m \u001b[0mcodecs\u001b[0m\u001b[0;34m.\u001b[0m\u001b[0mlookup\u001b[0m\u001b[0;34m(\u001b[0m\u001b[0mencoding\u001b[0m\u001b[0;34m)\u001b[0m \u001b[0;32mis\u001b[0m \u001b[0mcodecs\u001b[0m\u001b[0;34m.\u001b[0m\u001b[0mlookup\u001b[0m\u001b[0;34m(\u001b[0m\u001b[0mself\u001b[0m\u001b[0;34m.\u001b[0m\u001b[0mencoding\u001b[0m\u001b[0;34m)\u001b[0m\u001b[0;34m:\u001b[0m\u001b[0;34m\u001b[0m\u001b[0;34m\u001b[0m\u001b[0m\n\u001b[1;32m    138\u001b[0m                 \u001b[0;31m# common case: both stdin and stdout need the same encoding\u001b[0m\u001b[0;34m\u001b[0m\u001b[0;34m\u001b[0m\u001b[0;34m\u001b[0m\u001b[0m\n\u001b[0;32m--> 139\u001b[0;31m                 \u001b[0;32mreturn\u001b[0m \u001b[0mself\u001b[0m\u001b[0;34m.\u001b[0m\u001b[0m_pipe_lines_string\u001b[0m\u001b[0;34m(\u001b[0m\u001b[0;34m*\u001b[0m\u001b[0margs\u001b[0m\u001b[0;34m,\u001b[0m \u001b[0mencoding\u001b[0m\u001b[0;34m=\u001b[0m\u001b[0mencoding\u001b[0m\u001b[0;34m,\u001b[0m \u001b[0;34m**\u001b[0m\u001b[0mkwargs\u001b[0m\u001b[0;34m)\u001b[0m\u001b[0;34m\u001b[0m\u001b[0;34m\u001b[0m\u001b[0m\n\u001b[0m\u001b[1;32m    140\u001b[0m             \u001b[0;32mtry\u001b[0m\u001b[0;34m:\u001b[0m\u001b[0;34m\u001b[0m\u001b[0;34m\u001b[0m\u001b[0m\n\u001b[1;32m    141\u001b[0m                 \u001b[0mraw\u001b[0m \u001b[0;34m=\u001b[0m \u001b[0mself\u001b[0m\u001b[0;34m.\u001b[0m\u001b[0m_pipe_lines\u001b[0m\u001b[0;34m(\u001b[0m\u001b[0;34m*\u001b[0m\u001b[0margs\u001b[0m\u001b[0;34m,\u001b[0m \u001b[0minput_encoding\u001b[0m\u001b[0;34m=\u001b[0m\u001b[0mself\u001b[0m\u001b[0;34m.\u001b[0m\u001b[0mencoding\u001b[0m\u001b[0;34m,\u001b[0m \u001b[0;34m**\u001b[0m\u001b[0mkwargs\u001b[0m\u001b[0;34m)\u001b[0m\u001b[0;34m\u001b[0m\u001b[0;34m\u001b[0m\u001b[0m\n",
            "\u001b[0;32m~/Library/Caches/pypoetry/virtualenvs/master-pvd-lswVkwae-py3.9/lib/python3.9/site-packages/graphviz/backend/piping.py\u001b[0m in \u001b[0;36mpipe_lines_string\u001b[0;34m(engine, format, input_lines, encoding, renderer, formatter, quiet)\u001b[0m\n\u001b[1;32m    194\u001b[0m     \u001b[0mkwargs\u001b[0m \u001b[0;34m=\u001b[0m \u001b[0;34m{\u001b[0m\u001b[0;34m'input_lines'\u001b[0m\u001b[0;34m:\u001b[0m \u001b[0minput_lines\u001b[0m\u001b[0;34m,\u001b[0m \u001b[0;34m'encoding'\u001b[0m\u001b[0;34m:\u001b[0m \u001b[0mencoding\u001b[0m\u001b[0;34m}\u001b[0m\u001b[0;34m\u001b[0m\u001b[0;34m\u001b[0m\u001b[0m\n\u001b[1;32m    195\u001b[0m \u001b[0;34m\u001b[0m\u001b[0m\n\u001b[0;32m--> 196\u001b[0;31m     \u001b[0mproc\u001b[0m \u001b[0;34m=\u001b[0m \u001b[0mexecute\u001b[0m\u001b[0;34m.\u001b[0m\u001b[0mrun_check\u001b[0m\u001b[0;34m(\u001b[0m\u001b[0mcmd\u001b[0m\u001b[0;34m,\u001b[0m \u001b[0mcapture_output\u001b[0m\u001b[0;34m=\u001b[0m\u001b[0;32mTrue\u001b[0m\u001b[0;34m,\u001b[0m \u001b[0mquiet\u001b[0m\u001b[0;34m=\u001b[0m\u001b[0mquiet\u001b[0m\u001b[0;34m,\u001b[0m \u001b[0;34m**\u001b[0m\u001b[0mkwargs\u001b[0m\u001b[0;34m)\u001b[0m\u001b[0;34m\u001b[0m\u001b[0;34m\u001b[0m\u001b[0m\n\u001b[0m\u001b[1;32m    197\u001b[0m     \u001b[0;32mreturn\u001b[0m \u001b[0mproc\u001b[0m\u001b[0;34m.\u001b[0m\u001b[0mstdout\u001b[0m\u001b[0;34m\u001b[0m\u001b[0;34m\u001b[0m\u001b[0m\n",
            "\u001b[0;32m~/Library/Caches/pypoetry/virtualenvs/master-pvd-lswVkwae-py3.9/lib/python3.9/site-packages/graphviz/backend/execute.py\u001b[0m in \u001b[0;36mrun_check\u001b[0;34m(cmd, input_lines, encoding, capture_output, quiet, **kwargs)\u001b[0m\n\u001b[1;32m     86\u001b[0m     \u001b[0;32mexcept\u001b[0m \u001b[0mOSError\u001b[0m \u001b[0;32mas\u001b[0m \u001b[0me\u001b[0m\u001b[0;34m:\u001b[0m\u001b[0;34m\u001b[0m\u001b[0;34m\u001b[0m\u001b[0m\n\u001b[1;32m     87\u001b[0m         \u001b[0;32mif\u001b[0m \u001b[0me\u001b[0m\u001b[0;34m.\u001b[0m\u001b[0merrno\u001b[0m \u001b[0;34m==\u001b[0m \u001b[0merrno\u001b[0m\u001b[0;34m.\u001b[0m\u001b[0mENOENT\u001b[0m\u001b[0;34m:\u001b[0m\u001b[0;34m\u001b[0m\u001b[0;34m\u001b[0m\u001b[0m\n\u001b[0;32m---> 88\u001b[0;31m             \u001b[0;32mraise\u001b[0m \u001b[0mExecutableNotFound\u001b[0m\u001b[0;34m(\u001b[0m\u001b[0mcmd\u001b[0m\u001b[0;34m)\u001b[0m \u001b[0;32mfrom\u001b[0m \u001b[0me\u001b[0m\u001b[0;34m\u001b[0m\u001b[0;34m\u001b[0m\u001b[0m\n\u001b[0m\u001b[1;32m     89\u001b[0m         \u001b[0;32mraise\u001b[0m\u001b[0;34m\u001b[0m\u001b[0;34m\u001b[0m\u001b[0m\n\u001b[1;32m     90\u001b[0m \u001b[0;34m\u001b[0m\u001b[0m\n",
            "\u001b[0;31mExecutableNotFound\u001b[0m: failed to execute PosixPath('dot'), make sure the Graphviz executables are on your systems' PATH"
          ]
        },
        {
          "data": {
            "text/plain": [
              "<graphviz.sources.Source at 0x7fdb08a68b20>"
            ]
          },
          "execution_count": 5,
          "metadata": {},
          "output_type": "execute_result"
        }
      ],
      "source": [
        "# Sin embargo, la librería graphviz nos ofrece utilizidades para mostrarlos de forma gráfica de una manera mucho más amigable\n",
        "!pip install graphviz\n",
        "\n",
        "import graphviz \n",
        "def plot_tree(clf, data):\n",
        "  dot_data = tree.export_graphviz(clf, out_file=None, \n",
        "                                  feature_names=data.feature_names,\n",
        "                                  class_names=data.target_names,\n",
        "                                  filled=True, rounded=True,\n",
        "                                  special_characters=True) \n",
        "  return graphviz.Source(dot_data) \n",
        "plot_tree(clf, data)"
      ]
    },
    {
      "cell_type": "markdown",
      "metadata": {
        "id": "YlWneGFU7bl2"
      },
      "source": [
        "En primer lugar, se aconseja al estudiante utilizar unos minutos observando el árbol generado de forma gráfica en la celda anterior, analizando la información de los nodos, el significado de cada partición, y cómo se generaría la predicción para un nuevo patrón dado.\n",
        "\n",
        "Una vez en este punto, podemos observar que el árbol generado es bastante complejo, con una gran profundidad (*nótese que la estructura y profundidad del árbol puede depender de los datos de entrenamiento seleccionados*). Árboles tan complejos como este, se ajustan tanto a los datos de entrenamiento, que en test puede que obtengan peores resultados. Por ello, a continuación vamos a utilizar distintos parámetros para restringir la complejidad de los árboles y observar sus resultados."
      ]
    },
    {
      "cell_type": "code",
      "execution_count": null,
      "metadata": {
        "id": "Fo3KQlan672a"
      },
      "outputs": [],
      "source": [
        "# Entrenar un modelo con profundidad máxima \n",
        "clf = tree.DecisionTreeClassifier(max_depth=3)\n",
        "clf = clf.fit(X_train, y_train)\n",
        "# plot_tree(clf, data)\n",
        "\n",
        "# Entrenar un modelo con un valor mínimo de datos en un nodo para realizar una partición\n",
        "#   Si el parámetro es un entero: cualquier nodo dicho número de patrones o menos, se considera ya un nodo hoja\n",
        "#   Si el parámetro es un número real: mismo funcionamiento pero funciona como ratio de patrones de entrenamiento\n",
        "clf = tree.DecisionTreeClassifier(min_samples_split=0.1) # Un nodo con menos de 10% de nodos de entrenamiento se considera nodo hoja\n",
        "clf = clf.fit(X_train, y_train)\n",
        "# plot_tree(clf, data)\n",
        "\n",
        "# Entrenar un modelo con un máximo de nodos hoja \n",
        "clf = tree.DecisionTreeClassifier(max_leaf_nodes=8)\n",
        "clf = clf.fit(X_train, y_train)\n",
        "# plot_tree(clf, data)\n",
        "\n",
        "# Entrenar un modelo reduciendo el número de atributos a considerar sus particiones en cada nodo\n",
        "# Por defecto, en cada nodo explora las particiones de todos los atributos posibles, pero así\n",
        "#   se puede restringir su número.\n",
        "clf = tree.DecisionTreeClassifier(max_features='sqrt') # max_features='log2'\n",
        "clf = clf.fit(X_train, y_train)\n",
        "# plot_tree(clf, data)"
      ]
    },
    {
      "cell_type": "markdown",
      "metadata": {
        "id": "c7b5_5u5JEJ0"
      },
      "source": [
        "## 3. Análisis del rendimiento de los árboles de decisión\n",
        "\n",
        "Por último, vamos a realizar un análisis del rendimiento de distintos árboles de decisión con distintos parámetros, para observar si se produce o no sobre-ajuste de los datos de entrenamiento.\n",
        "\n",
        "En este caso, vamos a utilizar la función ``cross_validate`` de *sklearn* para realizar un proceso de *k-folds cross-validation* y así obtener unas métricas más consistentes para la comparación. A la función ``cross_validate`` le pasamos el conjunto completo de datos (``X`` e ``y``), ya que internamente se encargará de realizar las particiones de entrenamiento y test en cada caso. Además, el proceso se repetirá varias veces, promediando los resultados entre las distintas ejecuciones.\n",
        "\n",
        "En primer lugar, vamos a analizar el rendimiento del modelo modificando la profundidad máxima del árbol, y luego utilizaremos otros parámetros para proseguir con el análisis."
      ]
    },
    {
      "cell_type": "code",
      "execution_count": null,
      "metadata": {
        "id": "I4YZNuzFKJ6R"
      },
      "outputs": [],
      "source": [
        "from sklearn.model_selection import cross_validate\n",
        "from statistics import mean\n",
        "\n",
        "print('Modelo base; sin profundidad máxima')\n",
        "\n",
        "# Generamos modelo\n",
        "clf = tree.DecisionTreeClassifier(random_state=0)\n",
        "\n",
        "# Aplicamos cross-validación con dicho modelo. Obtenemos dos métricas en train y test\n",
        "scores = cross_validate(clf, X, y, cv=5, scoring=('accuracy', 'f1'), return_train_score=True)\n",
        "\n",
        "# Imprimimos métricas en test del modelo base\n",
        "print('  Accuracy: ' + \"{:.4f}\".format(mean(scores['test_accuracy'])))\n",
        "print('  F1: ' + \"{:.4f}\".format(mean(scores['test_f1'])))\n",
        "\n",
        "# Almacenamos todas las métricas del modelo base\n",
        "base_accuracy = mean(scores['test_accuracy'])\n",
        "base_f1 = mean(scores['test_f1'])\n",
        "base_accuracy_train = mean(scores['train_accuracy'])\n",
        "base_f1_train = mean(scores['train_f1'])\n",
        "\n",
        "# Iremos almacenando el valor medio de las distintas métricas en train y test\n",
        "#   para cada valor de los parámetros\n",
        "accuracy = []\n",
        "f1 = []\n",
        "accuracy_train = []\n",
        "f1_train = []\n",
        "\n",
        "# Vamos a utilizar valores de profundidad máxima desde 1 hasta 11 (0 no está definido)\n",
        "for i in range(1, 11):\n",
        "  # Repetiremos el proceso de cross-validación varias veces, promediando los resultados\n",
        "  n_seeds = 10\n",
        "\n",
        "  # Variables para almacenar los resultados de cada repetición\n",
        "  curr_accuracy, curr_f1, curr_accuracy_train, curr_f1_train = [], [], [], []\n",
        "\n",
        "  # Para cada semilla distinta de números aleatorios\n",
        "  for s in range(n_seeds):\n",
        "    # Creamos modelo con semilla y profundidad indicada\n",
        "    clf = tree.DecisionTreeClassifier(random_state=s, max_depth=i)\n",
        "\n",
        "    # Aplicamos cross-validación sobre el modelo\n",
        "    scores = cross_validate(clf, X, y, cv=5, scoring=('accuracy', 'f1'), return_train_score=True)\n",
        "\n",
        "    # Añadimos a las variables auxiliares los resultados promediados de esta cross-validación\n",
        "    curr_accuracy.append(mean(scores['test_accuracy']))\n",
        "    curr_f1.append(mean(scores['test_f1']))\n",
        "    curr_accuracy_train.append(mean(scores['train_accuracy']))\n",
        "    curr_f1_train.append(mean(scores['train_f1']))\n",
        "\n",
        "  # Promediamos los resultados de todas las repeticiones, y los almacenamos\n",
        "  accuracy.append(mean(curr_accuracy))\n",
        "  f1.append(mean(curr_f1))\n",
        "  accuracy_train.append(mean(curr_accuracy_train))\n",
        "  f1_train.append(mean(curr_f1_train))\n",
        "\n",
        "# Añadir el del modelo base sin restricción al final de los resultados\n",
        "accuracy.append(base_accuracy)\n",
        "f1.append(base_f1)\n",
        "accuracy_train.append(base_accuracy_train)\n",
        "f1_train.append(base_f1_train)"
      ]
    },
    {
      "cell_type": "code",
      "execution_count": null,
      "metadata": {
        "id": "6PKuDDKVQ_sJ"
      },
      "outputs": [],
      "source": [
        "import matplotlib.pyplot as plt\n",
        "\n",
        "# Generar gráfica con los resultados de test\n",
        "fig, ax = plt.subplots()\n",
        "line1, = ax.plot(range(1,12), f1, label='F1 test')\n",
        "line2, = ax.plot(range(1,12), accuracy, label='Accuracy test')\n",
        "ax.legend()\n",
        "plt.show()\n",
        "\n",
        "# Generar gráfica con los resultados de entrenamiento\n",
        "figB, axB = plt.subplots()\n",
        "line3, = axB.plot(range(1,12),f1_train, dashes=[6, 2], label='F1 train')\n",
        "line4, = axB.plot(range(1,12),accuracy_train, dashes=[6, 2], label='Accuracy train')\n",
        "axB.legend()\n",
        "plt.show()"
      ]
    },
    {
      "cell_type": "code",
      "execution_count": null,
      "metadata": {
        "id": "N6eqpHwMV1Qb"
      },
      "outputs": [],
      "source": [
        "# Imprimimos accuracy y f1 en test del mejor modelo --> Mejor resultado en test (no en entrenamiento)\n",
        "#   (en otro caso quizá habrá que cambiar el indice, dependiendo de los resultados)\n",
        "print('Accuracy: ' \"{:.4f}\".format(accuracy[1])) # max_depth = 2 está en la celda 1 de la lista; recordemos que max_depth=0 no está definido\n",
        "print('F1: ' \"{:.4f}\".format(f1[1]))"
      ]
    },
    {
      "cell_type": "markdown",
      "metadata": {
        "id": "vmmE86u2jQuV"
      },
      "source": [
        "En este punto, se espera que el estudiante se pare a analizar las gráficas generadas en la última celda.\n",
        "\n",
        "**PREGUNTA:** ¿A qué se debe el comportamiento del modelo al variar los parámetros? ¿Por qué las gráficas de resultados en entrenamiento y test no evolucionan de la misma manera?\n",
        "\n"
      ]
    },
    {
      "cell_type": "code",
      "execution_count": null,
      "metadata": {
        "id": "ADWQ5Z34jjZi"
      },
      "outputs": [],
      "source": [
        "from sklearn.model_selection import cross_validate\n",
        "from statistics import mean\n",
        "\n",
        "print('Modelo base; sin número mínimo de patrones para realizar el particionado')\n",
        "\n",
        "# Generamos modelo\n",
        "clf = tree.DecisionTreeClassifier(random_state=0)\n",
        "\n",
        "# Aplicamos cross-validación con dicho modelo. Obtenemos dos métricas en train y test\n",
        "scores = cross_validate(clf, X, y, cv=5, scoring=('accuracy', 'f1'), return_train_score=True)\n",
        "\n",
        "# Imprimimos métricas en test del modelo base\n",
        "print('  Accuracy: ' + \"{:.4f}\".format(mean(scores['test_accuracy'])))\n",
        "print('  F1: ' + \"{:.4f}\".format(mean(scores['test_f1'])))\n",
        "\n",
        "# Almacenamos todas las métricas del modelo base\n",
        "base_accuracy = mean(scores['test_accuracy'])\n",
        "base_f1 = mean(scores['test_f1'])\n",
        "base_accuracy_train = mean(scores['train_accuracy'])\n",
        "base_f1_train = mean(scores['train_f1'])\n",
        "\n",
        "# Iremos almacenando el valor medio de las distintas métricas en train y test\n",
        "#   para cada valor de los parámetros\n",
        "accuracy = []\n",
        "f1 = []\n",
        "accuracy_train = []\n",
        "f1_train = []\n",
        "\n",
        "# Añadir el del modelo base sin restricción al principio de los resultados\n",
        "accuracy.append(base_accuracy)\n",
        "f1.append(base_f1)\n",
        "accuracy_train.append(base_accuracy_train)\n",
        "f1_train.append(base_f1_train)\n",
        "\n",
        "# Valores a utilizar para el parámetro\n",
        "values = [2, 5, 10, 25, 50]\n",
        "\n",
        "# Vamos a utilizar valores de profundidad máxima desde 1 hasta 11 (0 no está definido)\n",
        "for i in values:\n",
        "  # Repetiremos el proceso de cross-validación varias veces, promediando los resultados\n",
        "  n_seeds = 10\n",
        "\n",
        "  # Variables para almacenar los resultados de cada repetición\n",
        "  curr_accuracy, curr_f1, curr_accuracy_train, curr_f1_train = [], [], [], []\n",
        "\n",
        "  # Para cada semilla distinta de números aleatorios\n",
        "  for s in range(n_seeds):\n",
        "    # Creamos modelo con semilla y profundidad indicada\n",
        "    clf = tree.DecisionTreeClassifier(random_state=s, min_samples_split=i)\n",
        "\n",
        "    # Aplicamos cross-validación sobre el modelo\n",
        "    scores = cross_validate(clf, X, y, cv=5, scoring=('accuracy', 'f1'), return_train_score=True)\n",
        "\n",
        "    # Añadimos a las variables auxiliares los resultados promediados de esta cross-validación\n",
        "    curr_accuracy.append(mean(scores['test_accuracy']))\n",
        "    curr_f1.append(mean(scores['test_f1']))\n",
        "    curr_accuracy_train.append(mean(scores['train_accuracy']))\n",
        "    curr_f1_train.append(mean(scores['train_f1']))\n",
        "\n",
        "  # Promediamos los resultados de todas las repeticiones, y los almacenamos\n",
        "  accuracy.append(mean(curr_accuracy))\n",
        "  f1.append(mean(curr_f1))\n",
        "  accuracy_train.append(mean(curr_accuracy_train))\n",
        "  f1_train.append(mean(curr_f1_train))\n",
        "\n",
        "# Generar gráfica con los resultados de test\n",
        "fig, ax = plt.subplots()\n",
        "line1, = ax.plot([0] + values, f1, label='F1 test')\n",
        "line2, = ax.plot([0] + values, accuracy, label='Accuracy test')\n",
        "ax.legend()\n",
        "plt.show()\n",
        "\n",
        "# Generar gráfica con los resultados de entrenamiento\n",
        "figB, axB = plt.subplots()\n",
        "line3, = axB.plot([0] + values,f1_train, dashes=[6, 2], label='F1 train')\n",
        "line4, = axB.plot([0] + values,accuracy_train, dashes=[6, 2], label='Accuracy train')\n",
        "axB.legend()\n",
        "plt.show()"
      ]
    },
    {
      "cell_type": "markdown",
      "metadata": {
        "id": "W7fwhIXuc-EO"
      },
      "source": [
        "Ahora, se le propone al estudiante que no analice el comportamiento del árbol de decisión en base a un único parámetro (como hasta ahora, hemos probado ``max_depth`` y ``min_samples_split``), sino que realice el estudio de parámetros en base a varios parámetros a la vez.\n",
        "\n",
        "**PREGUNTAS:**\n",
        "\n",
        "*   ¿Qué resultados arrojan los distintos métodos y qué conclusiones puede obtener de dicho proceso?\n",
        "*   ¿Qué modelo escogería para utilizar sobre nuevos datos de test?\n",
        "\n",
        "\n"
      ]
    },
    {
      "cell_type": "markdown",
      "metadata": {
        "id": "pZOVg0F1BqPC"
      },
      "source": [
        "## 4. Generación de reglas a partir de un árbol de decisión\n",
        "\n",
        "En último lugar, aunque *scikit-learn* de momento no da la opción de obtener reglas a partir del árbol de decisión, o de inferir un conjunto de reglas como clasificador, sí que podemos utilizar la función a continuación para, a partir de un árbol de decisión, obtener un conjunto de reglas IF-THEN (en formato de pseudocódigo) que podríamos utilizar posteriormente para clasificar nuevos patrones tras ajustarlo al lenguaje de clasificación específico.\n",
        "\n",
        "Código obtenido de [Daniele](https://stackoverflow.com/users/1885917/daniele) en [StackOverflow](https://stackoverflow.com/a/30104792/11807784)."
      ]
    },
    {
      "cell_type": "code",
      "execution_count": null,
      "metadata": {
        "id": "Vwf4KnFgB0E1"
      },
      "outputs": [],
      "source": [
        "from sklearn import tree\n",
        "\n",
        "def get_code(tree, feature_names):\n",
        "        left      = tree.tree_.children_left\n",
        "        right     = tree.tree_.children_right\n",
        "        threshold = tree.tree_.threshold\n",
        "        features  = [feature_names[i] for i in tree.tree_.feature]\n",
        "        value = tree.tree_.value\n",
        "\n",
        "        def recurse(left, right, threshold, features, node):\n",
        "                if (threshold[node] != -2):\n",
        "                        print(\"if ( \" + features[node] + \" <= \" + str(threshold[node]) + \" ) {\")\n",
        "                        if left[node] != -1:\n",
        "                                recurse (left, right, threshold, features,left[node])\n",
        "                        print(\"} else {\")\n",
        "                        if right[node] != -1:\n",
        "                                recurse (left, right, threshold, features,right[node])\n",
        "                        print(\"}\")\n",
        "                else:\n",
        "                        print(\"return \" + str(value[node]))\n",
        "\n",
        "        recurse(left, right, threshold, features, 0)"
      ]
    },
    {
      "cell_type": "code",
      "execution_count": null,
      "metadata": {
        "id": "WxHEqmySTC6e"
      },
      "outputs": [],
      "source": [
        "# Volvemos a entrenar un arbol sencillo\n",
        "clf = tree.DecisionTreeClassifier(max_leaf_nodes=8)\n",
        "clf = clf.fit(X_train, y_train)"
      ]
    },
    {
      "cell_type": "code",
      "execution_count": null,
      "metadata": {
        "id": "0nLuraM9CmBC"
      },
      "outputs": [],
      "source": [
        "# Obtenemos las reglas de asociacion a partir del arbol\n",
        "get_code(clf, data.feature_names)"
      ]
    }
  ],
  "metadata": {
    "colab": {
      "collapsed_sections": [],
      "name": "MetodosPredictivos-NotebookSemana4.ipynb",
      "provenance": []
    },
    "kernelspec": {
      "display_name": "Python 3",
      "name": "python3"
    },
    "language_info": {
      "codemirror_mode": {
        "name": "ipython",
        "version": 3
      },
      "file_extension": ".py",
      "mimetype": "text/x-python",
      "name": "python",
      "nbconvert_exporter": "python",
      "pygments_lexer": "ipython3",
      "version": "3.9.5"
    }
  },
  "nbformat": 4,
  "nbformat_minor": 0
}
