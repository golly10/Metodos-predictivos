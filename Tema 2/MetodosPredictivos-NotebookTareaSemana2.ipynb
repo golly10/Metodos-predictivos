{
  "cells": [
    {
      "cell_type": "markdown",
      "metadata": {
        "id": "fv6Xfdv5gkBG"
      },
      "source": [
        "# Métodos predictivos: tarea de asignación (semana 2)\n",
        "Ya conoces una gran variedad de métodos de regresión múltiple y cómo pueden ajustarse utilizando las librerías *statsmodels* y *scikit-learn*. El objetivo de esta tarea es analizar un conjunto de datos y comparar varios métodos de regresión múltiple para estudiar cómo de bien se ajustan a los datos."
      ]
    },
    {
      "cell_type": "markdown",
      "metadata": {
        "id": "4VQ3pnwChJzK"
      },
      "source": [
        "## Descripción de la tarea\n",
        "La tarea consta de tres apartados:\n",
        "1. Selección y análisis de un conjunto de datos.\n",
        "2. Ejecución de dos métodos de regresión múltiple.\n",
        "3. Evaluación de los modelos de regresión obtenidos, analizando cuál de ellos consigue un mejor ajuste a los datos.\n",
        "\n",
        "## Instrucciones\n",
        "En este *notebook* no se presenta parte del código desarrollado, pero sí se indican los pasos mínimos que debe seguir el estudiante para completar la tarea. El estudiante puede añadir otras celdas de código según sea necesario, pero respetando la organización de apartados propuesta. El estudiante puede elegir entre trabajar con *statsmodels* o con *scikit-learn*.\n"
      ]
    },
    {
      "cell_type": "markdown",
      "metadata": {
        "id": "NwRpSkEWrlnQ"
      },
      "source": [
        "## 1. Selección y análisis de un conjunto de datos\n",
        "Paso 1.1: Importa los paquetes necesarios."
      ]
    },
    {
      "cell_type": "code",
      "execution_count": 1,
      "metadata": {
        "id": "2fhR1bgYrjqb"
      },
      "outputs": [],
      "source": [
        "#COMPLETAR"
      ]
    },
    {
      "cell_type": "markdown",
      "metadata": {
        "id": "xU-iY4tLtE-Z"
      },
      "source": [
        "Paso 1.2: Carga un conjunto de datos de entre los disponibles en la librería seleccionada. Puedes encontrarlos en:\n",
        "\n",
        "\n",
        "*   statsmodels: https://www.statsmodels.org/stable/datasets/index.html\n",
        "*   scikit-learn: https://scikit-learn.org/stable/datasets.html\n",
        "\n"
      ]
    },
    {
      "cell_type": "code",
      "execution_count": 2,
      "metadata": {
        "id": "a86vFoXhvcEQ"
      },
      "outputs": [],
      "source": [
        "#COMPLETAR"
      ]
    },
    {
      "cell_type": "markdown",
      "metadata": {
        "id": "cusEl0Xc5Y4C"
      },
      "source": [
        "Paso 1.3: Muestra información acerca de la distribución de las características en el conjunto de datos elegido."
      ]
    },
    {
      "cell_type": "code",
      "execution_count": 3,
      "metadata": {
        "id": "2PTlF-EG58gB"
      },
      "outputs": [],
      "source": [
        "#COMPLETAR"
      ]
    },
    {
      "cell_type": "markdown",
      "metadata": {
        "id": "XaiZ0yDypKz2"
      },
      "source": [
        "Paso 1.4: Si es necesario, realiza un preprocesado de las variables (eliminar valores perdidos, escalar valores, etc)."
      ]
    },
    {
      "cell_type": "code",
      "execution_count": 4,
      "metadata": {
        "id": "xtct2pZjpT5R"
      },
      "outputs": [],
      "source": [
        "#COMPLETAR"
      ]
    },
    {
      "cell_type": "markdown",
      "metadata": {
        "id": "wwGNSTh4ml6q"
      },
      "source": [
        "*Añade aquí una breve explicación de las decisiones tomadas en el apartado 1.*"
      ]
    },
    {
      "cell_type": "markdown",
      "metadata": {
        "id": "plganWApTE65"
      },
      "source": [
        "## 2. Ejecución de métodos de regresión múltiple\n",
        "Paso 2.1: Particiona el conjunto de datos en entrenamiento y test."
      ]
    },
    {
      "cell_type": "code",
      "execution_count": 5,
      "metadata": {
        "id": "ak23fq7urGqm"
      },
      "outputs": [],
      "source": [
        "#COMPLETAR"
      ]
    },
    {
      "cell_type": "markdown",
      "metadata": {
        "id": "8m5a-eU5rrU0"
      },
      "source": [
        "Paso 2.2: Configura y realiza el ajuste del primer método de regresión elegido. Utiliza solo la partición de entrenamiento."
      ]
    },
    {
      "cell_type": "code",
      "execution_count": 6,
      "metadata": {
        "id": "gI2GfPxQrGKp"
      },
      "outputs": [],
      "source": [
        "#COMPLETAR"
      ]
    },
    {
      "cell_type": "markdown",
      "metadata": {
        "id": "OLubCXB4rug7"
      },
      "source": [
        "Paso 2.3: Configura y realiza el ajuste del segundo método de regresión elegido. Utiliza solo la partición de entrenamiento."
      ]
    },
    {
      "cell_type": "code",
      "execution_count": 7,
      "metadata": {
        "id": "yXetIREtrxfQ"
      },
      "outputs": [],
      "source": [
        "#COMPLETAR"
      ]
    },
    {
      "cell_type": "markdown",
      "metadata": {
        "id": "V7Pt84Om1kE4"
      },
      "source": [
        "*Añade aquí una breve explicación de las decisiones tomadas en el apartado 2*"
      ]
    },
    {
      "cell_type": "markdown",
      "metadata": {
        "id": "zB6Vot_at2dF"
      },
      "source": [
        "## 3. Evaluación de los modelos de regresión obtenidos\n"
      ]
    },
    {
      "cell_type": "markdown",
      "metadata": {
        "id": "HMGT3olJ2prQ"
      },
      "source": [
        "Paso 3.1: Muesta la información sobre los modelos obtenidos (valores de los coeficientes, calidad del ajuste, estadísticos, etc.)"
      ]
    },
    {
      "cell_type": "code",
      "execution_count": 8,
      "metadata": {
        "id": "y2MKrwEI24YP"
      },
      "outputs": [],
      "source": [
        "#COMPLETAR"
      ]
    },
    {
      "cell_type": "markdown",
      "metadata": {
        "id": "7B6H-zjxucOz"
      },
      "source": [
        "Paso 3.2: Utiliza los modelos obtenidos en el apartado anterior para predecir sobre la partición de test."
      ]
    },
    {
      "cell_type": "code",
      "execution_count": 9,
      "metadata": {
        "id": "Ibz5RsBbUHI2"
      },
      "outputs": [],
      "source": [
        "#COMPLETAR"
      ]
    },
    {
      "cell_type": "markdown",
      "metadata": {
        "id": "eLiQkHwXeN0A"
      },
      "source": [
        "Paso 3.3: Calcula métricas de evaluación para estudiar la calidad de la estimación"
      ]
    },
    {
      "cell_type": "code",
      "execution_count": 10,
      "metadata": {
        "id": "JNhJBjgmefxR"
      },
      "outputs": [],
      "source": [
        "#COMPLETAR"
      ]
    },
    {
      "cell_type": "markdown",
      "metadata": {
        "id": "ujXA-xYfxm7v"
      },
      "source": [
        "*Añade aquí una breve explicación de los resultados obtenidos en el apartado 3.*"
      ]
    }
  ],
  "metadata": {
    "colab": {
      "collapsed_sections": [],
      "name": "MetodosPredictivos-NotebookTareaSemana2.ipynb",
      "provenance": []
    },
    "kernelspec": {
      "display_name": "Python 3",
      "name": "python3"
    },
    "language_info": {
      "codemirror_mode": {
        "name": "ipython",
        "version": 3
      },
      "file_extension": ".py",
      "mimetype": "text/x-python",
      "name": "python",
      "nbconvert_exporter": "python",
      "pygments_lexer": "ipython3",
      "version": "3.9.5"
    }
  },
  "nbformat": 4,
  "nbformat_minor": 0
}
