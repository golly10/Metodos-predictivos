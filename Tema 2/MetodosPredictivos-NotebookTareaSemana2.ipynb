{
  "cells": [
    {
      "cell_type": "markdown",
      "metadata": {
        "id": "fv6Xfdv5gkBG"
      },
      "source": [
        "# Métodos predictivos: tarea de asignación (semana 2)\n",
        "Ya conoces una gran variedad de métodos de regresión múltiple y cómo pueden ajustarse utilizando las librerías *statsmodels* y *scikit-learn*. El objetivo de esta tarea es analizar un conjunto de datos y comparar varios métodos de regresión múltiple para estudiar cómo de bien se ajustan a los datos."
      ]
    },
    {
      "cell_type": "markdown",
      "metadata": {
        "id": "4VQ3pnwChJzK"
      },
      "source": [
        "## Descripción de la tarea\n",
        "La tarea consta de tres apartados:\n",
        "1. Selección y análisis de un conjunto de datos.\n",
        "2. Ejecución de dos métodos de regresión múltiple.\n",
        "3. Evaluación de los modelos de regresión obtenidos, analizando cuál de ellos consigue un mejor ajuste a los datos.\n",
        "\n",
        "## Instrucciones\n",
        "En este *notebook* no se presenta parte del código desarrollado, pero sí se indican los pasos mínimos que debe seguir el estudiante para completar la tarea. El estudiante puede añadir otras celdas de código según sea necesario, pero respetando la organización de apartados propuesta. El estudiante puede elegir entre trabajar con *statsmodels* o con *scikit-learn*.\n"
      ]
    },
    {
      "cell_type": "markdown",
      "metadata": {
        "id": "NwRpSkEWrlnQ"
      },
      "source": [
        "## 1. Selección y análisis de un conjunto de datos\n",
        "Paso 1.1: Importa los paquetes necesarios."
      ]
    },
    {
      "cell_type": "code",
      "execution_count": 1,
      "metadata": {
        "id": "2fhR1bgYrjqb"
      },
      "outputs": [],
      "source": [
        "#COMPLETAR\n",
        "from sklearn.datasets import load_wine\n",
        "from sklearn.model_selection import train_test_split\n",
        "from sklearn.metrics import mean_squared_error, r2_score, mean_absolute_error\n",
        "from sklearn.linear_model import Ridge, LogisticRegression\n",
        "import pandas as pd"
      ]
    },
    {
      "cell_type": "markdown",
      "metadata": {
        "id": "xU-iY4tLtE-Z"
      },
      "source": [
        "Paso 1.2: Carga un conjunto de datos de entre los disponibles en la librería seleccionada. Puedes encontrarlos en:\n",
        "\n",
        "\n",
        "*   statsmodels: https://www.statsmodels.org/stable/datasets/index.html\n",
        "*   scikit-learn: https://scikit-learn.org/stable/datasets.html\n",
        "\n"
      ]
    },
    {
      "cell_type": "code",
      "execution_count": 2,
      "metadata": {
        "id": "a86vFoXhvcEQ"
      },
      "outputs": [],
      "source": [
        "#COMPLETAR\n",
        "dataset = load_wine()"
      ]
    },
    {
      "cell_type": "markdown",
      "metadata": {
        "id": "cusEl0Xc5Y4C"
      },
      "source": [
        "Paso 1.3: Muestra información acerca de la distribución de las características en el conjunto de datos elegido."
      ]
    },
    {
      "cell_type": "code",
      "execution_count": 3,
      "metadata": {
        "id": "2PTlF-EG58gB"
      },
      "outputs": [
        {
          "data": {
            "text/html": [
              "<div>\n",
              "<style scoped>\n",
              "    .dataframe tbody tr th:only-of-type {\n",
              "        vertical-align: middle;\n",
              "    }\n",
              "\n",
              "    .dataframe tbody tr th {\n",
              "        vertical-align: top;\n",
              "    }\n",
              "\n",
              "    .dataframe thead th {\n",
              "        text-align: right;\n",
              "    }\n",
              "</style>\n",
              "<table border=\"1\" class=\"dataframe\">\n",
              "  <thead>\n",
              "    <tr style=\"text-align: right;\">\n",
              "      <th></th>\n",
              "      <th>alcohol</th>\n",
              "      <th>malic_acid</th>\n",
              "      <th>ash</th>\n",
              "      <th>alcalinity_of_ash</th>\n",
              "      <th>magnesium</th>\n",
              "      <th>total_phenols</th>\n",
              "      <th>flavanoids</th>\n",
              "      <th>nonflavanoid_phenols</th>\n",
              "      <th>proanthocyanins</th>\n",
              "      <th>color_intensity</th>\n",
              "      <th>hue</th>\n",
              "      <th>od280/od315_of_diluted_wines</th>\n",
              "      <th>proline</th>\n",
              "      <th>class</th>\n",
              "    </tr>\n",
              "  </thead>\n",
              "  <tbody>\n",
              "    <tr>\n",
              "      <th>count</th>\n",
              "      <td>178.000000</td>\n",
              "      <td>178.000000</td>\n",
              "      <td>178.000000</td>\n",
              "      <td>178.000000</td>\n",
              "      <td>178.000000</td>\n",
              "      <td>178.000000</td>\n",
              "      <td>178.000000</td>\n",
              "      <td>178.000000</td>\n",
              "      <td>178.000000</td>\n",
              "      <td>178.000000</td>\n",
              "      <td>178.000000</td>\n",
              "      <td>178.000000</td>\n",
              "      <td>178.000000</td>\n",
              "      <td>178.000000</td>\n",
              "    </tr>\n",
              "    <tr>\n",
              "      <th>mean</th>\n",
              "      <td>13.000618</td>\n",
              "      <td>2.336348</td>\n",
              "      <td>2.366517</td>\n",
              "      <td>19.494944</td>\n",
              "      <td>99.741573</td>\n",
              "      <td>2.295112</td>\n",
              "      <td>2.029270</td>\n",
              "      <td>0.361854</td>\n",
              "      <td>1.590899</td>\n",
              "      <td>5.058090</td>\n",
              "      <td>0.957449</td>\n",
              "      <td>2.611685</td>\n",
              "      <td>746.893258</td>\n",
              "      <td>0.938202</td>\n",
              "    </tr>\n",
              "    <tr>\n",
              "      <th>std</th>\n",
              "      <td>0.811827</td>\n",
              "      <td>1.117146</td>\n",
              "      <td>0.274344</td>\n",
              "      <td>3.339564</td>\n",
              "      <td>14.282484</td>\n",
              "      <td>0.625851</td>\n",
              "      <td>0.998859</td>\n",
              "      <td>0.124453</td>\n",
              "      <td>0.572359</td>\n",
              "      <td>2.318286</td>\n",
              "      <td>0.228572</td>\n",
              "      <td>0.709990</td>\n",
              "      <td>314.907474</td>\n",
              "      <td>0.775035</td>\n",
              "    </tr>\n",
              "    <tr>\n",
              "      <th>min</th>\n",
              "      <td>11.030000</td>\n",
              "      <td>0.740000</td>\n",
              "      <td>1.360000</td>\n",
              "      <td>10.600000</td>\n",
              "      <td>70.000000</td>\n",
              "      <td>0.980000</td>\n",
              "      <td>0.340000</td>\n",
              "      <td>0.130000</td>\n",
              "      <td>0.410000</td>\n",
              "      <td>1.280000</td>\n",
              "      <td>0.480000</td>\n",
              "      <td>1.270000</td>\n",
              "      <td>278.000000</td>\n",
              "      <td>0.000000</td>\n",
              "    </tr>\n",
              "    <tr>\n",
              "      <th>25%</th>\n",
              "      <td>12.362500</td>\n",
              "      <td>1.602500</td>\n",
              "      <td>2.210000</td>\n",
              "      <td>17.200000</td>\n",
              "      <td>88.000000</td>\n",
              "      <td>1.742500</td>\n",
              "      <td>1.205000</td>\n",
              "      <td>0.270000</td>\n",
              "      <td>1.250000</td>\n",
              "      <td>3.220000</td>\n",
              "      <td>0.782500</td>\n",
              "      <td>1.937500</td>\n",
              "      <td>500.500000</td>\n",
              "      <td>0.000000</td>\n",
              "    </tr>\n",
              "    <tr>\n",
              "      <th>50%</th>\n",
              "      <td>13.050000</td>\n",
              "      <td>1.865000</td>\n",
              "      <td>2.360000</td>\n",
              "      <td>19.500000</td>\n",
              "      <td>98.000000</td>\n",
              "      <td>2.355000</td>\n",
              "      <td>2.135000</td>\n",
              "      <td>0.340000</td>\n",
              "      <td>1.555000</td>\n",
              "      <td>4.690000</td>\n",
              "      <td>0.965000</td>\n",
              "      <td>2.780000</td>\n",
              "      <td>673.500000</td>\n",
              "      <td>1.000000</td>\n",
              "    </tr>\n",
              "    <tr>\n",
              "      <th>75%</th>\n",
              "      <td>13.677500</td>\n",
              "      <td>3.082500</td>\n",
              "      <td>2.557500</td>\n",
              "      <td>21.500000</td>\n",
              "      <td>107.000000</td>\n",
              "      <td>2.800000</td>\n",
              "      <td>2.875000</td>\n",
              "      <td>0.437500</td>\n",
              "      <td>1.950000</td>\n",
              "      <td>6.200000</td>\n",
              "      <td>1.120000</td>\n",
              "      <td>3.170000</td>\n",
              "      <td>985.000000</td>\n",
              "      <td>2.000000</td>\n",
              "    </tr>\n",
              "    <tr>\n",
              "      <th>max</th>\n",
              "      <td>14.830000</td>\n",
              "      <td>5.800000</td>\n",
              "      <td>3.230000</td>\n",
              "      <td>30.000000</td>\n",
              "      <td>162.000000</td>\n",
              "      <td>3.880000</td>\n",
              "      <td>5.080000</td>\n",
              "      <td>0.660000</td>\n",
              "      <td>3.580000</td>\n",
              "      <td>13.000000</td>\n",
              "      <td>1.710000</td>\n",
              "      <td>4.000000</td>\n",
              "      <td>1680.000000</td>\n",
              "      <td>2.000000</td>\n",
              "    </tr>\n",
              "  </tbody>\n",
              "</table>\n",
              "</div>"
            ],
            "text/plain": [
              "          alcohol  malic_acid         ash  alcalinity_of_ash   magnesium  \\\n",
              "count  178.000000  178.000000  178.000000         178.000000  178.000000   \n",
              "mean    13.000618    2.336348    2.366517          19.494944   99.741573   \n",
              "std      0.811827    1.117146    0.274344           3.339564   14.282484   \n",
              "min     11.030000    0.740000    1.360000          10.600000   70.000000   \n",
              "25%     12.362500    1.602500    2.210000          17.200000   88.000000   \n",
              "50%     13.050000    1.865000    2.360000          19.500000   98.000000   \n",
              "75%     13.677500    3.082500    2.557500          21.500000  107.000000   \n",
              "max     14.830000    5.800000    3.230000          30.000000  162.000000   \n",
              "\n",
              "       total_phenols  flavanoids  nonflavanoid_phenols  proanthocyanins  \\\n",
              "count     178.000000  178.000000            178.000000       178.000000   \n",
              "mean        2.295112    2.029270              0.361854         1.590899   \n",
              "std         0.625851    0.998859              0.124453         0.572359   \n",
              "min         0.980000    0.340000              0.130000         0.410000   \n",
              "25%         1.742500    1.205000              0.270000         1.250000   \n",
              "50%         2.355000    2.135000              0.340000         1.555000   \n",
              "75%         2.800000    2.875000              0.437500         1.950000   \n",
              "max         3.880000    5.080000              0.660000         3.580000   \n",
              "\n",
              "       color_intensity         hue  od280/od315_of_diluted_wines      proline  \\\n",
              "count       178.000000  178.000000                    178.000000   178.000000   \n",
              "mean          5.058090    0.957449                      2.611685   746.893258   \n",
              "std           2.318286    0.228572                      0.709990   314.907474   \n",
              "min           1.280000    0.480000                      1.270000   278.000000   \n",
              "25%           3.220000    0.782500                      1.937500   500.500000   \n",
              "50%           4.690000    0.965000                      2.780000   673.500000   \n",
              "75%           6.200000    1.120000                      3.170000   985.000000   \n",
              "max          13.000000    1.710000                      4.000000  1680.000000   \n",
              "\n",
              "            class  \n",
              "count  178.000000  \n",
              "mean     0.938202  \n",
              "std      0.775035  \n",
              "min      0.000000  \n",
              "25%      0.000000  \n",
              "50%      1.000000  \n",
              "75%      2.000000  \n",
              "max      2.000000  "
            ]
          },
          "execution_count": 3,
          "metadata": {},
          "output_type": "execute_result"
        }
      ],
      "source": [
        "#COMPLETAR\n",
        "data = pd.DataFrame(dataset[\"data\"], columns=dataset[\"feature_names\"])\n",
        "target = pd.DataFrame(dataset[\"target\"], columns= [\"class\"])\n",
        "\n",
        "data[\"class\"] = target[\"class\"]\n",
        "\n",
        "data.describe()"
      ]
    },
    {
      "cell_type": "markdown",
      "metadata": {
        "id": "XaiZ0yDypKz2"
      },
      "source": [
        "Paso 1.4: Si es necesario, realiza un preprocesado de las variables (eliminar valores perdidos, escalar valores, etc)."
      ]
    },
    {
      "cell_type": "code",
      "execution_count": 4,
      "metadata": {
        "id": "xtct2pZjpT5R"
      },
      "outputs": [
        {
          "name": "stdout",
          "output_type": "stream",
          "text": [
            "1    71\n",
            "0    59\n",
            "2    48\n",
            "Name: class, dtype: int64\n",
            "2    48\n",
            "1    48\n",
            "0    48\n",
            "Name: class, dtype: int64\n"
          ]
        }
      ],
      "source": [
        "#COMPLETAR\n",
        "print(target[\"class\"].value_counts())\n",
        "\n",
        "# Equilibramos las clases igualando a la clase minoritaria\n",
        "class_2 = data[data[\"class\"] == 2]\n",
        "class_0 = data[data[\"class\"] == 0][0:len(class_2)]\n",
        "class_1 = data[data[\"class\"] == 1][0:len(class_2)]\n",
        "\n",
        "data_balanced = pd.DataFrame(columns=[\"class\"])\n",
        "data_balanced = data_balanced.append(class_2).append(class_1).append(class_0)\n",
        "\n",
        "print(data_balanced[\"class\"].value_counts())\n",
        "\n",
        "class_type = pd.CategoricalDtype([0, 1, 2], ordered=False)\n",
        "\n",
        "y = data_balanced[\"class\"].astype(class_type)\n",
        "\n",
        "x = data_balanced.drop([\"class\"], axis=1)\n"
      ]
    },
    {
      "cell_type": "markdown",
      "metadata": {
        "id": "wwGNSTh4ml6q"
      },
      "source": [
        "*Añade aquí una breve explicación de las decisiones tomadas en el apartado 1.*"
      ]
    },
    {
      "cell_type": "markdown",
      "metadata": {
        "id": "plganWApTE65"
      },
      "source": [
        "## 2. Ejecución de métodos de regresión múltiple\n",
        "Paso 2.1: Particiona el conjunto de datos en entrenamiento y test."
      ]
    },
    {
      "cell_type": "code",
      "execution_count": 5,
      "metadata": {
        "id": "ak23fq7urGqm"
      },
      "outputs": [],
      "source": [
        "#COMPLETAR\n",
        "x_train, x_test, y_train, y_test = train_test_split(x, y, test_size=0.33)\n"
      ]
    },
    {
      "cell_type": "markdown",
      "metadata": {
        "id": "8m5a-eU5rrU0"
      },
      "source": [
        "Paso 2.2: Configura y realiza el ajuste del primer método de regresión elegido. Utiliza solo la partición de entrenamiento."
      ]
    },
    {
      "cell_type": "code",
      "execution_count": 6,
      "metadata": {
        "id": "gI2GfPxQrGKp"
      },
      "outputs": [],
      "source": [
        "#COMPLETAR\n",
        "alg = LogisticRegression() \n",
        "\n",
        "modelo_logistic = alg.fit(x_train, y_train)"
      ]
    },
    {
      "cell_type": "markdown",
      "metadata": {
        "id": "OLubCXB4rug7"
      },
      "source": [
        "Paso 2.3: Configura y realiza el ajuste del segundo método de regresión elegido. Utiliza solo la partición de entrenamiento."
      ]
    },
    {
      "cell_type": "code",
      "execution_count": 7,
      "metadata": {
        "id": "yXetIREtrxfQ"
      },
      "outputs": [],
      "source": [
        "#COMPLETAR\n",
        "alg = Ridge()\n",
        "\n",
        "modelo_ridge = alg.fit(x_train, y_train)"
      ]
    },
    {
      "cell_type": "markdown",
      "metadata": {
        "id": "V7Pt84Om1kE4"
      },
      "source": [
        "*Añade aquí una breve explicación de las decisiones tomadas en el apartado 2*"
      ]
    },
    {
      "cell_type": "markdown",
      "metadata": {
        "id": "zB6Vot_at2dF"
      },
      "source": [
        "## 3. Evaluación de los modelos de regresión obtenidos\n"
      ]
    },
    {
      "cell_type": "markdown",
      "metadata": {
        "id": "HMGT3olJ2prQ"
      },
      "source": [
        "Paso 3.1: Muesta la información sobre los modelos obtenidos (valores de los coeficientes, calidad del ajuste, estadísticos, etc.)"
      ]
    },
    {
      "cell_type": "code",
      "execution_count": 8,
      "metadata": {},
      "outputs": [
        {
          "name": "stdout",
          "output_type": "stream",
          "text": [
            "LogisticRegression - intercepto: [-0.03950783  0.08557232 -0.04606449]\n",
            "LogisticRegression - coeficientes : [('alcohol', -0.195366347141348), ('malic_acid', 0.22351712348257965), ('ash', 0.1449145786832566), ('alcalinity_of_ash', -0.3102898914354726), ('magnesium', -0.013271683305096635), ('total_phenols', 0.23039569010073796), ('flavanoids', 0.4325999149019296), ('nonflavanoid_phenols', -0.017534065203801564), ('proanthocyanins', 0.13400807972585696), ('color_intensity', 0.10769871168164213), ('hue', -0.020102409134289928), ('od280/od315_of_diluted_wines', 0.2267305853903654), ('proline', 0.009029964870805682)]\n",
            "LogisticRegression - R^2: 0.9583333333333334\n"
          ]
        }
      ],
      "source": [
        "print(\"LogisticRegression - intercepto: \" + str(modelo_logistic.intercept_))\n",
        "print(\"LogisticRegression - coeficientes :\", list(zip(x_train.columns, modelo_logistic.coef_.flatten(), )))\n",
        "print(\"LogisticRegression - R^2: \" + str(modelo_logistic.score(x_train, y_train)))"
      ]
    },
    {
      "cell_type": "code",
      "execution_count": 9,
      "metadata": {
        "id": "y2MKrwEI24YP"
      },
      "outputs": [
        {
          "name": "stdout",
          "output_type": "stream",
          "text": [
            "Ridge - intercepto: 2.485751736135754\n",
            "Ridge - coeficientes : [('alcohol', -0.026070367509317238), ('malic_acid', 0.031546211616761306), ('ash', -0.32828233635671256), ('alcalinity_of_ash', 0.051437210030541095), ('magnesium', -0.001381253515372192), ('total_phenols', 0.20260120080352792), ('flavanoids', -0.4054903926744441), ('nonflavanoid_phenols', -0.20629399075053279), ('proanthocyanins', 0.03321978479535253), ('color_intensity', 0.06527584520994045), ('hue', -0.13507099194367117), ('od280/od315_of_diluted_wines', -0.2617720632884559), ('proline', -0.000698909524835084)]\n",
            "Ridge - R^2: 0.9200581488409152\n"
          ]
        }
      ],
      "source": [
        "#COMPLETAR\n",
        "print(\"Ridge - intercepto: \" + str(modelo_ridge.intercept_))\n",
        "print(\"Ridge - coeficientes :\", list(zip(x_train.columns, modelo_ridge.coef_.flatten(), )))\n",
        "print(\"Ridge - R^2: \" + str(modelo_ridge.score(x_train, y_train)))\n"
      ]
    },
    {
      "cell_type": "markdown",
      "metadata": {
        "id": "7B6H-zjxucOz"
      },
      "source": [
        "Paso 3.2: Utiliza los modelos obtenidos en el apartado anterior para predecir sobre la partición de test."
      ]
    },
    {
      "cell_type": "code",
      "execution_count": 10,
      "metadata": {
        "id": "Ibz5RsBbUHI2"
      },
      "outputs": [],
      "source": [
        "#COMPLETAR\n",
        "y_pred_log = modelo_logistic.predict(x_test)\n",
        "y_pred_ridge = modelo_ridge.predict(x_test)"
      ]
    },
    {
      "cell_type": "markdown",
      "metadata": {
        "id": "eLiQkHwXeN0A"
      },
      "source": [
        "Paso 3.3: Calcula métricas de evaluación para estudiar la calidad de la estimación"
      ]
    },
    {
      "cell_type": "code",
      "execution_count": 11,
      "metadata": {
        "id": "JNhJBjgmefxR"
      },
      "outputs": [
        {
          "name": "stdout",
          "output_type": "stream",
          "text": [
            "LogisticeRegression - RMSE: 0.0625\n",
            "LogisticeRegression - MAE: 0.0625\n",
            "LogisticeRegression - R_2: 0.9085714285714286\n",
            "\n",
            "\n",
            "Ridge - RMSE: 0.07575753304330281\n",
            "Ridge - MAE: 0.23061008454314744\n",
            "Ridge - R_2: 0.8891775516623684\n"
          ]
        }
      ],
      "source": [
        "#COMPLETAR\n",
        "print(\"LogisticeRegression - RMSE: \" + str(mean_squared_error(y_test, y_pred_log)))\n",
        "print(\"LogisticeRegression - MAE: \" + str(mean_absolute_error(y_test, y_pred_log)))\n",
        "print(\"LogisticeRegression - R_2: \" + str(r2_score(y_test, y_pred_log)))\n",
        "\n",
        "print()\n",
        "print()\n",
        "\n",
        "print(\"Ridge - RMSE: \" + str(mean_squared_error(y_test, y_pred_ridge)))\n",
        "print(\"Ridge - MAE: \" + str(mean_absolute_error(y_test, y_pred_ridge)))\n",
        "print(\"Ridge - R_2: \" + str(r2_score(y_test, y_pred_ridge)))"
      ]
    },
    {
      "cell_type": "markdown",
      "metadata": {
        "id": "ujXA-xYfxm7v"
      },
      "source": [
        "*Añade aquí una breve explicación de los resultados obtenidos en el apartado 3.*"
      ]
    }
  ],
  "metadata": {
    "colab": {
      "collapsed_sections": [],
      "name": "MetodosPredictivos-NotebookTareaSemana2.ipynb",
      "provenance": []
    },
    "kernelspec": {
      "display_name": "Python 3",
      "name": "python3"
    },
    "language_info": {
      "codemirror_mode": {
        "name": "ipython",
        "version": 3
      },
      "file_extension": ".py",
      "mimetype": "text/x-python",
      "name": "python",
      "nbconvert_exporter": "python",
      "pygments_lexer": "ipython3",
      "version": "3.9.5"
    }
  },
  "nbformat": 4,
  "nbformat_minor": 0
}
