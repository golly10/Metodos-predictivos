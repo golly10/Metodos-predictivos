{
  "cells": [
    {
      "cell_type": "markdown",
      "metadata": {
        "id": "fv6Xfdv5gkBG"
      },
      "source": [
        "# Métodos predictivos: tarea de asignación (semana 2)\n",
        "Ya conoces una gran variedad de métodos de regresión múltiple y cómo pueden ajustarse utilizando las librerías *statsmodels* y *scikit-learn*. El objetivo de esta tarea es analizar un conjunto de datos y comparar varios métodos de regresión múltiple para estudiar cómo de bien se ajustan a los datos."
      ]
    },
    {
      "cell_type": "markdown",
      "metadata": {
        "id": "4VQ3pnwChJzK"
      },
      "source": [
        "## Descripción de la tarea\n",
        "La tarea consta de tres apartados:\n",
        "1. Selección y análisis de un conjunto de datos.\n",
        "2. Ejecución de dos métodos de regresión múltiple.\n",
        "3. Evaluación de los modelos de regresión obtenidos, analizando cuál de ellos consigue un mejor ajuste a los datos.\n",
        "\n",
        "## Instrucciones\n",
        "En este *notebook* no se presenta parte del código desarrollado, pero sí se indican los pasos mínimos que debe seguir el estudiante para completar la tarea. El estudiante puede añadir otras celdas de código según sea necesario, pero respetando la organización de apartados propuesta. El estudiante puede elegir entre trabajar con *statsmodels* o con *scikit-learn*.\n"
      ]
    },
    {
      "cell_type": "markdown",
      "metadata": {
        "id": "NwRpSkEWrlnQ"
      },
      "source": [
        "## 1. Selección y análisis de un conjunto de datos\n",
        "Paso 1.1: Importa los paquetes necesarios."
      ]
    },
    {
      "cell_type": "code",
      "execution_count": 56,
      "metadata": {
        "id": "2fhR1bgYrjqb"
      },
      "outputs": [],
      "source": [
        "#COMPLETAR\n",
        "from sklearn.datasets import load_diabetes\n",
        "from sklearn.linear_model import LinearRegression\n",
        "\n",
        "import pandas as pd"
      ]
    },
    {
      "cell_type": "markdown",
      "metadata": {
        "id": "xU-iY4tLtE-Z"
      },
      "source": [
        "Paso 1.2: Carga un conjunto de datos de entre los disponibles en la librería seleccionada. Puedes encontrarlos en:\n",
        "\n",
        "\n",
        "*   statsmodels: https://www.statsmodels.org/stable/datasets/index.html\n",
        "*   scikit-learn: https://scikit-learn.org/stable/datasets.html\n",
        "\n"
      ]
    },
    {
      "cell_type": "code",
      "execution_count": 57,
      "metadata": {
        "id": "a86vFoXhvcEQ"
      },
      "outputs": [],
      "source": [
        "#COMPLETAR\n",
        "data = load_diabetes()\n",
        "\n",
        "cols = data[\"feature_names\"]\n",
        "\n",
        "x = pd.DataFrame(data[\"data\"], columns= cols)\n",
        "y = pd.DataFrame(data[\"target\"], columns=['age'])"
      ]
    },
    {
      "cell_type": "markdown",
      "metadata": {
        "id": "cusEl0Xc5Y4C"
      },
      "source": [
        "Paso 1.3: Muestra información acerca de la distribución de las características en el conjunto de datos elegido."
      ]
    },
    {
      "cell_type": "code",
      "execution_count": 58,
      "metadata": {
        "id": "2PTlF-EG58gB"
      },
      "outputs": [
        {
          "name": "stdout",
          "output_type": "stream",
          "text": [
            "Las columnas que siguen probablemente sigan una distribución normal son: ['s5', 's6']\n",
            "Las columnas que siguen probablemente sigan una distribución normal son: ['age', 'sex', 'bmi', 'bp', 's1', 's2', 's3', 's4']\n",
            "          age       sex       bmi        bp        s1        s2        s3  \\\n",
            "age  1.000000  0.173737  0.185085  0.335427  0.260061  0.219243 -0.075181   \n",
            "sex  0.173737  1.000000  0.088161  0.241013  0.035277  0.142637 -0.379090   \n",
            "bmi  0.185085  0.088161  1.000000  0.395415  0.249777  0.261170 -0.366811   \n",
            "bp   0.335427  0.241013  0.395415  1.000000  0.242470  0.185558 -0.178761   \n",
            "s1   0.260061  0.035277  0.249777  0.242470  1.000000  0.896663  0.051519   \n",
            "s2   0.219243  0.142637  0.261170  0.185558  0.896663  1.000000 -0.196455   \n",
            "s3  -0.075181 -0.379090 -0.366811 -0.178761  0.051519 -0.196455  1.000000   \n",
            "s4   0.203841  0.332115  0.413807  0.257653  0.542207  0.659817 -0.738493   \n",
            "s5   0.270777  0.149918  0.446159  0.393478  0.515501  0.318353 -0.398577   \n",
            "s6   0.301731  0.208133  0.388680  0.390429  0.325717  0.290600 -0.273697   \n",
            "\n",
            "           s4        s5        s6  \n",
            "age  0.203841  0.270777  0.301731  \n",
            "sex  0.332115  0.149918  0.208133  \n",
            "bmi  0.413807  0.446159  0.388680  \n",
            "bp   0.257653  0.393478  0.390429  \n",
            "s1   0.542207  0.515501  0.325717  \n",
            "s2   0.659817  0.318353  0.290600  \n",
            "s3  -0.738493 -0.398577 -0.273697  \n",
            "s4   1.000000  0.617857  0.417212  \n",
            "s5   0.617857  1.000000  0.464670  \n",
            "s6   0.417212  0.464670  1.000000  \n"
          ]
        }
      ],
      "source": [
        "#COMPLETAR\n",
        "\n",
        "# for col in x.columns:\n",
        "#  x.hist(column= col, bins=20)\n",
        "\n",
        "from scipy.stats import normaltest\n",
        "\n",
        "normal_cols = []\n",
        "not_normal_cols = []\n",
        "for col in x.columns:\n",
        "    stat, p = normaltest(x[col], )\n",
        "\n",
        "    if p > 0.01:\n",
        "        normal_cols.append(col)\n",
        "    else:\n",
        "        not_normal_cols.append(col)\n",
        "\n",
        "print(\"Las columnas que siguen probablemente sigan una distribución normal son: \" + str(normal_cols))\n",
        "print(\"Las columnas que siguen probablemente sigan una distribución normal son: \" + str(not_normal_cols))\n",
        "\n",
        "print(x.corr())"
      ]
    },
    {
      "cell_type": "markdown",
      "metadata": {
        "id": "XaiZ0yDypKz2"
      },
      "source": [
        "Paso 1.4: Si es necesario, realiza un preprocesado de las variables (eliminar valores perdidos, escalar valores, etc)."
      ]
    },
    {
      "cell_type": "code",
      "execution_count": 59,
      "metadata": {
        "id": "xtct2pZjpT5R"
      },
      "outputs": [],
      "source": [
        "#COMPLETAR"
      ]
    },
    {
      "cell_type": "markdown",
      "metadata": {
        "id": "wwGNSTh4ml6q"
      },
      "source": [
        "*Añade aquí una breve explicación de las decisiones tomadas en el apartado 1.*"
      ]
    },
    {
      "cell_type": "markdown",
      "metadata": {
        "id": "plganWApTE65"
      },
      "source": [
        "## 2. Ejecución de métodos de regresión múltiple\n",
        "Paso 2.1: Particiona el conjunto de datos en entrenamiento y test."
      ]
    },
    {
      "cell_type": "code",
      "execution_count": 60,
      "metadata": {
        "id": "ak23fq7urGqm"
      },
      "outputs": [],
      "source": [
        "#COMPLETAR\n",
        "from sklearn.model_selection import train_test_split\n",
        "\n",
        "x_train, x_test, y_train, y_test = train_test_split(x, y, test_size=0.33)\n"
      ]
    },
    {
      "cell_type": "markdown",
      "metadata": {
        "id": "8m5a-eU5rrU0"
      },
      "source": [
        "Paso 2.2: Configura y realiza el ajuste del primer método de regresión elegido. Utiliza solo la partición de entrenamiento."
      ]
    },
    {
      "cell_type": "code",
      "execution_count": 61,
      "metadata": {
        "id": "gI2GfPxQrGKp"
      },
      "outputs": [
        {
          "name": "stdout",
          "output_type": "stream",
          "text": [
            "[  45.11986132  -47.94694313  265.51765394  172.443674     42.04352851\n",
            "   24.03030997 -148.07862862  132.11773395  214.69948165  119.43563568]\n"
          ]
        }
      ],
      "source": [
        "#COMPLETAR\n",
        "from sklearn.linear_model import SGDRegressor\n",
        "\n",
        "alg = SGDRegressor()\n",
        "\n",
        "modelo = alg.fit(x_train, y_train)\n",
        "\n",
        "print(modelo.coef_)"
      ]
    },
    {
      "cell_type": "markdown",
      "metadata": {
        "id": "OLubCXB4rug7"
      },
      "source": [
        "Paso 2.3: Configura y realiza el ajuste del segundo método de regresión elegido. Utiliza solo la partición de entrenamiento."
      ]
    },
    {
      "cell_type": "code",
      "execution_count": 62,
      "metadata": {
        "id": "yXetIREtrxfQ"
      },
      "outputs": [],
      "source": [
        "#COMPLETAR"
      ]
    },
    {
      "cell_type": "markdown",
      "metadata": {
        "id": "V7Pt84Om1kE4"
      },
      "source": [
        "*Añade aquí una breve explicación de las decisiones tomadas en el apartado 2*"
      ]
    },
    {
      "cell_type": "markdown",
      "metadata": {
        "id": "zB6Vot_at2dF"
      },
      "source": [
        "## 3. Evaluación de los modelos de regresión obtenidos\n"
      ]
    },
    {
      "cell_type": "markdown",
      "metadata": {
        "id": "HMGT3olJ2prQ"
      },
      "source": [
        "Paso 3.1: Muesta la información sobre los modelos obtenidos (valores de los coeficientes, calidad del ajuste, estadísticos, etc.)"
      ]
    },
    {
      "cell_type": "code",
      "execution_count": 63,
      "metadata": {
        "id": "y2MKrwEI24YP"
      },
      "outputs": [],
      "source": [
        "#COMPLETAR"
      ]
    },
    {
      "cell_type": "markdown",
      "metadata": {
        "id": "7B6H-zjxucOz"
      },
      "source": [
        "Paso 3.2: Utiliza los modelos obtenidos en el apartado anterior para predecir sobre la partición de test."
      ]
    },
    {
      "cell_type": "code",
      "execution_count": 64,
      "metadata": {
        "id": "Ibz5RsBbUHI2"
      },
      "outputs": [],
      "source": [
        "#COMPLETAR"
      ]
    },
    {
      "cell_type": "markdown",
      "metadata": {
        "id": "eLiQkHwXeN0A"
      },
      "source": [
        "Paso 3.3: Calcula métricas de evaluación para estudiar la calidad de la estimación"
      ]
    },
    {
      "cell_type": "code",
      "execution_count": 65,
      "metadata": {
        "id": "JNhJBjgmefxR"
      },
      "outputs": [],
      "source": [
        "#COMPLETAR"
      ]
    },
    {
      "cell_type": "markdown",
      "metadata": {
        "id": "ujXA-xYfxm7v"
      },
      "source": [
        "*Añade aquí una breve explicación de los resultados obtenidos en el apartado 3.*"
      ]
    }
  ],
  "metadata": {
    "colab": {
      "collapsed_sections": [],
      "name": "MetodosPredictivos-NotebookTareaSemana2.ipynb",
      "provenance": []
    },
    "kernelspec": {
      "display_name": "Python 3",
      "name": "python3"
    },
    "language_info": {
      "codemirror_mode": {
        "name": "ipython",
        "version": 3
      },
      "file_extension": ".py",
      "mimetype": "text/x-python",
      "name": "python",
      "nbconvert_exporter": "python",
      "pygments_lexer": "ipython3",
      "version": "3.9.5"
    }
  },
  "nbformat": 4,
  "nbformat_minor": 0
}
