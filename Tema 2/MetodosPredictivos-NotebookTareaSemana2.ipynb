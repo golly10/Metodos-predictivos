{
  "cells": [
    {
      "cell_type": "markdown",
      "metadata": {
        "id": "fv6Xfdv5gkBG"
      },
      "source": [
        "# Métodos predictivos: tarea de asignación (semana 2)\n",
        "Ya conoces una gran variedad de métodos de regresión múltiple y cómo pueden ajustarse utilizando las librerías *statsmodels* y *scikit-learn*. El objetivo de esta tarea es analizar un conjunto de datos y comparar varios métodos de regresión múltiple para estudiar cómo de bien se ajustan a los datos."
      ]
    },
    {
      "cell_type": "markdown",
      "metadata": {
        "id": "4VQ3pnwChJzK"
      },
      "source": [
        "## Descripción de la tarea\n",
        "La tarea consta de tres apartados:\n",
        "1. Selección y análisis de un conjunto de datos.\n",
        "2. Ejecución de dos métodos de regresión múltiple.\n",
        "3. Evaluación de los modelos de regresión obtenidos, analizando cuál de ellos consigue un mejor ajuste a los datos.\n",
        "\n",
        "## Instrucciones\n",
        "En este *notebook* no se presenta parte del código desarrollado, pero sí se indican los pasos mínimos que debe seguir el estudiante para completar la tarea. El estudiante puede añadir otras celdas de código según sea necesario, pero respetando la organización de apartados propuesta. El estudiante puede elegir entre trabajar con *statsmodels* o con *scikit-learn*.\n"
      ]
    },
    {
      "cell_type": "markdown",
      "metadata": {
        "id": "NwRpSkEWrlnQ"
      },
      "source": [
        "## 1. Selección y análisis de un conjunto de datos\n",
        "Paso 1.1: Importa los paquetes necesarios."
      ]
    },
    {
      "cell_type": "code",
      "execution_count": 1,
      "metadata": {
        "id": "2fhR1bgYrjqb"
      },
      "outputs": [],
      "source": [
        "#COMPLETAR\n",
        "from sklearn.datasets import load_diabetes\n",
        "from sklearn.model_selection import train_test_split\n",
        "from sklearn.metrics import mean_squared_error, r2_score, mean_absolute_error\n",
        "from sklearn.linear_model import LinearRegression, SGDRegressor\n",
        "import pandas as pd"
      ]
    },
    {
      "cell_type": "markdown",
      "metadata": {
        "id": "xU-iY4tLtE-Z"
      },
      "source": [
        "Paso 1.2: Carga un conjunto de datos de entre los disponibles en la librería seleccionada. Puedes encontrarlos en:\n",
        "\n",
        "\n",
        "*   statsmodels: https://www.statsmodels.org/stable/datasets/index.html\n",
        "*   scikit-learn: https://scikit-learn.org/stable/datasets.html\n",
        "\n"
      ]
    },
    {
      "cell_type": "code",
      "execution_count": 2,
      "metadata": {
        "id": "a86vFoXhvcEQ"
      },
      "outputs": [],
      "source": [
        "#COMPLETAR\n",
        "data = load_diabetes()\n",
        "\n",
        "cols = data[\"feature_names\"]\n",
        "\n",
        "x = pd.DataFrame(data[\"data\"], columns= cols)\n",
        "y = pd.DataFrame(data[\"target\"], columns=['age'])"
      ]
    },
    {
      "cell_type": "markdown",
      "metadata": {
        "id": "cusEl0Xc5Y4C"
      },
      "source": [
        "Paso 1.3: Muestra información acerca de la distribución de las características en el conjunto de datos elegido."
      ]
    },
    {
      "cell_type": "code",
      "execution_count": 3,
      "metadata": {
        "id": "2PTlF-EG58gB"
      },
      "outputs": [
        {
          "name": "stdout",
          "output_type": "stream",
          "text": [
            "                age           sex           bmi            bp            s1  \\\n",
            "count  4.420000e+02  4.420000e+02  4.420000e+02  4.420000e+02  4.420000e+02   \n",
            "mean  -3.639623e-16  1.309912e-16 -8.013951e-16  1.289818e-16 -9.042540e-17   \n",
            "std    4.761905e-02  4.761905e-02  4.761905e-02  4.761905e-02  4.761905e-02   \n",
            "min   -1.072256e-01 -4.464164e-02 -9.027530e-02 -1.123996e-01 -1.267807e-01   \n",
            "25%   -3.729927e-02 -4.464164e-02 -3.422907e-02 -3.665645e-02 -3.424784e-02   \n",
            "50%    5.383060e-03 -4.464164e-02 -7.283766e-03 -5.670611e-03 -4.320866e-03   \n",
            "75%    3.807591e-02  5.068012e-02  3.124802e-02  3.564384e-02  2.835801e-02   \n",
            "max    1.107267e-01  5.068012e-02  1.705552e-01  1.320442e-01  1.539137e-01   \n",
            "\n",
            "                 s2            s3            s4            s5            s6  \n",
            "count  4.420000e+02  4.420000e+02  4.420000e+02  4.420000e+02  4.420000e+02  \n",
            "mean   1.301121e-16 -4.563971e-16  3.863174e-16 -3.848103e-16 -3.398488e-16  \n",
            "std    4.761905e-02  4.761905e-02  4.761905e-02  4.761905e-02  4.761905e-02  \n",
            "min   -1.156131e-01 -1.023071e-01 -7.639450e-02 -1.260974e-01 -1.377672e-01  \n",
            "25%   -3.035840e-02 -3.511716e-02 -3.949338e-02 -3.324879e-02 -3.317903e-02  \n",
            "50%   -3.819065e-03 -6.584468e-03 -2.592262e-03 -1.947634e-03 -1.077698e-03  \n",
            "75%    2.984439e-02  2.931150e-02  3.430886e-02  3.243323e-02  2.791705e-02  \n",
            "max    1.987880e-01  1.811791e-01  1.852344e-01  1.335990e-01  1.356118e-01  \n"
          ]
        }
      ],
      "source": [
        "#COMPLETAR\n",
        "\n",
        "# for col in x.columns:\n",
        "#  x.hist(column= col, bins=20)\n",
        "\n",
        "# from scipy.stats import normaltest\n",
        "\n",
        "# normal_cols = []\n",
        "# not_normal_cols = []\n",
        "# for col in x.columns:\n",
        "#     stat, p = normaltest(x[col], )\n",
        "\n",
        "#     if p > 0.01:\n",
        "#         normal_cols.append(col)\n",
        "#     else:\n",
        "#         not_normal_cols.append(col)\n",
        "\n",
        "# print(\"Las columnas que siguen probablemente sigan una distribución normal son: \" + str(normal_cols))\n",
        "# print(\"Las columnas que siguen probablemente sigan una distribución normal son: \" + str(not_normal_cols))\n",
        "\n",
        "# print(x.corr())\n",
        "\n",
        "print(x.describe())"
      ]
    },
    {
      "cell_type": "markdown",
      "metadata": {
        "id": "XaiZ0yDypKz2"
      },
      "source": [
        "Paso 1.4: Si es necesario, realiza un preprocesado de las variables (eliminar valores perdidos, escalar valores, etc)."
      ]
    },
    {
      "cell_type": "code",
      "execution_count": 4,
      "metadata": {
        "id": "xtct2pZjpT5R"
      },
      "outputs": [],
      "source": [
        "#COMPLETAR"
      ]
    },
    {
      "cell_type": "markdown",
      "metadata": {
        "id": "wwGNSTh4ml6q"
      },
      "source": [
        "*Añade aquí una breve explicación de las decisiones tomadas en el apartado 1.*"
      ]
    },
    {
      "cell_type": "markdown",
      "metadata": {
        "id": "plganWApTE65"
      },
      "source": [
        "## 2. Ejecución de métodos de regresión múltiple\n",
        "Paso 2.1: Particiona el conjunto de datos en entrenamiento y test."
      ]
    },
    {
      "cell_type": "code",
      "execution_count": 5,
      "metadata": {
        "id": "ak23fq7urGqm"
      },
      "outputs": [],
      "source": [
        "#COMPLETAR\n",
        "x_train, x_test, y_train, y_test = train_test_split(x, y, test_size=0.33)\n"
      ]
    },
    {
      "cell_type": "markdown",
      "metadata": {
        "id": "8m5a-eU5rrU0"
      },
      "source": [
        "Paso 2.2: Configura y realiza el ajuste del primer método de regresión elegido. Utiliza solo la partición de entrenamiento."
      ]
    },
    {
      "cell_type": "code",
      "execution_count": 6,
      "metadata": {
        "id": "gI2GfPxQrGKp"
      },
      "outputs": [],
      "source": [
        "#COMPLETAR\n",
        "alg = LinearRegression() \n",
        "\n",
        "modelo_linear = alg.fit(x_train, y_train)"
      ]
    },
    {
      "cell_type": "markdown",
      "metadata": {
        "id": "OLubCXB4rug7"
      },
      "source": [
        "Paso 2.3: Configura y realiza el ajuste del segundo método de regresión elegido. Utiliza solo la partición de entrenamiento."
      ]
    },
    {
      "cell_type": "code",
      "execution_count": 7,
      "metadata": {
        "id": "yXetIREtrxfQ"
      },
      "outputs": [],
      "source": [
        "#COMPLETAR\n",
        "alg = SGDRegressor()\n",
        "\n",
        "modelo_sgd = alg.fit(x_train, y_train)\n"
      ]
    },
    {
      "cell_type": "markdown",
      "metadata": {
        "id": "V7Pt84Om1kE4"
      },
      "source": [
        "*Añade aquí una breve explicación de las decisiones tomadas en el apartado 2*"
      ]
    },
    {
      "cell_type": "markdown",
      "metadata": {
        "id": "zB6Vot_at2dF"
      },
      "source": [
        "## 3. Evaluación de los modelos de regresión obtenidos\n"
      ]
    },
    {
      "cell_type": "markdown",
      "metadata": {
        "id": "HMGT3olJ2prQ"
      },
      "source": [
        "Paso 3.1: Muesta la información sobre los modelos obtenidos (valores de los coeficientes, calidad del ajuste, estadísticos, etc.)"
      ]
    },
    {
      "cell_type": "code",
      "execution_count": 8,
      "metadata": {},
      "outputs": [
        {
          "name": "stdout",
          "output_type": "stream",
          "text": [
            "LinearRegression - intercepto: [154.49527007]\n",
            "LinearRegression - coeficientes : [('age', -68.01046964547197), ('sex', -228.88223594991), ('bmi', 593.6455684368067), ('bp', 265.6434571561307), ('s1', -780.3851874429133), ('s2', 443.03169518094353), ('s3', 117.93535401519216), ('s4', 176.77526981730642), ('s5', 735.1283675374067), ('s6', 80.5923860327629)]\n",
            "LinearRegression - R^2: 0.5353686672892091\n"
          ]
        }
      ],
      "source": [
        "print(\"LinearRegression - intercepto: \" + str(modelo_linear.intercept_))\n",
        "print(\"LinearRegression - coeficientes :\", list(zip(x_train.columns, modelo_linear.coef_.flatten(), )))\n",
        "print(\"LinearRegression - R^2: \" + str(modelo_linear.score(x_train, y_train)))"
      ]
    },
    {
      "cell_type": "code",
      "execution_count": 9,
      "metadata": {
        "id": "y2MKrwEI24YP"
      },
      "outputs": [
        {
          "name": "stdout",
          "output_type": "stream",
          "text": [
            "SGD - intercepto: [157.06295761]\n",
            "SGD - coeficientes : [('age', 31.50868659984385), ('sex', -23.87603111119971), ('bmi', 241.91700432024078), ('bp', 159.1298872992367), ('s1', 34.52750882872461), ('s2', 12.580931319636798), ('s3', -137.3269834441361), ('s4', 123.17927313509443), ('s5', 201.31995998777188), ('s6', 124.15734043572864)]\n",
            "SGD - R^2: 0.4172714723597656\n"
          ]
        }
      ],
      "source": [
        "#COMPLETAR\n",
        "print(\"SGD - intercepto: \" + str(modelo_sgd.intercept_))\n",
        "print(\"SGD - coeficientes :\", list(zip(x_train.columns, modelo_sgd.coef_.flatten(), )))\n",
        "print(\"SGD - R^2: \" + str(modelo_sgd.score(x_train, y_train)))\n"
      ]
    },
    {
      "cell_type": "markdown",
      "metadata": {
        "id": "7B6H-zjxucOz"
      },
      "source": [
        "Paso 3.2: Utiliza los modelos obtenidos en el apartado anterior para predecir sobre la partición de test."
      ]
    },
    {
      "cell_type": "code",
      "execution_count": 10,
      "metadata": {
        "id": "Ibz5RsBbUHI2"
      },
      "outputs": [],
      "source": [
        "#COMPLETAR\n",
        "y_pred_lin = modelo_linear.predict(x_test)\n",
        "y_pred_sgd = modelo_sgd.predict(x_test)"
      ]
    },
    {
      "cell_type": "markdown",
      "metadata": {
        "id": "eLiQkHwXeN0A"
      },
      "source": [
        "Paso 3.3: Calcula métricas de evaluación para estudiar la calidad de la estimación"
      ]
    },
    {
      "cell_type": "code",
      "execution_count": 11,
      "metadata": {
        "id": "JNhJBjgmefxR"
      },
      "outputs": [
        {
          "name": "stdout",
          "output_type": "stream",
          "text": [
            "LinearRegression - RMSE: 3274.5851974143266\n",
            "LinearRegression - MAE: 45.997305003431656\n",
            "LinearRegression - R_2: 0.44922506456291256\n",
            "\n",
            "\n",
            "SGD - RMSE: 3873.826364130839\n",
            "SGD - MAE: 53.71635863397357\n",
            "SGD - R_2: 0.34843458423882656\n"
          ]
        }
      ],
      "source": [
        "#COMPLETAR\n",
        "print(\"LinearRegression - RMSE: \" + str(mean_squared_error(y_test, y_pred_lin)))\n",
        "print(\"LinearRegression - MAE: \" + str(mean_absolute_error(y_test, y_pred_lin)))\n",
        "print(\"LinearRegression - R_2: \" + str(r2_score(y_test, y_pred_lin)))\n",
        "\n",
        "print()\n",
        "print()\n",
        "\n",
        "print(\"SGD - RMSE: \" + str(mean_squared_error(y_test, y_pred_sgd)))\n",
        "print(\"SGD - MAE: \" + str(mean_absolute_error(y_test, y_pred_sgd)))\n",
        "print(\"SGD - R_2: \" + str(r2_score(y_test, y_pred_sgd)))"
      ]
    },
    {
      "cell_type": "markdown",
      "metadata": {
        "id": "ujXA-xYfxm7v"
      },
      "source": [
        "*Añade aquí una breve explicación de los resultados obtenidos en el apartado 3.*"
      ]
    }
  ],
  "metadata": {
    "colab": {
      "collapsed_sections": [],
      "name": "MetodosPredictivos-NotebookTareaSemana2.ipynb",
      "provenance": []
    },
    "kernelspec": {
      "display_name": "Python 3",
      "name": "python3"
    },
    "language_info": {
      "codemirror_mode": {
        "name": "ipython",
        "version": 3
      },
      "file_extension": ".py",
      "mimetype": "text/x-python",
      "name": "python",
      "nbconvert_exporter": "python",
      "pygments_lexer": "ipython3",
      "version": "3.9.5"
    }
  },
  "nbformat": 4,
  "nbformat_minor": 0
}
