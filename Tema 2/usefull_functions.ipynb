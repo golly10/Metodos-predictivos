{
 "cells": [
  {
   "cell_type": "markdown",
   "metadata": {},
   "source": [
    "# Librería statsmodel\n",
    "\n",
    "## Regresión multiple"
   ]
  },
  {
   "cell_type": "code",
   "execution_count": 8,
   "metadata": {},
   "outputs": [
    {
     "name": "stdout",
     "output_type": "stream",
     "text": [
      "                            OLS Regression Results                            \n",
      "==============================================================================\n",
      "Dep. Variable:                      y   R-squared:                       0.853\n",
      "Model:                            OLS   Adj. R-squared:                  0.847\n",
      "Method:                 Least Squares   F-statistic:                     136.3\n",
      "Date:                Mon, 24 Jan 2022   Prob (F-statistic):           2.74e-20\n",
      "Time:                        19:49:01   Log-Likelihood:                -70.303\n",
      "No. Observations:                  50   AIC:                             146.6\n",
      "Df Residuals:                      47   BIC:                             152.3\n",
      "Df Model:                           2                                         \n",
      "Covariance Type:            nonrobust                                         \n",
      "==============================================================================\n",
      "                 coef    std err          t      P>|t|      [0.025      0.975]\n",
      "------------------------------------------------------------------------------\n",
      "const          3.2859      0.146     22.527      0.000       2.992       3.579\n",
      "x1             1.8331      0.146     12.543      0.000       1.539       2.127\n",
      "x2             1.0441      0.147      7.126      0.000       0.749       1.339\n",
      "==============================================================================\n",
      "Omnibus:                        2.081   Durbin-Watson:                   2.014\n",
      "Prob(Omnibus):                  0.353   Jarque-Bera (JB):                1.456\n",
      "Skew:                           0.412   Prob(JB):                        0.483\n",
      "Kurtosis:                       3.142   Cond. No.                         1.36\n",
      "==============================================================================\n",
      "\n",
      "Notes:\n",
      "[1] Standard Errors assume that the covariance matrix of the errors is correctly specified.\n"
     ]
    }
   ],
   "source": [
    "import numpy as np\n",
    "import pandas as pd\n",
    "import statsmodels.api as sm\n",
    "\n",
    "tam_muestra = 50\n",
    "x1_val = np.random.normal(0,1, tam_muestra)\n",
    "x2_val = np.random.normal(0,1,tam_muestra)\n",
    "\n",
    "y_val = 3 + 2*x1_val + x2_val + np.random.normal(0,1,tam_muestra)\n",
    "\n",
    "df = pd.DataFrame({'x1': x1_val, 'x2': x2_val, 'y': y_val})\n",
    "\n",
    "x = df[['x1', 'x2']]\n",
    "x = sm.add_constant(x)\n",
    "y = df['y']\n",
    "\n",
    "alg = sm.OLS(y,x)\n",
    "\n",
    "modelo_multiple = alg.fit()\n",
    "\n",
    "print(modelo_multiple.summary())"
   ]
  },
  {
   "cell_type": "markdown",
   "metadata": {},
   "source": [
    "## Regresión lineal generalizada\n",
    "\n",
    "En este tipo de modelo tendremos un parámetro adicional en el que diremos el tipo de distribución que siguen las variables"
   ]
  },
  {
   "cell_type": "code",
   "execution_count": 9,
   "metadata": {},
   "outputs": [
    {
     "name": "stdout",
     "output_type": "stream",
     "text": [
      "                            OLS Regression Results                            \n",
      "==============================================================================\n",
      "Dep. Variable:                      y   R-squared:                       0.853\n",
      "Model:                            OLS   Adj. R-squared:                  0.847\n",
      "Method:                 Least Squares   F-statistic:                     136.3\n",
      "Date:                Mon, 24 Jan 2022   Prob (F-statistic):           2.74e-20\n",
      "Time:                        19:49:01   Log-Likelihood:                -70.303\n",
      "No. Observations:                  50   AIC:                             146.6\n",
      "Df Residuals:                      47   BIC:                             152.3\n",
      "Df Model:                           2                                         \n",
      "Covariance Type:            nonrobust                                         \n",
      "==============================================================================\n",
      "                 coef    std err          t      P>|t|      [0.025      0.975]\n",
      "------------------------------------------------------------------------------\n",
      "const          3.2859      0.146     22.527      0.000       2.992       3.579\n",
      "x1             1.8331      0.146     12.543      0.000       1.539       2.127\n",
      "x2             1.0441      0.147      7.126      0.000       0.749       1.339\n",
      "==============================================================================\n",
      "Omnibus:                        2.081   Durbin-Watson:                   2.014\n",
      "Prob(Omnibus):                  0.353   Jarque-Bera (JB):                1.456\n",
      "Skew:                           0.412   Prob(JB):                        0.483\n",
      "Kurtosis:                       3.142   Cond. No.                         1.36\n",
      "==============================================================================\n",
      "\n",
      "Notes:\n",
      "[1] Standard Errors assume that the covariance matrix of the errors is correctly specified.\n"
     ]
    }
   ],
   "source": [
    "import numpy as np\n",
    "import pandas as pd\n",
    "import statsmodels.api as sm\n",
    "\n",
    "x = np.array([1.3, 2.8, 4.2, 4.5, 6.5, 8.1, 12.3, 13.4, 15.9])\n",
    "y = np.random.poisson(x, len(x))\n",
    "x = sm.add_constant(x)\n",
    "\n",
    "alg_poisson = sm.GLM(y, x, family=sm.families.Poisson())\n",
    "\n",
    "modelo = alg.fit()\n",
    "\n",
    "print(modelo.summary())"
   ]
  },
  {
   "cell_type": "code",
   "execution_count": null,
   "metadata": {},
   "outputs": [],
   "source": []
  }
 ],
 "metadata": {
  "interpreter": {
   "hash": "886528d4fa704a57c46a2cab6f1a60c6257fe4efcbb467e48cdc79739b74065b"
  },
  "kernelspec": {
   "display_name": "Python 3.9.5 64-bit ('master-pvd-8sP1jcqG-py3.9': poetry)",
   "language": "python",
   "name": "python3"
  },
  "language_info": {
   "codemirror_mode": {
    "name": "ipython",
    "version": 3
   },
   "file_extension": ".py",
   "mimetype": "text/x-python",
   "name": "python",
   "nbconvert_exporter": "python",
   "pygments_lexer": "ipython3",
   "version": "3.9.5"
  },
  "orig_nbformat": 4
 },
 "nbformat": 4,
 "nbformat_minor": 2
}
